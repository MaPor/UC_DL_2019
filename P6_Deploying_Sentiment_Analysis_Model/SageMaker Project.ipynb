{
 "cells": [
  {
   "cell_type": "markdown",
   "metadata": {},
   "source": [
    "# Creating a Sentiment Analysis Web App\n",
    "## Using PyTorch and SageMaker\n",
    "\n",
    "_Deep Learning Nanodegree Program | Deployment_\n",
    "\n",
    "---\n",
    "\n",
    "Now that we have a basic understanding of how SageMaker works we will try to use it to construct a complete project from end to end. Our goal will be to have a simple web page which a user can use to enter a movie review. The web page will then send the review off to our deployed model which will predict the sentiment of the entered review.\n",
    "\n",
    "## Instructions\n",
    "\n",
    "Some template code has already been provided for you, and you will need to implement additional functionality to successfully complete this notebook. You will not need to modify the included code beyond what is requested. Sections that begin with '**TODO**' in the header indicate that you need to complete or implement some portion within them. Instructions will be provided for each section and the specifics of the implementation are marked in the code block with a `# TODO: ...` comment. Please be sure to read the instructions carefully!\n",
    "\n",
    "In addition to implementing code, there will be questions for you to answer which relate to the task and your implementation. Each section where you will answer a question is preceded by a '**Question:**' header. Carefully read each question and provide your answer below the '**Answer:**' header by editing the Markdown cell.\n",
    "\n",
    "> **Note**: Code and Markdown cells can be executed using the **Shift+Enter** keyboard shortcut. In addition, a cell can be edited by typically clicking it (double-click for Markdown cells) or by pressing **Enter** while it is highlighted.\n",
    "\n",
    "## General Outline\n",
    "\n",
    "Recall the general outline for SageMaker projects using a notebook instance.\n",
    "\n",
    "1. Download or otherwise retrieve the data.\n",
    "2. Process / Prepare the data.\n",
    "3. Upload the processed data to S3.\n",
    "4. Train a chosen model.\n",
    "5. Test the trained model (typically using a batch transform job).\n",
    "6. Deploy the trained model.\n",
    "7. Use the deployed model.\n",
    "\n",
    "For this project, you will be following the steps in the general outline with some modifications. \n",
    "\n",
    "First, you will not be testing the model in its own step. You will still be testing the model, however, you will do it by deploying your model and then using the deployed model by sending the test data to it. One of the reasons for doing this is so that you can make sure that your deployed model is working correctly before moving forward.\n",
    "\n",
    "In addition, you will deploy and use your trained model a second time. In the second iteration you will customize the way that your trained model is deployed by including some of your own code. In addition, your newly deployed model will be used in the sentiment analysis web app."
   ]
  },
  {
   "cell_type": "markdown",
   "metadata": {},
   "source": [
    "## Step 1: Downloading the data\n",
    "\n",
    "As in the XGBoost in SageMaker notebook, we will be using the [IMDb dataset](http://ai.stanford.edu/~amaas/data/sentiment/)\n",
    "\n",
    "> Maas, Andrew L., et al. [Learning Word Vectors for Sentiment Analysis](http://ai.stanford.edu/~amaas/data/sentiment/). In _Proceedings of the 49th Annual Meeting of the Association for Computational Linguistics: Human Language Technologies_. Association for Computational Linguistics, 2011."
   ]
  },
  {
   "cell_type": "code",
   "execution_count": 1,
   "metadata": {},
   "outputs": [
    {
     "name": "stdout",
     "output_type": "stream",
     "text": [
      "mkdir: cannot create directory ‘../data’: File exists\n",
      "--2019-05-16 12:29:28--  http://ai.stanford.edu/~amaas/data/sentiment/aclImdb_v1.tar.gz\n",
      "Resolving ai.stanford.edu (ai.stanford.edu)... 171.64.68.10\n",
      "Connecting to ai.stanford.edu (ai.stanford.edu)|171.64.68.10|:80... connected.\n",
      "HTTP request sent, awaiting response... 200 OK\n",
      "Length: 84125825 (80M) [application/x-gzip]\n",
      "Saving to: ‘../data/aclImdb_v1.tar.gz’\n",
      "\n",
      "../data/aclImdb_v1. 100%[===================>]  80.23M  10.1MB/s    in 14s     \n",
      "\n",
      "2019-05-16 12:29:43 (5.69 MB/s) - ‘../data/aclImdb_v1.tar.gz’ saved [84125825/84125825]\n",
      "\n"
     ]
    }
   ],
   "source": [
    "%mkdir ../data\n",
    "!wget -O ../data/aclImdb_v1.tar.gz http://ai.stanford.edu/~amaas/data/sentiment/aclImdb_v1.tar.gz\n",
    "!tar -zxf ../data/aclImdb_v1.tar.gz -C ../data"
   ]
  },
  {
   "cell_type": "markdown",
   "metadata": {},
   "source": [
    "## Step 2: Preparing and Processing the data\n",
    "\n",
    "Also, as in the XGBoost notebook, we will be doing some initial data processing. The first few steps are the same as in the XGBoost example. To begin with, we will read in each of the reviews and combine them into a single input structure. Then, we will split the dataset into a training set and a testing set."
   ]
  },
  {
   "cell_type": "code",
   "execution_count": 2,
   "metadata": {},
   "outputs": [],
   "source": [
    "import os\n",
    "import glob\n",
    "\n",
    "def read_imdb_data(data_dir='../data/aclImdb'):\n",
    "    data = {}\n",
    "    labels = {}\n",
    "    \n",
    "    for data_type in ['train', 'test']:\n",
    "        data[data_type] = {}\n",
    "        labels[data_type] = {}\n",
    "        \n",
    "        for sentiment in ['pos', 'neg']:\n",
    "            data[data_type][sentiment] = []\n",
    "            labels[data_type][sentiment] = []\n",
    "            \n",
    "            path = os.path.join(data_dir, data_type, sentiment, '*.txt')\n",
    "            files = glob.glob(path)\n",
    "            \n",
    "            for f in files:\n",
    "                with open(f) as review:\n",
    "                    data[data_type][sentiment].append(review.read())\n",
    "                    # Here we represent a positive review by '1' and a negative review by '0'\n",
    "                    labels[data_type][sentiment].append(1 if sentiment == 'pos' else 0)\n",
    "                    \n",
    "            assert len(data[data_type][sentiment]) == len(labels[data_type][sentiment]), \\\n",
    "                    \"{}/{} data size does not match labels size\".format(data_type, sentiment)\n",
    "                \n",
    "    return data, labels"
   ]
  },
  {
   "cell_type": "code",
   "execution_count": 3,
   "metadata": {},
   "outputs": [
    {
     "name": "stdout",
     "output_type": "stream",
     "text": [
      "IMDB reviews: train = 12500 pos / 12500 neg, test = 12500 pos / 12500 neg\n"
     ]
    }
   ],
   "source": [
    "data, labels = read_imdb_data()\n",
    "print(\"IMDB reviews: train = {} pos / {} neg, test = {} pos / {} neg\".format(\n",
    "            len(data['train']['pos']), len(data['train']['neg']),\n",
    "            len(data['test']['pos']), len(data['test']['neg'])))"
   ]
  },
  {
   "cell_type": "markdown",
   "metadata": {},
   "source": [
    "Now that we've read the raw training and testing data from the downloaded dataset, we will combine the positive and negative reviews and shuffle the resulting records."
   ]
  },
  {
   "cell_type": "code",
   "execution_count": 4,
   "metadata": {},
   "outputs": [],
   "source": [
    "from sklearn.utils import shuffle\n",
    "\n",
    "def prepare_imdb_data(data, labels):\n",
    "    \"\"\"Prepare training and test sets from IMDb movie reviews.\"\"\"\n",
    "    \n",
    "    #Combine positive and negative reviews and labels\n",
    "    data_train = data['train']['pos'] + data['train']['neg']\n",
    "    data_test = data['test']['pos'] + data['test']['neg']\n",
    "    labels_train = labels['train']['pos'] + labels['train']['neg']\n",
    "    labels_test = labels['test']['pos'] + labels['test']['neg']\n",
    "    \n",
    "    #Shuffle reviews and corresponding labels within training and test sets\n",
    "    data_train, labels_train = shuffle(data_train, labels_train)\n",
    "    data_test, labels_test = shuffle(data_test, labels_test)\n",
    "    \n",
    "    # Return a unified training data, test data, training labels, test labets\n",
    "    return data_train, data_test, labels_train, labels_test"
   ]
  },
  {
   "cell_type": "code",
   "execution_count": 5,
   "metadata": {},
   "outputs": [
    {
     "name": "stdout",
     "output_type": "stream",
     "text": [
      "IMDb reviews (combined): train = 25000, test = 25000\n"
     ]
    }
   ],
   "source": [
    "train_X, test_X, train_y, test_y = prepare_imdb_data(data, labels)\n",
    "print(\"IMDb reviews (combined): train = {}, test = {}\".format(len(train_X), len(test_X)))"
   ]
  },
  {
   "cell_type": "markdown",
   "metadata": {},
   "source": [
    "Now that we have our training and testing sets unified and prepared, we should do a quick check and see an example of the data our model will be trained on. This is generally a good idea as it allows you to see how each of the further processing steps affects the reviews and it also ensures that the data has been loaded correctly."
   ]
  },
  {
   "cell_type": "code",
   "execution_count": 6,
   "metadata": {},
   "outputs": [
    {
     "name": "stdout",
     "output_type": "stream",
     "text": [
      "One of John Ford's best films 'The Informer' doesn't feature any grand scenery of the American West. Instead the intense drama Ford was known for plays out on the no less rugged terrain of British character actor Victor McLaglen's face. The former prizefighter, who once faced Joe Louis in the ring, delivers an Academy Award-winning portrayal of disgraced IRA soldier Gypo Nolan on the worst night of his life.<br /><br />The plot is gracefully simple: In 1922 Dublin, a starving and humiliated man who's been thrown out of the IRA for being unable to kill an informant in cold blood, himself becomes an informant. For £20 he betrays a friend to \"the Tans\" and for the rest of the night he drinks and gives away his blood money in rapidly alternating spasms of guilt, denial, self-pity, and a desperate desire to escape the consequences of his actions. <br /><br />It is the remarkable complexity given to the character of the seemingly simple Gypo that is the film's most impressive achievement. In most movies a burly lout of Gypo's type would be cast as the heavy, he'd have at best two or three lines and be disposed of quickly so the hero and the villain could have their showdown. In 'The Informer' Gypo himself is both hero and villain, while the showdown is in his inner turmoil, every bit of which is explicitly shared with the audience.<br /><br />Because Liam O'Flaherty's novel had previously been filmed in 1929, RKO gave Ford a very modest budget. The director and his associates, particularly cinematographer Joseph H. August, turned this to their advantage in creating a claustrophobic masterpiece about a man at war with himself. In addition to McLaglen's Oscar 'The Informer' also won John Ford his first along with wins for Best Screenplay and Best Score.\n",
      "1\n"
     ]
    }
   ],
   "source": [
    "print(train_X[103])\n",
    "print(train_y[103])"
   ]
  },
  {
   "cell_type": "markdown",
   "metadata": {},
   "source": [
    "The first step in processing the reviews is to make sure that any html tags that appear should be removed. In addition we wish to tokenize our input, that way words such as *entertained* and *entertaining* are considered the same with regard to sentiment analysis."
   ]
  },
  {
   "cell_type": "code",
   "execution_count": 7,
   "metadata": {},
   "outputs": [],
   "source": [
    "import nltk\n",
    "from nltk.corpus import stopwords\n",
    "from nltk.stem.porter import *\n",
    "\n",
    "import re\n",
    "from bs4 import BeautifulSoup\n",
    "\n",
    "def review_to_words(review):\n",
    "    nltk.download(\"stopwords\", quiet=True)\n",
    "    stemmer = PorterStemmer()\n",
    "    \n",
    "    text = BeautifulSoup(review, \"html.parser\").get_text() # Remove HTML tags\n",
    "    text = re.sub(r\"[^a-zA-Z0-9]\", \" \", text.lower()) # Convert to lower case\n",
    "    words = text.split() # Split string into words\n",
    "    words = [w for w in words if w not in stopwords.words(\"english\")] # Remove stopwords\n",
    "    words = [PorterStemmer().stem(w) for w in words] # stem\n",
    "    \n",
    "    return words"
   ]
  },
  {
   "cell_type": "markdown",
   "metadata": {},
   "source": [
    "The `review_to_words` method defined above uses `BeautifulSoup` to remove any html tags that appear and uses the `nltk` package to tokenize the reviews. As a check to ensure we know how everything is working, try applying `review_to_words` to one of the reviews in the training set."
   ]
  },
  {
   "cell_type": "code",
   "execution_count": 8,
   "metadata": {},
   "outputs": [
    {
     "name": "stdout",
     "output_type": "stream",
     "text": [
      "['one', 'john', 'ford', 'best', 'film', 'inform', 'featur', 'grand', 'sceneri', 'american', 'west', 'instead', 'intens', 'drama', 'ford', 'known', 'play', 'less', 'rug', 'terrain', 'british', 'charact', 'actor', 'victor', 'mclaglen', 'face', 'former', 'prizefight', 'face', 'joe', 'loui', 'ring', 'deliv', 'academi', 'award', 'win', 'portray', 'disgrac', 'ira', 'soldier', 'gypo', 'nolan', 'worst', 'night', 'life', 'plot', 'grace', 'simpl', '1922', 'dublin', 'starv', 'humili', 'man', 'thrown', 'ira', 'unabl', 'kill', 'inform', 'cold', 'blood', 'becom', 'inform', '20', 'betray', 'friend', 'tan', 'rest', 'night', 'drink', 'give', 'away', 'blood', 'money', 'rapidli', 'altern', 'spasm', 'guilt', 'denial', 'self', 'piti', 'desper', 'desir', 'escap', 'consequ', 'action', 'remark', 'complex', 'given', 'charact', 'seemingli', 'simpl', 'gypo', 'film', 'impress', 'achiev', 'movi', 'burli', 'lout', 'gypo', 'type', 'would', 'cast', 'heavi', 'best', 'two', 'three', 'line', 'dispos', 'quickli', 'hero', 'villain', 'could', 'showdown', 'inform', 'gypo', 'hero', 'villain', 'showdown', 'inner', 'turmoil', 'everi', 'bit', 'explicitli', 'share', 'audienc', 'liam', 'flaherti', 'novel', 'previous', 'film', '1929', 'rko', 'gave', 'ford', 'modest', 'budget', 'director', 'associ', 'particularli', 'cinematograph', 'joseph', 'h', 'august', 'turn', 'advantag', 'creat', 'claustrophob', 'masterpiec', 'man', 'war', 'addit', 'mclaglen', 'oscar', 'inform', 'also', 'john', 'ford', 'first', 'along', 'win', 'best', 'screenplay', 'best', 'score']\n"
     ]
    }
   ],
   "source": [
    "# TODO: Apply review_to_words to a review (train_X[100] or any other review)\n",
    "output=review_to_words(train_X[103])\n",
    "print(output)"
   ]
  },
  {
   "cell_type": "markdown",
   "metadata": {},
   "source": [
    "**Question:** Above we mentioned that `review_to_words` method removes html formatting and allows us to tokenize the words found in a review, for example, converting *entertained* and *entertaining* into *entertain* so that they are treated as though they are the same word. What else, if anything, does this method do to the input?"
   ]
  },
  {
   "cell_type": "markdown",
   "metadata": {},
   "source": [
    "**Answer:** \n",
    "It converts the review / words to \n",
    "- lower case and \n",
    "- removes the stopwords"
   ]
  },
  {
   "cell_type": "markdown",
   "metadata": {},
   "source": [
    "The method below applies the `review_to_words` method to each of the reviews in the training and testing datasets. In addition it caches the results. This is because performing this processing step can take a long time. This way if you are unable to complete the notebook in the current session, you can come back without needing to process the data a second time."
   ]
  },
  {
   "cell_type": "code",
   "execution_count": 9,
   "metadata": {},
   "outputs": [],
   "source": [
    "import pickle\n",
    "\n",
    "cache_dir = os.path.join(\"../cache\", \"sentiment_analysis\")  # where to store cache files\n",
    "os.makedirs(cache_dir, exist_ok=True)  # ensure cache directory exists\n",
    "\n",
    "def preprocess_data(data_train, data_test, labels_train, labels_test,\n",
    "                    cache_dir=cache_dir, cache_file=\"preprocessed_data.pkl\"):\n",
    "    \"\"\"Convert each review to words; read from cache if available.\"\"\"\n",
    "\n",
    "    # If cache_file is not None, try to read from it first\n",
    "    cache_data = None\n",
    "    if cache_file is not None:\n",
    "        try:\n",
    "            with open(os.path.join(cache_dir, cache_file), \"rb\") as f:\n",
    "                cache_data = pickle.load(f)\n",
    "            print(\"Read preprocessed data from cache file:\", cache_file)\n",
    "        except:\n",
    "            pass  # unable to read from cache, but that's okay\n",
    "    \n",
    "    # If cache is missing, then do the heavy lifting\n",
    "    if cache_data is None:\n",
    "        # Preprocess training and test data to obtain words for each review\n",
    "        #words_train = list(map(review_to_words, data_train))\n",
    "        #words_test = list(map(review_to_words, data_test))\n",
    "        words_train = [review_to_words(review) for review in data_train]\n",
    "        words_test = [review_to_words(review) for review in data_test]\n",
    "        \n",
    "        # Write to cache file for future runs\n",
    "        if cache_file is not None:\n",
    "            cache_data = dict(words_train=words_train, words_test=words_test,\n",
    "                              labels_train=labels_train, labels_test=labels_test)\n",
    "            with open(os.path.join(cache_dir, cache_file), \"wb\") as f:\n",
    "                pickle.dump(cache_data, f)\n",
    "            print(\"Wrote preprocessed data to cache file:\", cache_file)\n",
    "    else:\n",
    "        # Unpack data loaded from cache file\n",
    "        words_train, words_test, labels_train, labels_test = (cache_data['words_train'],\n",
    "                cache_data['words_test'], cache_data['labels_train'], cache_data['labels_test'])\n",
    "    \n",
    "    return words_train, words_test, labels_train, labels_test"
   ]
  },
  {
   "cell_type": "code",
   "execution_count": 10,
   "metadata": {},
   "outputs": [
    {
     "name": "stdout",
     "output_type": "stream",
     "text": [
      "Read preprocessed data from cache file: preprocessed_data.pkl\n"
     ]
    }
   ],
   "source": [
    "# Preprocess data\n",
    "train_X, test_X, train_y, test_y = preprocess_data(train_X, test_X, train_y, test_y)"
   ]
  },
  {
   "cell_type": "code",
   "execution_count": 11,
   "metadata": {},
   "outputs": [
    {
     "name": "stdout",
     "output_type": "stream",
     "text": [
      "['annoy', 'static', 'comedi', 'pain', 'miscast', 'peter', 'seller', 'smarmi', 'self', 'center', 'casanova', 'alway', 'way', 'ladi', 'major', 'blemish', 'seller', 'filmographi', 'even', 'wors', 'film', 'seem', 'made', 'sole', 'satisfi', 'ego', 'star']\n"
     ]
    }
   ],
   "source": [
    "print(train_X[4])"
   ]
  },
  {
   "cell_type": "markdown",
   "metadata": {},
   "source": [
    "## Transform the data\n",
    "\n",
    "In the XGBoost notebook we transformed the data from its word representation to a bag-of-words feature representation. For the model we are going to construct in this notebook we will construct a feature representation which is very similar. To start, we will represent each word as an integer. Of course, some of the words that appear in the reviews occur very infrequently and so likely don't contain much information for the purposes of sentiment analysis. The way we will deal with this problem is that we will fix the size of our working vocabulary and we will only include the words that appear most frequently. We will then combine all of the infrequent words into a single category and, in our case, we will label it as `1`.\n",
    "\n",
    "Since we will be using a recurrent neural network, it will be convenient if the length of each review is the same. To do this, we will fix a size for our reviews and then pad short reviews with the category 'no word' (which we will label `0`) and truncate long reviews."
   ]
  },
  {
   "cell_type": "markdown",
   "metadata": {},
   "source": [
    "### (TODO) Create a word dictionary\n",
    "\n",
    "To begin with, we need to construct a way to map words that appear in the reviews to integers. Here we fix the size of our vocabulary (including the 'no word' and 'infrequent' categories) to be `5000` but you may wish to change this to see how it affects the model.\n",
    "\n",
    "> **TODO:** Complete the implementation for the `build_dict()` method below. Note that even though the vocab_size is set to `5000`, we only want to construct a mapping for the most frequently appearing `4998` words. This is because we want to reserve the special labels `0` for 'no word' and `1` for 'infrequent word'."
   ]
  },
  {
   "cell_type": "code",
   "execution_count": 12,
   "metadata": {},
   "outputs": [],
   "source": [
    "from collections import Counter\n",
    "import numpy as np\n",
    "\n",
    "def build_dict(data, vocab_size = 5000):\n",
    "    \"\"\"Construct and return a dictionary mapping each of the most frequently appearing words to a unique integer.\"\"\"\n",
    "\n",
    "    # TODO: Determine how often each word appears in `data`. Note that `data` is a list of sentences and that a\n",
    "    #       sentence is a list of words.\n",
    "    positive_counts = Counter()\n",
    "    negative_counts = Counter()\n",
    "    total_counts = Counter()\n",
    "\n",
    "    for i in range(len(data)):   #....25.000\n",
    "        for word in data[i]: \n",
    "            #No check if data[i] is positive or negative\n",
    "            #Check yould be inside #train_y[i]  # 1 means \"positive review\" 0 menas \"negative\"\n",
    "            positive_counts[word] += 1\n",
    "            total_counts[word] += 1\n",
    "    \n",
    "\n",
    "    word_count = {} # A dict storing the words that appear in the reviews along with how often they occur\n",
    "    word_count = total_counts\n",
    "        \n",
    "    # TODO: Sort the words found in `data` so that sorted_words[0] is the most frequently appearing word and\n",
    "    #       sorted_words[-1] is the least frequently appearing word.\n",
    "    \n",
    "    sorted_words = []\n",
    "    for words,count in total_counts.most_common(vocab_size):\n",
    "        sorted_words.append(words)\n",
    "    \n",
    "    word_dict = {} # This is what we are building, a dictionary that translates words into integers\n",
    "    for idx, word in enumerate(sorted_words[:vocab_size - 2]): # The -2 is so that we save room for the 'no word'\n",
    "        word_dict[word] = idx + 2                              # 'infrequent' labels\n",
    "        \n",
    "    return word_dict"
   ]
  },
  {
   "cell_type": "code",
   "execution_count": 13,
   "metadata": {
    "scrolled": false
   },
   "outputs": [],
   "source": [
    "word_dict = build_dict(train_X)"
   ]
  },
  {
   "cell_type": "code",
   "execution_count": 14,
   "metadata": {},
   "outputs": [
    {
     "name": "stdout",
     "output_type": "stream",
     "text": [
      "{'movi': 2, 'film': 3, 'one': 4, 'like': 5, 'time': 6, 'good': 7, 'make': 8, 'charact': 9, 'get': 10, 'see': 11, 'watch': 12, 'stori': 13, 'even': 14, 'would': 15, 'realli': 16, 'well': 17, 'scene': 18, 'look': 19, 'show': 20, 'much': 21, 'end': 22, 'peopl': 23, 'bad': 24, 'go': 25, 'great': 26, 'also': 27, 'first': 28, 'love': 29, 'think': 30, 'way': 31, 'act': 32, 'play': 33, 'made': 34, 'thing': 35, 'could': 36, 'know': 37, 'say': 38, 'seem': 39, 'work': 40, 'plot': 41, 'two': 42, 'actor': 43, 'year': 44, 'come': 45, 'mani': 46, 'seen': 47, 'take': 48, 'want': 49, 'life': 50, 'never': 51, 'littl': 52, 'best': 53, 'tri': 54, 'man': 55, 'ever': 56, 'give': 57, 'better': 58, 'still': 59, 'perform': 60, 'find': 61, 'feel': 62, 'part': 63, 'back': 64, 'use': 65, 'someth': 66, 'director': 67, 'actual': 68, 'interest': 69, 'lot': 70, 'real': 71, 'old': 72, 'cast': 73, 'though': 74, 'live': 75, 'star': 76, 'enjoy': 77, 'guy': 78, 'anoth': 79, 'new': 80, 'role': 81, 'noth': 82, '10': 83, 'funni': 84, 'music': 85, 'point': 86, 'start': 87, 'set': 88, 'girl': 89, 'origin': 90, 'day': 91, 'world': 92, 'everi': 93, 'believ': 94, 'turn': 95, 'quit': 96, 'direct': 97, 'us': 98, 'thought': 99, 'fact': 100, 'minut': 101, 'horror': 102, 'kill': 103, 'action': 104, 'comedi': 105, 'pretti': 106, 'young': 107, 'wonder': 108, 'happen': 109, 'around': 110, 'got': 111, 'effect': 112, 'right': 113, 'long': 114, 'howev': 115, 'big': 116, 'line': 117, 'famili': 118, 'enough': 119, 'seri': 120, 'may': 121, 'need': 122, 'fan': 123, 'bit': 124, 'script': 125, 'beauti': 126, 'person': 127, 'becom': 128, 'without': 129, 'must': 130, 'alway': 131, 'friend': 132, 'tell': 133, 'reason': 134, 'saw': 135, 'last': 136, 'final': 137, 'kid': 138, 'almost': 139, 'put': 140, 'least': 141, 'sure': 142, 'done': 143, 'whole': 144, 'place': 145, 'complet': 146, 'kind': 147, 'expect': 148, 'differ': 149, 'shot': 150, 'far': 151, 'mean': 152, 'anyth': 153, 'book': 154, 'laugh': 155, 'might': 156, 'name': 157, 'sinc': 158, 'begin': 159, '2': 160, 'probabl': 161, 'woman': 162, 'help': 163, 'entertain': 164, 'let': 165, 'screen': 166, 'call': 167, 'tv': 168, 'moment': 169, 'away': 170, 'read': 171, 'yet': 172, 'rather': 173, 'worst': 174, 'run': 175, 'fun': 176, 'lead': 177, 'hard': 178, 'audienc': 179, 'idea': 180, 'anyon': 181, 'episod': 182, 'american': 183, 'found': 184, 'appear': 185, 'bore': 186, 'especi': 187, 'although': 188, 'hope': 189, 'keep': 190, 'cours': 191, 'anim': 192, 'job': 193, 'goe': 194, 'move': 195, 'sens': 196, 'version': 197, 'dvd': 198, 'war': 199, 'money': 200, 'someon': 201, 'mind': 202, 'mayb': 203, 'problem': 204, 'true': 205, 'hous': 206, 'everyth': 207, 'nice': 208, 'second': 209, 'rate': 210, 'three': 211, 'night': 212, 'follow': 213, 'face': 214, 'recommend': 215, 'main': 216, 'product': 217, 'worth': 218, 'leav': 219, 'human': 220, 'special': 221, 'excel': 222, 'togeth': 223, 'wast': 224, 'everyon': 225, 'sound': 226, 'john': 227, 'hand': 228, '1': 229, 'father': 230, 'later': 231, 'eye': 232, 'said': 233, 'view': 234, 'instead': 235, 'review': 236, 'boy': 237, 'high': 238, 'hour': 239, 'miss': 240, 'classic': 241, 'talk': 242, 'wife': 243, 'understand': 244, 'left': 245, 'care': 246, 'black': 247, 'death': 248, 'open': 249, 'murder': 250, 'write': 251, 'half': 252, 'head': 253, 'rememb': 254, 'chang': 255, 'viewer': 256, 'fight': 257, 'gener': 258, 'surpris': 259, 'short': 260, 'includ': 261, 'die': 262, 'fall': 263, 'less': 264, 'els': 265, 'entir': 266, 'piec': 267, 'involv': 268, 'pictur': 269, 'simpli': 270, 'top': 271, 'power': 272, 'home': 273, 'total': 274, 'usual': 275, 'budget': 276, 'attempt': 277, 'suppos': 278, 'releas': 279, 'hollywood': 280, 'terribl': 281, 'song': 282, 'men': 283, 'possibl': 284, 'featur': 285, 'portray': 286, 'disappoint': 287, 'poor': 288, '3': 289, 'coupl': 290, 'camera': 291, 'stupid': 292, 'dead': 293, 'wrong': 294, 'produc': 295, 'low': 296, 'either': 297, 'video': 298, 'aw': 299, 'definit': 300, 'except': 301, 'rest': 302, 'given': 303, 'absolut': 304, 'women': 305, 'lack': 306, 'word': 307, 'writer': 308, 'titl': 309, 'talent': 310, 'decid': 311, 'full': 312, 'perfect': 313, 'along': 314, 'style': 315, 'close': 316, 'truli': 317, 'school': 318, 'save': 319, 'emot': 320, 'age': 321, 'sex': 322, 'next': 323, 'bring': 324, 'mr': 325, 'case': 326, 'killer': 327, 'heart': 328, 'comment': 329, 'sort': 330, 'creat': 331, 'perhap': 332, 'came': 333, 'brother': 334, 'sever': 335, 'joke': 336, 'art': 337, 'dialogu': 338, 'game': 339, 'small': 340, 'base': 341, 'flick': 342, 'written': 343, 'sequenc': 344, 'meet': 345, 'earli': 346, 'often': 347, 'other': 348, 'mother': 349, 'develop': 350, 'humor': 351, 'actress': 352, 'consid': 353, 'dark': 354, 'guess': 355, 'amaz': 356, 'unfortun': 357, 'lost': 358, 'light': 359, 'exampl': 360, 'cinema': 361, 'drama': 362, 'ye': 363, 'white': 364, 'experi': 365, 'imagin': 366, 'mention': 367, 'stop': 368, 'natur': 369, 'forc': 370, 'manag': 371, 'felt': 372, 'present': 373, 'cut': 374, 'children': 375, 'fail': 376, 'son': 377, 'support': 378, 'qualiti': 379, 'car': 380, 'ask': 381, 'hit': 382, 'side': 383, 'voic': 384, 'extrem': 385, 'impress': 386, 'wors': 387, 'evil': 388, 'went': 389, 'stand': 390, 'certainli': 391, 'basic': 392, 'oh': 393, 'overal': 394, 'favorit': 395, 'horribl': 396, 'mysteri': 397, 'number': 398, 'type': 399, 'danc': 400, 'wait': 401, 'hero': 402, 'alreadi': 403, '5': 404, 'learn': 405, 'matter': 406, '4': 407, 'michael': 408, 'genr': 409, 'fine': 410, 'despit': 411, 'throughout': 412, 'walk': 413, 'success': 414, 'histori': 415, 'question': 416, 'zombi': 417, 'town': 418, 'realiz': 419, 'relationship': 420, 'child': 421, 'past': 422, 'daughter': 423, 'late': 424, 'b': 425, 'wish': 426, 'credit': 427, 'hate': 428, 'event': 429, 'theme': 430, 'touch': 431, 'citi': 432, 'today': 433, 'sometim': 434, 'behind': 435, 'god': 436, 'twist': 437, 'sit': 438, 'deal': 439, 'annoy': 440, 'stay': 441, 'abl': 442, 'rent': 443, 'pleas': 444, 'edit': 445, 'blood': 446, 'deserv': 447, 'anyway': 448, 'comic': 449, 'appar': 450, 'soon': 451, 'gave': 452, 'etc': 453, 'level': 454, 'slow': 455, 'chanc': 456, 'score': 457, 'bodi': 458, 'brilliant': 459, 'incred': 460, 'figur': 461, 'situat': 462, 'major': 463, 'self': 464, 'stuff': 465, 'decent': 466, 'element': 467, 'dream': 468, 'return': 469, 'obvious': 470, 'order': 471, 'continu': 472, 'pace': 473, 'ridicul': 474, 'happi': 475, 'add': 476, 'group': 477, 'highli': 478, 'thank': 479, 'ladi': 480, 'novel': 481, 'pain': 482, 'speak': 483, 'career': 484, 'shoot': 485, 'strang': 486, 'heard': 487, 'sad': 488, 'husband': 489, 'polic': 490, 'import': 491, 'break': 492, 'took': 493, 'strong': 494, 'cannot': 495, 'predict': 496, 'robert': 497, 'violenc': 498, 'hilari': 499, 'recent': 500, 'countri': 501, 'known': 502, 'particularli': 503, 'pick': 504, 'documentari': 505, 'season': 506, 'critic': 507, 'jame': 508, 'compar': 509, 'obviou': 510, 'alon': 511, 'told': 512, 'state': 513, 'rock': 514, 'visual': 515, 'offer': 516, 'exist': 517, 'theater': 518, 'opinion': 519, 'gore': 520, 'crap': 521, 'hold': 522, 'result': 523, 'room': 524, 'realiti': 525, 'hear': 526, 'clich': 527, 'effort': 528, 'thriller': 529, 'caus': 530, 'explain': 531, 'serious': 532, 'sequel': 533, 'king': 534, 'local': 535, 'ago': 536, 'hell': 537, 'none': 538, 'note': 539, 'allow': 540, 'david': 541, 'sister': 542, 'simpl': 543, 'femal': 544, 'deliv': 545, 'ok': 546, 'convinc': 547, 'class': 548, 'check': 549, 'suspens': 550, 'win': 551, 'oscar': 552, 'buy': 553, 'huge': 554, 'valu': 555, 'sexual': 556, 'cool': 557, 'scari': 558, 'similar': 559, 'excit': 560, 'exactli': 561, 'apart': 562, 'provid': 563, 'shown': 564, 'avoid': 565, 'seriou': 566, 'english': 567, 'taken': 568, 'whose': 569, 'cinematographi': 570, 'shock': 571, 'polit': 572, 'spoiler': 573, 'offic': 574, 'across': 575, 'middl': 576, 'pass': 577, 'street': 578, 'messag': 579, 'silli': 580, 'somewhat': 581, 'charm': 582, 'modern': 583, 'filmmak': 584, 'confus': 585, 'form': 586, 'tale': 587, 'singl': 588, 'jack': 589, 'mostli': 590, 'carri': 591, 'william': 592, 'attent': 593, 'sing': 594, 'five': 595, 'subject': 596, 'prove': 597, 'richard': 598, 'team': 599, 'stage': 600, 'unlik': 601, 'cop': 602, 'georg': 603, 'monster': 604, 'televis': 605, 'earth': 606, 'villain': 607, 'cover': 608, 'pay': 609, 'marri': 610, 'toward': 611, 'build': 612, 'pull': 613, 'parent': 614, 'due': 615, 'respect': 616, 'fill': 617, 'four': 618, 'dialog': 619, 'remind': 620, 'futur': 621, 'typic': 622, 'weak': 623, '7': 624, 'cheap': 625, 'intellig': 626, 'british': 627, 'atmospher': 628, '80': 629, 'clearli': 630, 'non': 631, 'paul': 632, 'dog': 633, '8': 634, 'artist': 635, 'knew': 636, 'fast': 637, 'crime': 638, 'easili': 639, 'escap': 640, 'doubt': 641, 'adult': 642, 'detail': 643, 'date': 644, 'fire': 645, 'member': 646, 'romant': 647, 'drive': 648, 'gun': 649, 'straight': 650, 'beyond': 651, 'fit': 652, 'attack': 653, 'imag': 654, 'upon': 655, 'posit': 656, 'whether': 657, 'peter': 658, 'fantast': 659, 'captur': 660, 'aspect': 661, 'appreci': 662, 'ten': 663, 'plan': 664, 'discov': 665, 'remain': 666, 'near': 667, 'period': 668, 'air': 669, 'realist': 670, 'mark': 671, 'red': 672, 'dull': 673, 'adapt': 674, 'within': 675, 'lose': 676, 'spend': 677, 'materi': 678, 'color': 679, 'chase': 680, 'mari': 681, 'storylin': 682, 'forget': 683, 'bunch': 684, 'clear': 685, 'lee': 686, 'victim': 687, 'nearli': 688, 'box': 689, 'york': 690, 'inspir': 691, 'match': 692, 'mess': 693, 'finish': 694, 'standard': 695, 'easi': 696, 'truth': 697, 'suffer': 698, 'busi': 699, 'dramat': 700, 'bill': 701, 'space': 702, 'western': 703, 'e': 704, 'list': 705, 'battl': 706, 'notic': 707, 'de': 708, 'french': 709, 'ad': 710, '9': 711, 'tom': 712, 'larg': 713, 'among': 714, 'eventu': 715, 'train': 716, 'accept': 717, 'agre': 718, 'soundtrack': 719, 'spirit': 720, 'third': 721, 'teenag': 722, 'soldier': 723, 'adventur': 724, 'drug': 725, 'sorri': 726, 'famou': 727, 'suggest': 728, 'cri': 729, 'babi': 730, 'normal': 731, 'ultim': 732, 'troubl': 733, 'contain': 734, 'certain': 735, 'cultur': 736, 'romanc': 737, 'rare': 738, 'lame': 739, 'somehow': 740, 'mix': 741, 'disney': 742, 'gone': 743, 'cartoon': 744, 'student': 745, 'reveal': 746, 'fear': 747, 'suck': 748, 'kept': 749, 'attract': 750, 'appeal': 751, 'premis': 752, 'secret': 753, 'design': 754, 'greatest': 755, 'shame': 756, 'throw': 757, 'copi': 758, 'scare': 759, 'wit': 760, 'america': 761, 'admit': 762, 'brought': 763, 'particular': 764, 'relat': 765, 'screenplay': 766, 'whatev': 767, 'pure': 768, '70': 769, 'harri': 770, 'averag': 771, 'master': 772, 'describ': 773, 'male': 774, 'treat': 775, '20': 776, 'issu': 777, 'fantasi': 778, 'warn': 779, 'inde': 780, 'background': 781, 'forward': 782, 'project': 783, 'free': 784, 'memor': 785, 'japanes': 786, 'poorli': 787, 'award': 788, 'locat': 789, 'amus': 790, 'potenti': 791, 'struggl': 792, 'weird': 793, 'magic': 794, 'societi': 795, 'okay': 796, 'accent': 797, 'doctor': 798, 'imdb': 799, 'hot': 800, 'water': 801, '30': 802, 'alien': 803, 'dr': 804, 'express': 805, 'odd': 806, 'crazi': 807, 'choic': 808, 'fiction': 809, 'studio': 810, 'becam': 811, 'control': 812, 'masterpiec': 813, 'difficult': 814, 'fli': 815, 'joe': 816, 'scream': 817, 'costum': 818, 'lover': 819, 'uniqu': 820, 'refer': 821, 'remak': 822, 'girlfriend': 823, 'vampir': 824, 'prison': 825, 'execut': 826, 'wear': 827, 'jump': 828, 'unless': 829, 'wood': 830, 'creepi': 831, 'cheesi': 832, 'superb': 833, 'otherwis': 834, 'parti': 835, 'ghost': 836, 'roll': 837, 'mad': 838, 'public': 839, 'depict': 840, 'earlier': 841, 'moral': 842, 'week': 843, 'badli': 844, 'jane': 845, 'dumb': 846, 'fi': 847, 'grow': 848, 'flaw': 849, 'deep': 850, 'sci': 851, 'cat': 852, 'maker': 853, 'footag': 854, 'connect': 855, 'older': 856, 'bother': 857, 'plenti': 858, 'outsid': 859, 'stick': 860, 'gay': 861, 'catch': 862, 'plu': 863, 'co': 864, 'popular': 865, 'equal': 866, 'social': 867, 'disturb': 868, 'quickli': 869, 'perfectli': 870, 'dress': 871, 'era': 872, '90': 873, 'mistak': 874, 'lie': 875, 'ride': 876, 'previou': 877, 'combin': 878, 'band': 879, 'concept': 880, 'surviv': 881, 'rich': 882, 'answer': 883, 'front': 884, 'sweet': 885, 'christma': 886, 'insid': 887, 'concern': 888, 'bare': 889, 'eat': 890, 'beat': 891, 'listen': 892, 'ben': 893, 'c': 894, 'serv': 895, 'term': 896, 'meant': 897, 'german': 898, 'la': 899, 'stereotyp': 900, 'hardli': 901, 'law': 902, 'innoc': 903, 'desper': 904, 'memori': 905, 'promis': 906, 'intent': 907, 'cute': 908, 'variou': 909, 'inform': 910, 'steal': 911, 'brain': 912, 'post': 913, 'tone': 914, 'island': 915, 'amount': 916, 'compani': 917, 'nuditi': 918, 'track': 919, 'store': 920, 'claim': 921, 'hair': 922, 'flat': 923, '50': 924, 'univers': 925, 'land': 926, 'danger': 927, 'kick': 928, 'scott': 929, 'fairli': 930, 'player': 931, 'step': 932, 'plain': 933, 'crew': 934, 'toni': 935, 'share': 936, 'tast': 937, 'centuri': 938, 'achiev': 939, 'engag': 940, 'travel': 941, 'cold': 942, 'suit': 943, 'rip': 944, 'record': 945, 'manner': 946, 'sadli': 947, 'spot': 948, 'tension': 949, 'wrote': 950, 'intens': 951, 'fascin': 952, 'familiar': 953, 'remark': 954, 'depth': 955, 'burn': 956, 'histor': 957, 'destroy': 958, 'sleep': 959, 'purpos': 960, 'languag': 961, 'ruin': 962, 'ignor': 963, 'delight': 964, 'unbeliev': 965, 'italian': 966, 'abil': 967, 'soul': 968, 'collect': 969, 'clever': 970, 'detect': 971, 'violent': 972, 'rape': 973, 'reach': 974, 'door': 975, 'scienc': 976, 'trash': 977, 'liter': 978, 'caught': 979, 'reveng': 980, 'commun': 981, 'creatur': 982, 'trip': 983, 'approach': 984, 'fashion': 985, 'intrigu': 986, 'skill': 987, 'introduc': 988, 'paint': 989, 'channel': 990, 'complex': 991, 'camp': 992, 'christian': 993, 'hole': 994, 'extra': 995, 'mental': 996, 'immedi': 997, 'limit': 998, 'ann': 999, 'mere': 1000, '6': 1001, 'million': 1002, 'comput': 1003, 'slightli': 1004, 'conclus': 1005, 'slasher': 1006, 'suddenli': 1007, 'imposs': 1008, 'teen': 1009, 'crimin': 1010, 'neither': 1011, 'nation': 1012, 'physic': 1013, 'spent': 1014, 'respons': 1015, 'planet': 1016, 'receiv': 1017, 'fake': 1018, 'blue': 1019, 'sick': 1020, 'bizarr': 1021, 'embarrass': 1022, 'indian': 1023, 'ring': 1024, '15': 1025, 'drop': 1026, 'pop': 1027, 'drag': 1028, 'haunt': 1029, 'pointless': 1030, 'suspect': 1031, 'edg': 1032, 'search': 1033, 'handl': 1034, 'common': 1035, 'biggest': 1036, 'arriv': 1037, 'hurt': 1038, 'faith': 1039, 'technic': 1040, 'angel': 1041, 'genuin': 1042, 'dad': 1043, 'solid': 1044, 'f': 1045, 'awesom': 1046, 'colleg': 1047, 'former': 1048, 'focu': 1049, 'van': 1050, 'count': 1051, 'tear': 1052, 'heavi': 1053, 'rais': 1054, 'wall': 1055, 'visit': 1056, 'younger': 1057, 'laughabl': 1058, 'excus': 1059, 'sign': 1060, 'fair': 1061, 'cult': 1062, 'motion': 1063, 'tough': 1064, 'key': 1065, 'desir': 1066, 'super': 1067, 'stun': 1068, 'addit': 1069, 'exploit': 1070, 'cloth': 1071, 'tortur': 1072, 'smith': 1073, 'davi': 1074, 'race': 1075, 'cross': 1076, 'author': 1077, 'jim': 1078, 'minor': 1079, 'focus': 1080, 'consist': 1081, 'compel': 1082, 'chemistri': 1083, 'commit': 1084, 'pathet': 1085, 'park': 1086, 'frank': 1087, 'obsess': 1088, 'tradit': 1089, 'grade': 1090, '60': 1091, 'asid': 1092, 'brutal': 1093, 'steve': 1094, 'somewher': 1095, 'opportun': 1096, 'rule': 1097, 'explor': 1098, 'u': 1099, 'grant': 1100, 'depress': 1101, 'honest': 1102, 'besid': 1103, 'anti': 1104, 'dub': 1105, 'intend': 1106, 'trailer': 1107, 'bar': 1108, 'longer': 1109, 'west': 1110, 'regard': 1111, 'scientist': 1112, 'decad': 1113, 'judg': 1114, 'silent': 1115, 'armi': 1116, 'creativ': 1117, 'wild': 1118, 'south': 1119, 'g': 1120, 'stewart': 1121, 'draw': 1122, 'road': 1123, 'govern': 1124, 'ex': 1125, 'boss': 1126, 'practic': 1127, 'gang': 1128, 'festiv': 1129, 'motiv': 1130, 'club': 1131, 'surprisingli': 1132, 'green': 1133, 'redeem': 1134, 'london': 1135, 'page': 1136, 'militari': 1137, 'display': 1138, 'idiot': 1139, 'machin': 1140, 'aliv': 1141, 'repeat': 1142, 'thrill': 1143, '100': 1144, 'yeah': 1145, 'folk': 1146, 'nobodi': 1147, '40': 1148, 'journey': 1149, 'garbag': 1150, 'tire': 1151, 'smile': 1152, 'ground': 1153, 'mood': 1154, 'bought': 1155, 'cost': 1156, 'stone': 1157, 'sam': 1158, 'noir': 1159, 'mouth': 1160, 'terrif': 1161, 'agent': 1162, 'utterli': 1163, 'requir': 1164, 'area': 1165, 'honestli': 1166, 'sexi': 1167, 'geniu': 1168, 'report': 1169, 'enter': 1170, 'humour': 1171, 'investig': 1172, 'glad': 1173, 'serial': 1174, 'occasion': 1175, 'narr': 1176, 'passion': 1177, 'marriag': 1178, 'climax': 1179, 'industri': 1180, 'studi': 1181, 'center': 1182, 'demon': 1183, 'ship': 1184, 'nowher': 1185, 'charli': 1186, 'hors': 1187, 'loos': 1188, 'bear': 1189, 'hang': 1190, 'wow': 1191, 'graphic': 1192, 'giant': 1193, 'admir': 1194, 'send': 1195, 'loud': 1196, 'damn': 1197, 'rel': 1198, 'subtl': 1199, 'nake': 1200, 'profession': 1201, 'blow': 1202, 'bottom': 1203, 'batman': 1204, 'insult': 1205, 'kelli': 1206, 'boyfriend': 1207, 'r': 1208, 'doubl': 1209, 'initi': 1210, 'frame': 1211, 'opera': 1212, 'gem': 1213, 'cinemat': 1214, 'drawn': 1215, 'church': 1216, 'affect': 1217, 'challeng': 1218, 'l': 1219, 'j': 1220, 'seek': 1221, 'evid': 1222, 'fulli': 1223, 'nightmar': 1224, 'conflict': 1225, 'arm': 1226, 'essenti': 1227, 'henri': 1228, 'wind': 1229, 'christoph': 1230, 'grace': 1231, 'assum': 1232, 'witch': 1233, 'narrat': 1234, 'hunt': 1235, 'push': 1236, 'wise': 1237, 'chri': 1238, 'month': 1239, 'repres': 1240, 'nomin': 1241, 'avail': 1242, 'hide': 1243, 'sceneri': 1244, 'affair': 1245, 'thu': 1246, 'justic': 1247, 'bond': 1248, 'smart': 1249, 'outstand': 1250, 'interview': 1251, 'flashback': 1252, 'satisfi': 1253, 'presenc': 1254, 'constantli': 1255, 'bed': 1256, 'central': 1257, 'content': 1258, 'iron': 1259, 'sell': 1260, 'gag': 1261, 'everybodi': 1262, 'slowli': 1263, 'hotel': 1264, 'hire': 1265, 'system': 1266, 'charl': 1267, 'individu': 1268, 'thrown': 1269, 'adam': 1270, 'hey': 1271, 'allen': 1272, 'jone': 1273, 'mediocr': 1274, 'lesson': 1275, 'ray': 1276, 'billi': 1277, 'photographi': 1278, 'cameo': 1279, 'fellow': 1280, 'pari': 1281, 'strike': 1282, 'absurd': 1283, 'independ': 1284, 'rise': 1285, 'brief': 1286, 'neg': 1287, 'phone': 1288, 'impact': 1289, 'ill': 1290, 'model': 1291, 'born': 1292, 'angl': 1293, 'fresh': 1294, 'spoil': 1295, 'abus': 1296, 'likabl': 1297, 'discuss': 1298, 'hill': 1299, 'ahead': 1300, 'sight': 1301, 'photograph': 1302, 'sent': 1303, 'blame': 1304, 'shine': 1305, 'occur': 1306, 'logic': 1307, 'mainli': 1308, 'bruce': 1309, 'skip': 1310, 'commerci': 1311, 'forev': 1312, 'surround': 1313, 'held': 1314, 'teacher': 1315, 'segment': 1316, 'blond': 1317, 'zero': 1318, 'resembl': 1319, 'summer': 1320, 'satir': 1321, 'trap': 1322, 'six': 1323, 'fool': 1324, 'ball': 1325, 'queen': 1326, 'tragedi': 1327, 'twice': 1328, 'sub': 1329, 'pack': 1330, 'reaction': 1331, 'bomb': 1332, 'protagonist': 1333, 'hospit': 1334, 'will': 1335, 'mile': 1336, 'sport': 1337, 'trust': 1338, 'vote': 1339, 'drink': 1340, 'jerri': 1341, 'mom': 1342, 'encount': 1343, 'plane': 1344, 'current': 1345, 'program': 1346, 'station': 1347, 'al': 1348, 'martin': 1349, 'choos': 1350, 'celebr': 1351, 'join': 1352, 'round': 1353, 'lord': 1354, 'field': 1355, 'favourit': 1356, 'tragic': 1357, 'robot': 1358, 'jean': 1359, 'vision': 1360, 'tie': 1361, 'arthur': 1362, 'fortun': 1363, 'roger': 1364, 'random': 1365, 'psycholog': 1366, 'intern': 1367, 'dread': 1368, 'prefer': 1369, 'epic': 1370, 'nonsens': 1371, 'improv': 1372, 'formula': 1373, 'pleasur': 1374, 'highlight': 1375, 'legend': 1376, '11': 1377, 'dollar': 1378, 'tape': 1379, 'wide': 1380, 'thin': 1381, 'object': 1382, 'porn': 1383, 'fox': 1384, 'gorgeou': 1385, 'ugli': 1386, 'buddi': 1387, 'influenc': 1388, 'prepar': 1389, 'ii': 1390, 'nasti': 1391, 'progress': 1392, 'supposedli': 1393, 'warm': 1394, 'reflect': 1395, 'youth': 1396, 'worthi': 1397, 'unusu': 1398, 'length': 1399, 'latter': 1400, 'crash': 1401, 'superior': 1402, 'shop': 1403, 'childhood': 1404, 'seven': 1405, 'remot': 1406, 'theatr': 1407, 'paid': 1408, 'disgust': 1409, 'pilot': 1410, 'funniest': 1411, 'trick': 1412, 'fell': 1413, 'convers': 1414, 'castl': 1415, 'establish': 1416, 'rob': 1417, 'gangster': 1418, 'disast': 1419, 'disappear': 1420, 'suicid': 1421, 'mine': 1422, 'ident': 1423, 'heaven': 1424, 'heroin': 1425, 'singer': 1426, 'decis': 1427, 'mask': 1428, 'tend': 1429, 'forgotten': 1430, 'brian': 1431, 'partner': 1432, 'alan': 1433, 'desert': 1434, 'recogn': 1435, 'thoroughli': 1436, 'ms': 1437, 'stuck': 1438, 'sky': 1439, 'p': 1440, 'accur': 1441, 'replac': 1442, 'market': 1443, 'seemingli': 1444, 'andi': 1445, 'uncl': 1446, 'danni': 1447, 'eddi': 1448, 'clue': 1449, 'commentari': 1450, 'devil': 1451, 'jackson': 1452, 'that': 1453, 'pair': 1454, 'therefor': 1455, 'refus': 1456, 'ed': 1457, 'accid': 1458, 'fault': 1459, 'unit': 1460, 'river': 1461, 'fate': 1462, 'tune': 1463, 'afraid': 1464, 'clean': 1465, 'hidden': 1466, 'russian': 1467, 'stephen': 1468, 'convey': 1469, 'test': 1470, 'readi': 1471, 'instanc': 1472, 'irrit': 1473, 'captain': 1474, 'quick': 1475, 'european': 1476, 'insan': 1477, 'daniel': 1478, 'frustrat': 1479, 'rescu': 1480, '1950': 1481, 'food': 1482, 'wed': 1483, 'chines': 1484, 'lock': 1485, 'dirti': 1486, 'angri': 1487, 'joy': 1488, 'steven': 1489, 'price': 1490, 'bland': 1491, 'cage': 1492, 'anymor': 1493, 'rang': 1494, 'wooden': 1495, 'news': 1496, 'jason': 1497, 'rush': 1498, 'n': 1499, '12': 1500, 'martial': 1501, 'worri': 1502, 'led': 1503, 'board': 1504, 'twenti': 1505, 'hunter': 1506, 'symbol': 1507, 'cgi': 1508, 'transform': 1509, 'piti': 1510, 'sentiment': 1511, 'onto': 1512, 'x': 1513, 'invent': 1514, 'johnni': 1515, 'process': 1516, 'explan': 1517, 'attitud': 1518, 'awar': 1519, 'owner': 1520, 'aim': 1521, 'favor': 1522, 'target': 1523, 'energi': 1524, 'necessari': 1525, 'floor': 1526, 'opposit': 1527, 'religi': 1528, 'window': 1529, 'insight': 1530, 'chick': 1531, 'blind': 1532, 'movement': 1533, 'research': 1534, 'possess': 1535, 'deepli': 1536, 'mountain': 1537, 'comparison': 1538, 'comed': 1539, 'rain': 1540, 'grand': 1541, 'whatsoev': 1542, 'shadow': 1543, 'began': 1544, 'bank': 1545, 'mid': 1546, 'parodi': 1547, 'princ': 1548, 'pre': 1549, 'taylor': 1550, 'credibl': 1551, 'weapon': 1552, 'friendship': 1553, 'teach': 1554, 'flesh': 1555, 'dougla': 1556, 'terror': 1557, 'hint': 1558, 'protect': 1559, 'bloodi': 1560, 'marvel': 1561, 'accord': 1562, 'anybodi': 1563, 'drunk': 1564, 'leader': 1565, 'load': 1566, 'superman': 1567, 'watchabl': 1568, 'brown': 1569, 'freddi': 1570, 'hitler': 1571, 'seat': 1572, 'tim': 1573, 'appropri': 1574, 'jeff': 1575, 'unknown': 1576, 'villag': 1577, 'charg': 1578, 'keaton': 1579, 'knock': 1580, 'empti': 1581, 'media': 1582, 'england': 1583, 'unnecessari': 1584, 'enemi': 1585, 'dare': 1586, 'perspect': 1587, 'utter': 1588, 'wave': 1589, 'craft': 1590, 'strength': 1591, 'buck': 1592, 'contrast': 1593, 'kiss': 1594, 'correct': 1595, 'nativ': 1596, 'ford': 1597, 'soap': 1598, 'anywher': 1599, 'distract': 1600, 'speed': 1601, 'magnific': 1602, 'knowledg': 1603, 'chill': 1604, 'nazi': 1605, '1980': 1606, 'breath': 1607, 'ice': 1608, 'fred': 1609, 'mission': 1610, 'jr': 1611, 'crowd': 1612, 'moon': 1613, 'joan': 1614, 'kate': 1615, 'frighten': 1616, 'soft': 1617, '000': 1618, 'dan': 1619, 'hundr': 1620, 'dick': 1621, 'nick': 1622, 'simon': 1623, 'dozen': 1624, 'radio': 1625, 'somebodi': 1626, 'loss': 1627, 'thousand': 1628, 'academi': 1629, 'andrew': 1630, 'shakespear': 1631, 'sum': 1632, 'root': 1633, 'quot': 1634, 'vehicl': 1635, 'account': 1636, 'behavior': 1637, 'convent': 1638, '1970': 1639, 'leg': 1640, 'regular': 1641, 'gold': 1642, 'pretenti': 1643, 'worker': 1644, 'demand': 1645, 'compet': 1646, 'japan': 1647, 'interpret': 1648, 'stretch': 1649, 'explos': 1650, 'notabl': 1651, 'candi': 1652, 'lynch': 1653, 'privat': 1654, 'constant': 1655, 'debut': 1656, 'tarzan': 1657, 'prais': 1658, 'revolv': 1659, 'translat': 1660, 'spi': 1661, 'sea': 1662, 'jesu': 1663, 'failur': 1664, 'quiet': 1665, 'threaten': 1666, 'franc': 1667, 'ass': 1668, 'sat': 1669, 'technolog': 1670, 'kevin': 1671, 'aid': 1672, 'met': 1673, 'toy': 1674, 'punch': 1675, 'higher': 1676, 'interact': 1677, 'vh': 1678, 'mike': 1679, 'abandon': 1680, 'command': 1681, 'confront': 1682, 'bet': 1683, 'separ': 1684, 'techniqu': 1685, 'site': 1686, 'recal': 1687, 'belong': 1688, 'servic': 1689, 'gotten': 1690, 'stunt': 1691, 'foot': 1692, 'cabl': 1693, 'freak': 1694, 'bug': 1695, 'fu': 1696, 'jimmi': 1697, 'african': 1698, 'bright': 1699, 'capabl': 1700, 'succeed': 1701, 'fat': 1702, 'presid': 1703, 'stock': 1704, 'boat': 1705, 'clark': 1706, 'structur': 1707, 'gene': 1708, 'spanish': 1709, 'kidnap': 1710, 'paper': 1711, 'factor': 1712, 'belief': 1713, 'whilst': 1714, 'educ': 1715, 'bob': 1716, 'attend': 1717, 'realis': 1718, 'witti': 1719, 'complic': 1720, 'realism': 1721, 'tree': 1722, 'finest': 1723, 'assist': 1724, 'broken': 1725, 'santa': 1726, 'up': 1727, 'smoke': 1728, 'v': 1729, 'determin': 1730, 'observ': 1731, 'depart': 1732, 'routin': 1733, 'fame': 1734, 'rubbish': 1735, 'oper': 1736, 'hat': 1737, 'lewi': 1738, 'domin': 1739, 'morgan': 1740, 'advanc': 1741, 'safe': 1742, 'kinda': 1743, 'lone': 1744, 'hook': 1745, 'foreign': 1746, 'rank': 1747, 'numer': 1748, 'civil': 1749, 'shallow': 1750, 'werewolf': 1751, 'washington': 1752, 'shape': 1753, 'vs': 1754, 'rose': 1755, 'gari': 1756, 'morn': 1757, 'winner': 1758, 'ordinari': 1759, 'accomplish': 1760, 'kong': 1761, 'grab': 1762, 'whenev': 1763, 'virtual': 1764, 'peac': 1765, 'h': 1766, 'luck': 1767, 'offens': 1768, 'bigger': 1769, 'unfunni': 1770, 'activ': 1771, 'contriv': 1772, 'welcom': 1773, 'patient': 1774, 'complain': 1775, 'dimension': 1776, 'con': 1777, 'pretend': 1778, 'trek': 1779, 'wake': 1780, 'flash': 1781, 'lesbian': 1782, 'eric': 1783, 'code': 1784, 'cain': 1785, 'dri': 1786, 'manipul': 1787, 'corrupt': 1788, 'statu': 1789, 'albert': 1790, 'guard': 1791, 'dancer': 1792, 'gain': 1793, 'context': 1794, 'signific': 1795, 'awkward': 1796, 'sourc': 1797, 'speech': 1798, 'clip': 1799, 'corni': 1800, 'anthoni': 1801, 'psycho': 1802, 'sean': 1803, '13': 1804, 'priest': 1805, 'advic': 1806, 'reli': 1807, 'curiou': 1808, 'w': 1809, 'theatric': 1810, 'religion': 1811, 'addict': 1812, 'flow': 1813, 'skin': 1814, 'howard': 1815, 'specif': 1816, 'asian': 1817, 'secur': 1818, 'jennif': 1819, 'organ': 1820, 'comfort': 1821, 'luke': 1822, 'golden': 1823, 'promot': 1824, 'core': 1825, 'lucki': 1826, 'cash': 1827, 'cheat': 1828, 'associ': 1829, 'dislik': 1830, 'lower': 1831, 'degre': 1832, 'contribut': 1833, 'balanc': 1834, 'frankli': 1835, 'frequent': 1836, 'regret': 1837, 'wing': 1838, 'spell': 1839, 'devic': 1840, 'sake': 1841, 'print': 1842, 'lake': 1843, 'forgiv': 1844, 'betti': 1845, 'thoma': 1846, 'mass': 1847, 'unexpect': 1848, 'crack': 1849, 'gordon': 1850, 'categori': 1851, 'unfold': 1852, 'construct': 1853, 'grown': 1854, 'invit': 1855, 'amateur': 1856, 'depend': 1857, 'honor': 1858, 'anna': 1859, 'grew': 1860, 'condit': 1861, 'matur': 1862, 'intellectu': 1863, 'walter': 1864, 'sudden': 1865, 'sole': 1866, 'spectacular': 1867, 'veteran': 1868, 'mirror': 1869, 'robin': 1870, 'freedom': 1871, 'experienc': 1872, 'gift': 1873, 'liner': 1874, 'card': 1875, 'meanwhil': 1876, 'overli': 1877, 'demonstr': 1878, 'grip': 1879, 'sheriff': 1880, 'colour': 1881, 'unabl': 1882, 'brilliantli': 1883, 'theori': 1884, 'crappi': 1885, 'circumst': 1886, 'section': 1887, 'drew': 1888, 'oliv': 1889, 'subtitl': 1890, 'cook': 1891, 'altern': 1892, 'path': 1893, 'matt': 1894, 'parker': 1895, 'sheer': 1896, 'laughter': 1897, 'pile': 1898, 'lawyer': 1899, 'hall': 1900, 'accident': 1901, 'defin': 1902, 'treatment': 1903, 'relief': 1904, 'wander': 1905, 'sinatra': 1906, 'dragon': 1907, 'hank': 1908, 'captiv': 1909, 'moor': 1910, 'gratuit': 1911, 'halloween': 1912, 'kung': 1913, 'k': 1914, 'barbara': 1915, 'wayn': 1916, 'wound': 1917, 'unintent': 1918, 'broadway': 1919, 'jacki': 1920, 'cowboy': 1921, 'winter': 1922, 'surreal': 1923, 'spoof': 1924, 'statement': 1925, 'canadian': 1926, 'gonna': 1927, 'fare': 1928, 'fish': 1929, 'compos': 1930, 'treasur': 1931, 'cheer': 1932, 'unrealist': 1933, 'sensit': 1934, 'victor': 1935, 'woodi': 1936, 'emerg': 1937, 'ran': 1938, 'driven': 1939, 'neighbor': 1940, 'sympathet': 1941, 'glass': 1942, 'topic': 1943, 'overlook': 1944, 'expos': 1945, 'menac': 1946, 'authent': 1947, 'handsom': 1948, 'chief': 1949, 'ancient': 1950, 'michel': 1951, 'gross': 1952, 'nevertheless': 1953, 'stranger': 1954, 'comedian': 1955, 'pleasant': 1956, 'network': 1957, 'russel': 1958, 'contemporari': 1959, 'built': 1960, 'feet': 1961, 'cinderella': 1962, 'blockbust': 1963, 'underr': 1964, 'gori': 1965, 'earn': 1966, 'endless': 1967, 'miser': 1968, 'consider': 1969, 'letter': 1970, 'switch': 1971, 'solv': 1972, 'brook': 1973, 'joseph': 1974, 'edward': 1975, 'bullet': 1976, 'convict': 1977, 'virgin': 1978, 'victoria': 1979, 'scenario': 1980, 'chosen': 1981, 'alex': 1982, 'cynic': 1983, 'scale': 1984, '0': 1985, 'outrag': 1986, 'com': 1987, 'gut': 1988, 'sword': 1989, 'curs': 1990, 'substanc': 1991, 'wrap': 1992, 'uk': 1993, 'proper': 1994, 'screenwrit': 1995, 'driver': 1996, 'monkey': 1997, 'juli': 1998, 'court': 1999, 'remov': 2000, 'par': 2001, 'bird': 2002, 'indic': 2003, 'inevit': 2004, 'advertis': 2005, 'roy': 2006, 'loser': 2007, 'naiv': 2008, 'nanci': 2009, 'consequ': 2010, 'rental': 2011, 'grave': 2012, 'brave': 2013, 'le': 2014, 'slap': 2015, 'germani': 2016, 'bridg': 2017, 'fatal': 2018, 'invis': 2019, 'provok': 2020, 'ador': 2021, 'loui': 2022, 'anger': 2023, 'footbal': 2024, 'alcohol': 2025, 'chan': 2026, 'anderson': 2027, 'professor': 2028, 'stumbl': 2029, 'willi': 2030, 'ryan': 2031, '1930': 2032, 'sharp': 2033, 'australian': 2034, 'bat': 2035, 'assassin': 2036, 'patrick': 2037, 'lousi': 2038, 'liber': 2039, 'heck': 2040, 'refresh': 2041, 'deni': 2042, 'amateurish': 2043, 'strongli': 2044, 'cell': 2045, 'eight': 2046, 'saturday': 2047, 'ape': 2048, 'trilog': 2049, 'sin': 2050, 'resid': 2051, 'vagu': 2052, 'san': 2053, 'justifi': 2054, 'reput': 2055, 'mini': 2056, 'creator': 2057, 'terrifi': 2058, 'defeat': 2059, 'indi': 2060, 'sympathi': 2061, 'endur': 2062, 'tediou': 2063, 'prevent': 2064, 'tabl': 2065, 'task': 2066, 'expert': 2067, 'imit': 2068, 'rival': 2069, 'trial': 2070, 'basebal': 2071, 'offend': 2072, 'employ': 2073, 'che': 2074, 'weekend': 2075, 'pitch': 2076, 'dig': 2077, 'beach': 2078, 'max': 2079, 'europ': 2080, 'complaint': 2081, 'fairi': 2082, 'purchas': 2083, 'risk': 2084, 'murphi': 2085, 'format': 2086, 'nois': 2087, 'harsh': 2088, 'reminisc': 2089, 'bite': 2090, 'glimps': 2091, 'powel': 2092, 'tini': 2093, 'hype': 2094, 'titan': 2095, 'fals': 2096, '14': 2097, 'till': 2098, 'prime': 2099, 'strip': 2100, 'north': 2101, 'asleep': 2102, 'revel': 2103, 'destruct': 2104, 'descript': 2105, 'texa': 2106, 'africa': 2107, 'inner': 2108, 'surfac': 2109, 'semi': 2110, 'excess': 2111, 'arrest': 2112, 'spin': 2113, 'sitcom': 2114, 'uninterest': 2115, 'maintain': 2116, 'makeup': 2117, 'dinosaur': 2118, 'argu': 2119, 'controversi': 2120, 'massiv': 2121, 'hitchcock': 2122, 'twin': 2123, 'expens': 2124, 'stare': 2125, 'reject': 2126, 'insist': 2127, 'kim': 2128, 'melodrama': 2129, 'ludicr': 2130, 'ideal': 2131, 'nail': 2132, 'atroci': 2133, 'ala': 2134, 'host': 2135, 'supernatur': 2136, 'forest': 2137, 'erot': 2138, 'press': 2139, 'subplot': 2140, 'ga': 2141, 'columbo': 2142, 'notch': 2143, 'presum': 2144, 'cant': 2145, 'dude': 2146, 'identifi': 2147, 'plagu': 2148, 'guest': 2149, 'forgett': 2150, 'character': 2151, 'method': 2152, 'crude': 2153, 'closer': 2154, 'ear': 2155, 'landscap': 2156, 'border': 2157, 'beast': 2158, 'princess': 2159, 'foster': 2160, 'lion': 2161, 'bound': 2162, 'previous': 2163, 'aunt': 2164, 'damag': 2165, 'accus': 2166, 'urban': 2167, 'birth': 2168, 'pacino': 2169, 'storytel': 2170, 'jungl': 2171, 'propaganda': 2172, 'doll': 2173, 'thirti': 2174, 'guid': 2175, 'chose': 2176, 'nude': 2177, 'emma': 2178, 'jess': 2179, 'warrior': 2180, '25': 2181, 'mate': 2182, 'whoever': 2183, 'pet': 2184, 'mainstream': 2185, 'merit': 2186, 'gritti': 2187, 'cooper': 2188, 'size': 2189, 'deadli': 2190, 'upset': 2191, 'friday': 2192, 'latest': 2193, 'poster': 2194, 'exact': 2195, 'citizen': 2196, 'rough': 2197, 'contact': 2198, 'ton': 2199, 'corps': 2200, 'popul': 2201, 'blend': 2202, 'settl': 2203, 'sun': 2204, 'contest': 2205, 'warner': 2206, 'wilson': 2207, '1990': 2208, 'buff': 2209, 'metal': 2210, 'widow': 2211, 'overcom': 2212, 'environ': 2213, 'select': 2214, 'mgm': 2215, 'alic': 2216, 'bu': 2217, 'rat': 2218, 'pitt': 2219, 'guilti': 2220, 'particip': 2221, 'lift': 2222, 'ted': 2223, 'revolut': 2224, 'link': 2225, 'moron': 2226, 'prostitut': 2227, 'exagger': 2228, 'corpor': 2229, 'accompani': 2230, 'johnson': 2231, 'corner': 2232, '1960': 2233, 'afternoon': 2234, 'matrix': 2235, 'sincer': 2236, 'hood': 2237, 'leagu': 2238, 'multipl': 2239, 'holm': 2240, 'clair': 2241, 'doom': 2242, 'friendli': 2243, 'instal': 2244, 'examin': 2245, 'campi': 2246, 'string': 2247, 'blah': 2248, 'junk': 2249, 'defend': 2250, 'aka': 2251, 'lugosi': 2252, 'sunday': 2253, 'hip': 2254, 'advis': 2255, 'irish': 2256, 'grim': 2257, 'confid': 2258, 'varieti': 2259, 'shake': 2260, 'shut': 2261, 'rachel': 2262, 'icon': 2263, 'tight': 2264, 'pro': 2265, 'sullivan': 2266, 'medic': 2267, 'directli': 2268, 'jaw': 2269, 'attach': 2270, 'mexican': 2271, 'goal': 2272, 'denni': 2273, 'vietnam': 2274, 'legendari': 2275, 'sentenc': 2276, 'courag': 2277, 'dean': 2278, 'sarah': 2279, 'prior': 2280, 'terrorist': 2281, 'duke': 2282, 'bourn': 2283, 'breast': 2284, 'truck': 2285, 'behav': 2286, 'split': 2287, 'entri': 2288, 'hong': 2289, 'un': 2290, 'donald': 2291, 'yell': 2292, 'nose': 2293, 'proceed': 2294, 'unconvinc': 2295, 'stolen': 2296, 'jerk': 2297, 'buri': 2298, 'borrow': 2299, 'gather': 2300, 'confess': 2301, 'forth': 2302, 'swim': 2303, 'everywher': 2304, 'lifetim': 2305, 'crush': 2306, 'concentr': 2307, 'california': 2308, 'julia': 2309, 'spite': 2310, 'lip': 2311, 'deliveri': 2312, 'turkey': 2313, 'pan': 2314, 'downright': 2315, 'china': 2316, 'quest': 2317, 'proud': 2318, 'reward': 2319, 'flight': 2320, 'offici': 2321, 'hoffman': 2322, 'freeman': 2323, 'fade': 2324, 'jon': 2325, 'worthwhil': 2326, 'encourag': 2327, 'betray': 2328, 'jail': 2329, 'sir': 2330, 'notori': 2331, 'lazi': 2332, 'inept': 2333, 'sink': 2334, 'fabul': 2335, 'cousin': 2336, 'teeth': 2337, 'shower': 2338, 'relev': 2339, 'storm': 2340, 'susan': 2341, 'imageri': 2342, 'bell': 2343, 'lisa': 2344, 'bag': 2345, 'retard': 2346, 'branagh': 2347, 'survivor': 2348, 'bride': 2349, 'facial': 2350, 'summari': 2351, 'mexico': 2352, 'alright': 2353, 'quirki': 2354, 'stab': 2355, 'trade': 2356, 'shark': 2357, 'toler': 2358, 'finger': 2359, 'hugh': 2360, 'tremend': 2361, 'blown': 2362, 'ha': 2363, 'hyster': 2364, 'bitter': 2365, 'von': 2366, 'pose': 2367, 'christ': 2368, 'larri': 2369, 'address': 2370, 'afterward': 2371, 'cruel': 2372, 'scheme': 2373, 'bone': 2374, 'ned': 2375, 'ron': 2376, 'distinct': 2377, 'feed': 2378, 'thumb': 2379, 'pursu': 2380, 'tour': 2381, 'swear': 2382, 'screw': 2383, 'snake': 2384, 'beg': 2385, 'traci': 2386, 'chair': 2387, 'mechan': 2388, 'obscur': 2389, 'photo': 2390, 'raw': 2391, 'stomach': 2392, 'occas': 2393, 'argument': 2394, 'hardi': 2395, 'holiday': 2396, 'cabin': 2397, 'resist': 2398, 'heavili': 2399, 'necessarili': 2400, 'sidney': 2401, 'render': 2402, 'southern': 2403, 'chain': 2404, 'gruesom': 2405, 'indulg': 2406, 'racist': 2407, 'philip': 2408, 'understood': 2409, 'satan': 2410, 'india': 2411, 'stalk': 2412, 'lay': 2413, 'integr': 2414, 'pregnant': 2415, 'fourth': 2416, 'tongu': 2417, 'obnoxi': 2418, 'midnight': 2419, 'belov': 2420, 'outfit': 2421, 'forgot': 2422, 'carol': 2423, 'ticket': 2424, 'deeper': 2425, 'restor': 2426, 'slapstick': 2427, 'inhabit': 2428, 'magazin': 2429, '17': 2430, 'garden': 2431, 'shoe': 2432, 'incid': 2433, 'lincoln': 2434, 'devot': 2435, 'brad': 2436, 'guarante': 2437, 'anticip': 2438, 'benefit': 2439, 'lili': 2440, 'divorc': 2441, 'sandler': 2442, 'maria': 2443, 'underground': 2444, 'disbelief': 2445, 'elizabeth': 2446, 'cring': 2447, 'capit': 2448, 'slave': 2449, 'creation': 2450, 'explod': 2451, 'mildli': 2452, 'bbc': 2453, 'greater': 2454, 'princip': 2455, 'amazingli': 2456, 'lesli': 2457, 'introduct': 2458, 'extraordinari': 2459, 'halfway': 2460, 'funnier': 2461, 'punish': 2462, 'extent': 2463, 'text': 2464, 'enhanc': 2465, 'advantag': 2466, 'transfer': 2467, 'overwhelm': 2468, 'wreck': 2469, 'tap': 2470, 'plant': 2471, 'lane': 2472, 'error': 2473, 'jessica': 2474, 'deliber': 2475, 'lo': 2476, 'horrif': 2477, 'east': 2478, 'preview': 2479, 'dynam': 2480, 'miscast': 2481, 'vacat': 2482, 'ensu': 2483, 'vincent': 2484, 'sophist': 2485, 'appli': 2486, '2000': 2487, 'homosexu': 2488, 'basi': 2489, 'miller': 2490, 'steel': 2491, 'measur': 2492, 'spoken': 2493, 'via': 2494, 'mansion': 2495, 'extend': 2496, 'elev': 2497, 'sleazi': 2498, 'uncomfort': 2499, 'reed': 2500, 'bollywood': 2501, 'conceiv': 2502, 'mous': 2503, 'overact': 2504, 'stanley': 2505, 'blair': 2506, 'hippi': 2507, 'assign': 2508, 'breathtak': 2509, 'beer': 2510, 'fix': 2511, 'cathol': 2512, 'alter': 2513, 'goofi': 2514, 'dentist': 2515, 'daili': 2516, 'savag': 2517, 'melt': 2518, 'sacrific': 2519, 'subsequ': 2520, 'inspector': 2521, 'burt': 2522, 'carpent': 2523, 'succe': 2524, 'oppos': 2525, 'nowaday': 2526, 'everyday': 2527, 'properli': 2528, 'block': 2529, 'massacr': 2530, 'laura': 2531, 'circl': 2532, 'neck': 2533, 'seagal': 2534, 'portrait': 2535, 'pool': 2536, 'concert': 2537, 'fallen': 2538, 'grey': 2539, 'lesser': 2540, 'fay': 2541, 'access': 2542, 'mob': 2543, 'christi': 2544, 'isol': 2545, 'jake': 2546, 'sinist': 2547, 'chees': 2548, 'usa': 2549, 'competit': 2550, 'react': 2551, 'relax': 2552, 'jewish': 2553, 'lyric': 2554, 'appal': 2555, 'nine': 2556, 'suitabl': 2557, 'creep': 2558, 'nonetheless': 2559, 'ironi': 2560, 'chop': 2561, 'stink': 2562, 'spiritu': 2563, '2006': 2564, 'immens': 2565, 'needless': 2566, 'spring': 2567, 'user': 2568, 'sold': 2569, 'nut': 2570, 'navi': 2571, 'reduc': 2572, 'luci': 2573, 'rage': 2574, 'franchis': 2575, 'showcas': 2576, 'adopt': 2577, 'shirt': 2578, 'retir': 2579, 'zone': 2580, 'stanwyck': 2581, 'digit': 2582, 'asham': 2583, 'bulli': 2584, 'uninspir': 2585, 'per': 2586, 'jay': 2587, 'bath': 2588, 'nurs': 2589, 'illustr': 2590, 'amongst': 2591, '2001': 2592, 'oddli': 2593, 'upper': 2594, '1940': 2595, 'sutherland': 2596, 'broadcast': 2597, 'laid': 2598, 'fulfil': 2599, 'disguis': 2600, 'throat': 2601, 'baker': 2602, 'stylish': 2603, 'aspir': 2604, 'brando': 2605, 'nobl': 2606, 'wanna': 2607, 'pride': 2608, '18': 2609, 'endear': 2610, 'em': 2611, 'wwii': 2612, 'thief': 2613, 'impli': 2614, 'neighborhood': 2615, 'pound': 2616, 'bett': 2617, 'diseas': 2618, 'prop': 2619, 'albeit': 2620, 'bo': 2621, '16': 2622, 'shift': 2623, 'distribut': 2624, 'coher': 2625, 'dawn': 2626, 'rochest': 2627, 'cinematograph': 2628, 'shoulder': 2629, 'dinner': 2630, 'tens': 2631, 'forti': 2632, 'silenc': 2633, 'rebel': 2634, 'contract': 2635, 'snow': 2636, 'shout': 2637, 'function': 2638, 'poignant': 2639, 'wash': 2640, 'surf': 2641, 'knife': 2642, 'matthau': 2643, 'height': 2644, 'cancel': 2645, 'silver': 2646, 'instinct': 2647, 'reunion': 2648, 'duti': 2649, 'mindless': 2650, 'horrend': 2651, 'eeri': 2652, 'derek': 2653, 'elvira': 2654, 'cannib': 2655, 'heat': 2656, 'internet': 2657, 'widmark': 2658, 'henc': 2659, 'proof': 2660, 'chuck': 2661, 'absorb': 2662, 'torn': 2663, 'greatli': 2664, 'glori': 2665, 'mill': 2666, 'premier': 2667, 'repetit': 2668, 'etern': 2669, 'pie': 2670, 'neat': 2671, 'musician': 2672, 'innov': 2673, 'alik': 2674, 'elvi': 2675, 'incoher': 2676, 'spielberg': 2677, 'homag': 2678, 'nelson': 2679, 'wealthi': 2680, 'britain': 2681, 'itali': 2682, 'announc': 2683, 'redempt': 2684, 'blank': 2685, 'infam': 2686, 'horrifi': 2687, 'precis': 2688, 'fbi': 2689, 'lovabl': 2690, 'crisi': 2691, 'bang': 2692, 'trite': 2693, 'racism': 2694, 'diamond': 2695, 'burton': 2696, 'ensembl': 2697, 'happili': 2698, 'flop': 2699, 'pat': 2700, 'parallel': 2701, 'chaplin': 2702, 'resolut': 2703, 'hammer': 2704, 'helen': 2705, 'dedic': 2706, 'streisand': 2707, 'wilder': 2708, 'broke': 2709, 'st': 2710, 'oil': 2711, 'conclud': 2712, 'disagre': 2713, 'plastic': 2714, 'factori': 2715, 'triumph': 2716, 'carter': 2717, 'cube': 2718, 'mar': 2719, 'chuckl': 2720, 'bush': 2721, 'own': 2722, 'vega': 2723, 'row': 2724, 'fighter': 2725, 'march': 2726, 'weight': 2727, 'climb': 2728, 'rocket': 2729, 'dane': 2730, 'kurt': 2731, 'lust': 2732, 'wherea': 2733, 'boot': 2734, 'thug': 2735, 'meaning': 2736, 'enorm': 2737, 'luca': 2738, 'mst3k': 2739, 'spare': 2740, 'sensibl': 2741, 'dump': 2742, 'unforgett': 2743, 'fifti': 2744, 'difficulti': 2745, 'brand': 2746, 'adequ': 2747, 'karloff': 2748, 'engin': 2749, 'butt': 2750, 'stress': 2751, 'threat': 2752, 'rap': 2753, 'bobbi': 2754, 'dear': 2755, 'caricatur': 2756, 'arnold': 2757, 'ego': 2758, 'fest': 2759, 'homeless': 2760, 'elabor': 2761, 'swing': 2762, 'flynn': 2763, 'journalist': 2764, 'arrog': 2765, 'polish': 2766, 'ralph': 2767, 'barri': 2768, 'hamlet': 2769, 'secretari': 2770, 'fanci': 2771, 'arrang': 2772, 'resort': 2773, 'puppet': 2774, 'tool': 2775, 'spike': 2776, 'float': 2777, 'induc': 2778, 'simpson': 2779, 'conspiraci': 2780, 'grate': 2781, 'unbear': 2782, 'exercis': 2783, 'choreograph': 2784, 'tribut': 2785, 'cruis': 2786, 'pig': 2787, 'boll': 2788, 'basement': 2789, 'phillip': 2790, 'muppet': 2791, 'guilt': 2792, 'document': 2793, 'stan': 2794, 'tower': 2795, 'korean': 2796, 'layer': 2797, 'puzzl': 2798, 'toilet': 2799, 'ham': 2800, 'slip': 2801, 'babe': 2802, 'medium': 2803, 'fianc': 2804, 'editor': 2805, 'file': 2806, 'ward': 2807, 'item': 2808, 'scarecrow': 2809, '24': 2810, 'persona': 2811, 'larger': 2812, 'inexplic': 2813, 'slaughter': 2814, 'philosoph': 2815, 'catherin': 2816, 'superfici': 2817, 'transit': 2818, 'spark': 2819, 'assur': 2820, 'librari': 2821, 'minim': 2822, 'denzel': 2823, 'glover': 2824, 'portion': 2825, 'orient': 2826, 'territori': 2827, 'doc': 2828, 'financi': 2829, 'owe': 2830, 'wolf': 2831, 'shi': 2832, 'ban': 2833, 'sneak': 2834, 'boredom': 2835, 'jeremi': 2836, 'walken': 2837, 'dorothi': 2838, 'pg': 2839, 'curti': 2840, 'jet': 2841, 'metaphor': 2842, 'backdrop': 2843, 'profound': 2844, 'ambigu': 2845, 'multi': 2846, 'hudson': 2847, 'cusack': 2848, 'eleph': 2849, 'whale': 2850, 'ultra': 2851, 'stiff': 2852, 'implaus': 2853, 'union': 2854, 'hack': 2855, 'rave': 2856, 'elsewher': 2857, 'birthday': 2858, 'gadget': 2859, '2005': 2860, 'viru': 2861, 'notion': 2862, 'poison': 2863, 'canada': 2864, 'deriv': 2865, '1st': 2866, 'slight': 2867, 'eastwood': 2868, 'squar': 2869, 'urg': 2870, 'pad': 2871, 'disc': 2872, 'distanc': 2873, 'newspap': 2874, 'lloyd': 2875, 'bibl': 2876, 'afford': 2877, 'reader': 2878, 'eva': 2879, 'superhero': 2880, 'hawk': 2881, 'spread': 2882, 'health': 2883, 'button': 2884, 'charisma': 2885, 'essenc': 2886, 'montag': 2887, 'huh': 2888, 'sadist': 2889, 'restaur': 2890, 'skit': 2891, 'drown': 2892, 'heston': 2893, 'cure': 2894, 'peak': 2895, 'gradual': 2896, 'dealt': 2897, 'maniac': 2898, 'muslim': 2899, 'lab': 2900, 'companion': 2901, 'estat': 2902, 'godfath': 2903, 'scoobi': 2904, 'fetch': 2905, 'invest': 2906, 'countless': 2907, 'miik': 2908, 'cup': 2909, 'gothic': 2910, 'ritter': 2911, 'subtleti': 2912, 'tea': 2913, 'servant': 2914, 'kane': 2915, 'alli': 2916, 'heroic': 2917, 'electr': 2918, 'iii': 2919, 'charismat': 2920, 'briefli': 2921, 'salli': 2922, 'elect': 2923, 'grandmoth': 2924, 'tender': 2925, 'reel': 2926, 'toss': 2927, 'nuanc': 2928, 'bud': 2929, 'wannab': 2930, 'cole': 2931, 'ingredi': 2932, 'neil': 2933, 'admittedli': 2934, 'resourc': 2935, 'stronger': 2936, 'kubrick': 2937, 'mild': 2938, 'punk': 2939, 'poverti': 2940, 'shall': 2941, 'pauli': 2942, 'label': 2943, 'mafia': 2944, 'pit': 2945, 'reev': 2946, 'gate': 2947, 'stood': 2948, 'carrey': 2949, 'dawson': 2950, 'cardboard': 2951, 'useless': 2952, 'updat': 2953, 'easier': 2954, 'smash': 2955, 'cox': 2956, 'smooth': 2957, 'outcom': 2958, 'terri': 2959, 'ian': 2960, 'tag': 2961, 'burst': 2962, 'fond': 2963, 'assault': 2964, 'astair': 2965, 'bakshi': 2966, 'sketch': 2967, '2002': 2968, 'vulner': 2969, 'exchang': 2970, 'coincid': 2971, 'melodramat': 2972, 'qualifi': 2973, 'rex': 2974, 'increasingli': 2975, 'fist': 2976, 'vari': 2977, 'divers': 2978, 'samurai': 2979, 'resolv': 2980, 'be': 2981, 'blast': 2982, 'insert': 2983, 'tame': 2984, 'luckili': 2985, 'brillianc': 2986, 'reynold': 2987, 'templ': 2988, 'scratch': 2989, 'suspend': 2990, 'conveni': 2991, 'seventi': 2992, 'coach': 2993, 'meat': 2994, 'fisher': 2995, 'walker': 2996, 'ambiti': 2997, 'gotta': 2998, 'strictli': 2999, 'nuclear': 3000, 'jami': 3001, 'matthew': 3002, 'pin': 3003, 'soprano': 3004, 'farm': 3005, 'hamilton': 3006, 'recreat': 3007, 'revers': 3008, 'spooki': 3009, 'kudo': 3010, 'butcher': 3011, 'grasp': 3012, 'discoveri': 3013, 'closet': 3014, 'clock': 3015, 'instantli': 3016, 'monk': 3017, 'timeless': 3018, 'worthless': 3019, 'cave': 3020, 'struck': 3021, 'joey': 3022, 'eccentr': 3023, 'empir': 3024, 'brosnan': 3025, 'convolut': 3026, 'ninja': 3027, 'miracl': 3028, 'seller': 3029, 'cliff': 3030, 'importantli': 3031, 'selfish': 3032, 'declar': 3033, 'fifteen': 3034, 'eighti': 3035, 'mitchel': 3036, 'clown': 3037, 'wipe': 3038, 'pal': 3039, 'gray': 3040, 'partli': 3041, 'sloppi': 3042, 'evok': 3043, 'sidekick': 3044, 'communist': 3045, 'inconsist': 3046, 'norman': 3047, 'bleak': 3048, 'stoog': 3049, 'destin': 3050, 'australia': 3051, 'lifestyl': 3052, 'cheek': 3053, 'enthusiast': 3054, 'ho': 3055, 'piano': 3056, 'aforement': 3057, 'websit': 3058, 'seed': 3059, 'debat': 3060, 'psychiatrist': 3061, 'flawless': 3062, 'farc': 3063, 'chew': 3064, 'superbl': 3065, '45': 3066, 'wick': 3067, 'dash': 3068, 'incompet': 3069, 'drivel': 3070, 'kitchen': 3071, 'directori': 3072, 'pressur': 3073, 'slice': 3074, 'wrestl': 3075, 'regardless': 3076, 'bash': 3077, 'dire': 3078, 'soviet': 3079, 'emili': 3080, 'abc': 3081, 'anni': 3082, 'akshay': 3083, 'splatter': 3084, 'dave': 3085, 'duo': 3086, 'ken': 3087, 'curios': 3088, 'prize': 3089, 'beaten': 3090, 'seduc': 3091, 'pleasantli': 3092, 'jar': 3093, 'blob': 3094, 'judi': 3095, 'flower': 3096, 'suppli': 3097, 'artifici': 3098, 'recov': 3099, 'boil': 3100, 'increas': 3101, 'chapter': 3102, 'lou': 3103, 'cia': 3104, 'cagney': 3105, 'cameron': 3106, 'distant': 3107, 'doo': 3108, 'glow': 3109, 'mann': 3110, 'helicopt': 3111, 'combat': 3112, 'panic': 3113, 'laurel': 3114, 'splendid': 3115, 'psychot': 3116, 'francisco': 3117, 'web': 3118, 'perri': 3119, 'hop': 3120, 'favour': 3121, 'eleg': 3122, 'goldberg': 3123, 'turner': 3124, 'craig': 3125, 'glenn': 3126, 'ellen': 3127, 'drunken': 3128, 'ranger': 3129, 'craven': 3130, 'min': 3131, 'wizard': 3132, '20th': 3133, 'flip': 3134, 'fx': 3135, 'philosophi': 3136, 'hatr': 3137, 'graduat': 3138, 'rid': 3139, 'slightest': 3140, 'gentl': 3141, 'falk': 3142, 'plausibl': 3143, 'gandhi': 3144, 'ruth': 3145, 'shortli': 3146, 'alexand': 3147, 'modesti': 3148, 'greek': 3149, 'fund': 3150, 'harm': 3151, 'tall': 3152, 'legal': 3153, 'jealou': 3154, 'holi': 3155, 'ocean': 3156, 'dracula': 3157, 'unpleas': 3158, 'manhattan': 3159, 'knight': 3160, 'lend': 3161, 'preciou': 3162, 'we': 3163, 'futurist': 3164, 'felix': 3165, 'thread': 3166, 'digniti': 3167, 'mock': 3168, 'overdon': 3169, 'nod': 3170, 'explicit': 3171, 'ami': 3172, 'reviv': 3173, 'scientif': 3174, 'tank': 3175, 'bless': 3176, 'forbidden': 3177, 'giallo': 3178, 'childish': 3179, 'eve': 3180, 'fever': 3181, 'mel': 3182, 'nerv': 3183, 'awaken': 3184, 'torment': 3185, 'pirat': 3186, 'yesterday': 3187, 'unwatch': 3188, '99': 3189, '2004': 3190, 'thick': 3191, 'awe': 3192, 'verhoeven': 3193, 'broad': 3194, 'margaret': 3195, 'elderli': 3196, 'repeatedli': 3197, 'ambit': 3198, 'publish': 3199, 'uniform': 3200, 'ah': 3201, 'custom': 3202, 'kay': 3203, 'launch': 3204, 'absenc': 3205, 'griffith': 3206, 'automat': 3207, 'lean': 3208, 'acclaim': 3209, 'politician': 3210, 'stiller': 3211, 'royal': 3212, 'rivet': 3213, 'roman': 3214, 'eas': 3215, 'bin': 3216, 'romero': 3217, 'timothi': 3218, 'crook': 3219, 'termin': 3220, 'pulp': 3221, 'darker': 3222, 'phrase': 3223, 'tomato': 3224, 'sunshin': 3225, 'gabriel': 3226, 'transport': 3227, 'homicid': 3228, 'bathroom': 3229, 'purpl': 3230, 'antic': 3231, 'stinker': 3232, 'pierc': 3233, 'foul': 3234, 'wallac': 3235, 'warren': 3236, 'juvenil': 3237, 'horrid': 3238, 'saint': 3239, 'sixti': 3240, 'awak': 3241, 'prom': 3242, 'choreographi': 3243, 'kenneth': 3244, 'evolv': 3245, 'karen': 3246, '2003': 3247, 'contrari': 3248, 'ought': 3249, 'li': 3250, 'packag': 3251, 'viciou': 3252, 'eyr': 3253, 'rambo': 3254, 'hollow': 3255, 'donna': 3256, 'revolutionari': 3257, 'coloni': 3258, 'marin': 3259, 'q': 3260, 'album': 3261, 'pray': 3262, 'brazil': 3263, 'conserv': 3264, 'option': 3265, 'nerd': 3266, 'overr': 3267, 'defi': 3268, 'beatti': 3269, 'blade': 3270, 'mummi': 3271, 'candid': 3272, 'dose': 3273, 'ramon': 3274, 'ireland': 3275, 'stole': 3276, 'boast': 3277, 'kapoor': 3278, 'twelv': 3279, 'mildr': 3280, 'trio': 3281, 'funer': 3282, 'kirk': 3283, 'protest': 3284, 'flame': 3285, 'collabor': 3286, 'confirm': 3287, 'astonish': 3288, 'natali': 3289, 'jazz': 3290, 'global': 3291, 'detract': 3292, 'altman': 3293, 'fulci': 3294, 'shade': 3295, 'blake': 3296, 'nicholson': 3297, 'yellow': 3298, 'whip': 3299, 'audio': 3300, 'enterpris': 3301, 'delici': 3302, 'tommi': 3303, 'destini': 3304, 'mystic': 3305, 'bull': 3306, 'racial': 3307, 'spit': 3308, 'bottl': 3309, 'leap': 3310, 'adolesc': 3311, 'harder': 3312, 'vivid': 3313, 'fonda': 3314, 'neo': 3315, 'pseudo': 3316, 'merci': 3317, 'inherit': 3318, 'reunit': 3319, 'meaningless': 3320, 'popcorn': 3321, 'visibl': 3322, 'enchant': 3323, 'todd': 3324, 'threw': 3325, 'bedroom': 3326, 'staff': 3327, 'altogeth': 3328, 'swedish': 3329, 'respond': 3330, 'wire': 3331, 'roommat': 3332, 'synopsi': 3333, 'voight': 3334, 'lawrenc': 3335, 'leonard': 3336, 'reserv': 3337, 'befriend': 3338, 'ruthless': 3339, 'atlanti': 3340, 'kennedi': 3341, 'suspici': 3342, 'uneven': 3343, 'fanat': 3344, 'moodi': 3345, 'exhibit': 3346, 'decor': 3347, 'lemmon': 3348, 'bust': 3349, 'crocodil': 3350, 'await': 3351, 'edi': 3352, 'tip': 3353, 'jew': 3354, 'madonna': 3355, 'abysm': 3356, 'centr': 3357, 'bold': 3358, 'audit': 3359, 'clint': 3360, 'clumsi': 3361, 'carl': 3362, 'garner': 3363, 'incident': 3364, 'rural': 3365, 'unsettl': 3366, 'dimens': 3367, '2007': 3368, 'chao': 3369, 'holli': 3370, 'bargain': 3371, 'ventur': 3372, 'bradi': 3373, 'voyag': 3374, 'palma': 3375, 'echo': 3376, 'trail': 3377, 'troop': 3378, 'wealth': 3379, 'acknowledg': 3380, 'neglect': 3381, 'nearbi': 3382, 'lit': 3383, 'daddi': 3384, 'elimin': 3385, '2nd': 3386, 'cd': 3387, 'humili': 3388, 'timon': 3389, 'ant': 3390, 'imperson': 3391, 'cari': 3392, 'cuba': 3393, 'mall': 3394, 'poetic': 3395, 'hart': 3396, 'characterist': 3397, 'immigr': 3398, 'tiger': 3399, 'versu': 3400, 'marshal': 3401, 'prejudic': 3402, 'saga': 3403, 'mistaken': 3404, 'celluloid': 3405, 'paus': 3406, 'domest': 3407, 'infect': 3408, 'collaps': 3409, 'repuls': 3410, 'pun': 3411, 'mickey': 3412, 'jeffrey': 3413, 'solo': 3414, 'homer': 3415, 'coffe': 3416, 'promin': 3417, 'hbo': 3418, 'pant': 3419, 'inappropri': 3420, 'coat': 3421, 'gear': 3422, 'inan': 3423, 'assembl': 3424, 'cake': 3425, 'chest': 3426, 'tribe': 3427, 'milk': 3428, '1996': 3429, 'undoubtedli': 3430, 'leon': 3431, 'harvey': 3432, 'ginger': 3433, 'sore': 3434, 'apolog': 3435, 'olivi': 3436, 'interrupt': 3437, 'equip': 3438, 'florida': 3439, 'solut': 3440, 'primari': 3441, 'furthermor': 3442, 'polanski': 3443, 'pen': 3444, 'jenni': 3445, 'consum': 3446, 'colonel': 3447, 'exot': 3448, 'pot': 3449, 'embrac': 3450, 'trace': 3451, 'instant': 3452, 'humbl': 3453, 'vulgar': 3454, 'brooklyn': 3455, 'institut': 3456, 'maggi': 3457, 'aveng': 3458, 'devast': 3459, 'colleagu': 3460, 'retain': 3461, 'highest': 3462, 'airplan': 3463, 'ya': 3464, 'seduct': 3465, 'smaller': 3466, 'strain': 3467, 'descend': 3468, 'illog': 3469, 'poke': 3470, 'bowl': 3471, 'cope': 3472, 'dian': 3473, 'sale': 3474, '3rd': 3475, '1999': 3476, 'outer': 3477, 'godzilla': 3478, 'gender': 3479, 'linda': 3480, 'dutch': 3481, 'wive': 3482, 'disabl': 3483, 'principl': 3484, 'rick': 3485, 'yard': 3486, 'inferior': 3487, 'devoid': 3488, 'bubbl': 3489, 'cue': 3490, 'scope': 3491, 'vast': 3492, 'beneath': 3493, 'blatant': 3494, 'dud': 3495, 'predecessor': 3496, 'mixtur': 3497, 'secondli': 3498, 'hal': 3499, 'gloriou': 3500, 'lol': 3501, 'dive': 3502, 'glamor': 3503, 'primarili': 3504, 'rabbit': 3505, 'gundam': 3506, 'talki': 3507, 'simplist': 3508, 'casual': 3509, 'shirley': 3510, 'trademark': 3511, 'april': 3512, 'alert': 3513, 'alfr': 3514, 'breed': 3515, 'museum': 3516, 'invas': 3517, 'z': 3518, 'arab': 3519, 'domino': 3520, 'shelf': 3521, 'disjoint': 3522, 'pearl': 3523, 'aggress': 3524, 'et': 3525, 'senseless': 3526, 'hideou': 3527, 'countrysid': 3528, 'streep': 3529, 'grinch': 3530, 'myer': 3531, 'garbo': 3532, 'applaud': 3533, 'oz': 3534, 'stir': 3535, 'hopeless': 3536, 'illeg': 3537, 'obtain': 3538, 'mayor': 3539, 'acid': 3540, 'rendit': 3541, 'disgrac': 3542, 'defens': 3543, 'unhappi': 3544, 'maci': 3545, 'stack': 3546, 'uwe': 3547, 'experiment': 3548, 'robberi': 3549, 'boom': 3550, 'stellar': 3551, 'sh': 3552, 'loyal': 3553, 'hardcor': 3554, 'robinson': 3555, 'slide': 3556, 'vanish': 3557, 'khan': 3558, 'mail': 3559, 'tempt': 3560, 'scroog': 3561, 'tenant': 3562, 'blew': 3563, 'recruit': 3564, 'declin': 3565, 'rifl': 3566, 'span': 3567, 'grandfath': 3568, 'spider': 3569, 'topless': 3570, 'soccer': 3571, 'fri': 3572, 'counter': 3573, 'dismiss': 3574, 'amanda': 3575, 'craze': 3576, 'diana': 3577, 'emphasi': 3578, 'dicken': 3579, 'incomprehens': 3580, 'berlin': 3581, 'hartley': 3582, 'psychic': 3583, 'wont': 3584, 'ration': 3585, 'lumet': 3586, 'woo': 3587, 'goer': 3588, 'revolt': 3589, 'shed': 3590, 'ethnic': 3591, 'faster': 3592, 'intim': 3593, 'niro': 3594, 'trashi': 3595, 'justin': 3596, 'riot': 3597, 'wet': 3598, 'bitch': 3599, 'resurrect': 3600, 'sympath': 3601, 'parad': 3602, 'sibl': 3603, 'porno': 3604, 'shaw': 3605, 'ballet': 3606, 'hesit': 3607, 'rider': 3608, 'eager': 3609, 'unreal': 3610, 'feminist': 3611, 'dealer': 3612, 'biographi': 3613, 'andr': 3614, 'jonathan': 3615, 'gap': 3616, 'region': 3617, 'patriot': 3618, 'nephew': 3619, 'immort': 3620, 'mario': 3621, 'partial': 3622, 'choru': 3623, 'enlighten': 3624, 'hopper': 3625, 'farmer': 3626, 'ensur': 3627, 'weakest': 3628, 'commend': 3629, 'honesti': 3630, 'steam': 3631, 'wheel': 3632, '00': 3633, 'lena': 3634, 'wendi': 3635, 'slick': 3636, 'worm': 3637, 'nostalg': 3638, 'vice': 3639, 'composit': 3640, 'prequel': 3641, 'psychopath': 3642, 'wore': 3643, 'safeti': 3644, 'sandra': 3645, 'confin': 3646, 'similarli': 3647, 'sappi': 3648, 'blunt': 3649, 'morri': 3650, 'snap': 3651, 'leo': 3652, 'util': 3653, 'mutant': 3654, 'owen': 3655, 'repress': 3656, 'skull': 3657, 'victori': 3658, 'charlott': 3659, 'franco': 3660, 'kingdom': 3661, 'properti': 3662, 'hung': 3663, 'macarthur': 3664, 'thru': 3665, 'farrel': 3666, 'compass': 3667, 'nervou': 3668, 'repli': 3669, 'miseri': 3670, 'acquir': 3671, 'bow': 3672, 'rocki': 3673, 'cg': 3674, 'dust': 3675, 'heartbreak': 3676, 'campbel': 3677, 'bergman': 3678, 'drain': 3679, 'despair': 3680, 'strand': 3681, '1972': 3682, 'rope': 3683, 'recycl': 3684, 'bumbl': 3685, 'pattern': 3686, 'valuabl': 3687, 'tad': 3688, 'bonu': 3689, 'deed': 3690, 'snl': 3691, 'exit': 3692, 'speci': 3693, 'latin': 3694, 'tail': 3695, 'drum': 3696, 'emperor': 3697, 'whoopi': 3698, 'compens': 3699, 'dalton': 3700, 'rambl': 3701, 'del': 3702, 'kyle': 3703, 'montana': 3704, 'hyde': 3705, 'oppress': 3706, 'olli': 3707, '35': 3708, 'radic': 3709, 'roth': 3710, 'chess': 3711, 'rotten': 3712, 'wacki': 3713, 'bleed': 3714, 'tonight': 3715, 'romp': 3716, 'martian': 3717, 'rapist': 3718, 'downhil': 3719, 'gimmick': 3720, 'airport': 3721, 'percept': 3722, 'carradin': 3723, 'orson': 3724, 'pour': 3725, 'mistress': 3726, 'gal': 3727, 'slug': 3728, 'contempl': 3729, 'da': 3730, 'tackl': 3731, 'dazzl': 3732, 'arc': 3733, 'belt': 3734, '1983': 3735, 'mislead': 3736, 'preach': 3737, 'melodi': 3738, 'slash': 3739, 'attorney': 3740, 'taught': 3741, 'pervert': 3742, 'heal': 3743, 'shelley': 3744, 'tooth': 3745, 'programm': 3746, 'arguabl': 3747, 'unpredict': 3748, 'banal': 3749, 'stilt': 3750, 'edgar': 3751, 'pervers': 3752, 'champion': 3753, 'pursuit': 3754, 'paltrow': 3755, 'employe': 3756, 'conneri': 3757, 'orang': 3758, 'gambl': 3759, 'virginia': 3760, 'uplift': 3761, 'poem': 3762, 'rubi': 3763, 'raymond': 3764, 'mesmer': 3765, 'graham': 3766, 'plight': 3767, 'closest': 3768, 'passeng': 3769, 'chicken': 3770, 'vocal': 3771, 'maid': 3772, 'tiresom': 3773, 'sensat': 3774, 'marti': 3775, 'cleverli': 3776, 'vengeanc': 3777, 'franki': 3778, 'bela': 3779, 'duval': 3780, 'dixon': 3781, 'bay': 3782, '1968': 3783, 'calm': 3784, 'suffic': 3785, 'scottish': 3786, 'abraham': 3787, 'giggl': 3788, 'habit': 3789, 'climact': 3790, 'mute': 3791, 'volum': 3792, 'quarter': 3793, 'outing': 3794, 'monologu': 3795, 'secretli': 3796, 'sirk': 3797, 'paranoia': 3798, 'pokemon': 3799, 'profan': 3800, 'tube': 3801, 'crystal': 3802, 'whine': 3803, 'yawn': 3804, 'numb': 3805, 'clone': 3806, 'iran': 3807, 'amitabh': 3808, 'gerard': 3809, 'inject': 3810, 'swallow': 3811, 'engross': 3812, 'extens': 3813, 'convincingli': 3814, 'lundgren': 3815, 'im': 3816, 'meander': 3817, 'surpass': 3818, 'grotesqu': 3819, 'trend': 3820, 'profess': 3821, 'spock': 3822, 'chicago': 3823, 'richardson': 3824, 'backward': 3825, 'dispos': 3826, 'underst': 3827, 'plod': 3828, 'linger': 3829, 'septemb': 3830, 'bend': 3831, 'frankenstein': 3832, 'junior': 3833, 'lowest': 3834, 'fed': 3835, 'earl': 3836, 'franci': 3837, 'taxi': 3838, 'poetri': 3839, 'ethan': 3840, 'expand': 3841, 'nichola': 3842, 'austen': 3843, 'abort': 3844, 'muddl': 3845, 'econom': 3846, 'eugen': 3847, 'waitress': 3848, 'spoke': 3849, 'instrument': 3850, 'compliment': 3851, 'nostalgia': 3852, 'rant': 3853, 'simplic': 3854, 'der': 3855, 'dysfunct': 3856, 'hum': 3857, 'lure': 3858, 'descent': 3859, 'household': 3860, 'myth': 3861, 'stallon': 3862, 'tourist': 3863, 'cannon': 3864, 'sue': 3865, 'rubber': 3866, 'literatur': 3867, 'catchi': 3868, 'mundan': 3869, 'greedi': 3870, 'carel': 3871, 'cent': 3872, 'lang': 3873, 'flee': 3874, 'hello': 3875, 'omen': 3876, 'stale': 3877, 'firstli': 3878, 'duck': 3879, 'phoni': 3880, 'occupi': 3881, 'crucial': 3882, 'dement': 3883, 'equival': 3884, 'june': 3885, 'molli': 3886, 'irrelev': 3887, 'furi': 3888, 'phantom': 3889, 'recognit': 3890, 'bacal': 3891, 'louis': 3892, 'mortal': 3893, 'eaten': 3894, 'recognis': 3895, 'alongsid': 3896, 'damon': 3897, 'dictat': 3898, 'map': 3899, 'coast': 3900, 'randi': 3901, 'insur': 3902, 'mankind': 3903, 'sissi': 3904, 'deaf': 3905, 'bike': 3906, 'twilight': 3907, 'distinguish': 3908, 'ashley': 3909, 'lengthi': 3910, 'drake': 3911, 'blackmail': 3912, 'buffalo': 3913, 'newli': 3914, 'antwon': 3915, 'freez': 3916, 'loyalti': 3917, 'bump': 3918, 'onlin': 3919, 'daisi': 3920, 'damm': 3921, 'reign': 3922, 'wisdom': 3923, 'labor': 3924, 'rude': 3925, '1973': 3926, 'likewis': 3927, 'rooney': 3928, 'heel': 3929, 'biko': 3930, 'cyborg': 3931, 'dreari': 3932, 'grayson': 3933, 'baddi': 3934, 'unorigin': 3935, 'incorpor': 3936, 'approv': 3937, 'analysi': 3938, 'worn': 3939, 'prey': 3940, 'vein': 3941, 'emphas': 3942, 'ridden': 3943, 'basketbal': 3944, 'nineti': 3945, 'exposur': 3946, 'boxer': 3947, 'barrymor': 3948, 'sailor': 3949, 'pink': 3950, 'tunnel': 3951, 'chronicl': 3952, 'attribut': 3953, 'provoc': 3954, 'keith': 3955, 'startl': 3956, 'inher': 3957, 'butler': 3958, 'proce': 3959, 'interior': 3960, 'condemn': 3961, 'undeni': 3962, 'fleet': 3963, 'drift': 3964, 'stalker': 3965, 'unrel': 3966, 'improvis': 3967, 'underli': 3968, 'robbin': 3969, 'substitut': 3970, 'meg': 3971, 'elm': 3972, 'degrad': 3973, 'indiffer': 3974, 'julian': 3975, 'meyer': 3976, 'mormon': 3977, 'barrel': 3978, 'mighti': 3979, 'millionair': 3980, 'er': 3981, 'hypnot': 3982, 'othello': 3983, 'bunni': 3984, 'predat': 3985, 'carla': 3986, 'simmon': 3987, 'walsh': 3988, 'nicol': 3989, 'belushi': 3990, 'watson': 3991, 'firm': 3992, 'edgi': 3993, 'nyc': 3994, 'warmth': 3995, 'errol': 3996, 'marion': 3997, 'palac': 3998, 'disord': 3999, 'unawar': 4000, 'exquisit': 4001, 'mtv': 4002, 'alarm': 4003, 'priceless': 4004, 'shove': 4005, 'hay': 4006, 'agenda': 4007, 'vital': 4008, 'greed': 4009, 'reid': 4010, 'dolph': 4011, 'roof': 4012, '3d': 4013, 'lampoon': 4014, 'enthusiasm': 4015, 'novak': 4016, 'rukh': 4017, 'alison': 4018, 'gestur': 4019, 'what': 4020, 'valentin': 4021, '1933': 4022, 'simultan': 4023, 'beatl': 4024, 'pamela': 4025, 'showdown': 4026, 'iraq': 4027, 'preserv': 4028, '13th': 4029, 'sergeant': 4030, 'campaign': 4031, 'ponder': 4032, 'peck': 4033, 'orlean': 4034, 'glanc': 4035, 'israel': 4036, 'cassidi': 4037, 'unleash': 4038, 'distort': 4039, 'nun': 4040, 'profit': 4041, 'session': 4042, 'testament': 4043, 'championship': 4044, 'randomli': 4045, 'petti': 4046, 'spain': 4047, 'thompson': 4048, 'eastern': 4049, 'minimum': 4050, 'drip': 4051, 'coup': 4052, 'peril': 4053, 'angela': 4054, 'crown': 4055, 'zizek': 4056, 'perpetu': 4057, 'scotland': 4058, 'travesti': 4059, 'represent': 4060, 'contradict': 4061, 'quinn': 4062, 'crawl': 4063, 'cooki': 4064, 'empathi': 4065, 'exposit': 4066, 'stake': 4067, 'buster': 4068, 'realm': 4069, 'kurosawa': 4070, 'rout': 4071, 'jan': 4072, 'miyazaki': 4073, 'mon': 4074, 'reson': 4075, 'regist': 4076, 'brenda': 4077, 'calib': 4078, 'wig': 4079, 'cream': 4080, 'sabrina': 4081, 'restrain': 4082, '1984': 4083, 'han': 4084, 'unimagin': 4085, 'climat': 4086, 'crow': 4087, 'din': 4088, 'gentleman': 4089, 'stroke': 4090, 'bro': 4091, 'valley': 4092, 'shootout': 4093, 'fido': 4094, 'abomin': 4095, 'painter': 4096, 'censor': 4097, 'traumat': 4098, 'shoddi': 4099, 'unsatisfi': 4100, 'soderbergh': 4101, 'wax': 4102, 'baldwin': 4103, 'passabl': 4104, 'warrant': 4105, 'stargat': 4106, 'josh': 4107, 'femm': 4108, 'monoton': 4109, 'compromis': 4110, 'distress': 4111, 'cloud': 4112, 'perceiv': 4113, 'sucker': 4114, '1997': 4115, 'geek': 4116, 'tacki': 4117, 'shaki': 4118, 'sammi': 4119, 'ustinov': 4120, 'derang': 4121, 'pole': 4122, 'darren': 4123, 'businessman': 4124, 'pretens': 4125, 'mclaglen': 4126, 'greg': 4127, 'fuller': 4128, 'meryl': 4129, 'delic': 4130, 'spacey': 4131, 'absent': 4132, 'dana': 4133, 'ross': 4134, 'demis': 4135, '1987': 4136, 'unseen': 4137, 'crawford': 4138, 'uncov': 4139, 'nathan': 4140, 'accuraci': 4141, 'polici': 4142, 'fenc': 4143, 'reluct': 4144, 'correctli': 4145, 'valid': 4146, 'click': 4147, 'deceas': 4148, 'primit': 4149, 'antonioni': 4150, 'seal': 4151, 'unravel': 4152, 'judgment': 4153, 'austin': 4154, 'wholli': 4155, 'fog': 4156, 'anchor': 4157, 'verbal': 4158, 'exclus': 4159, 'furiou': 4160, 'tarantino': 4161, 'deniro': 4162, 'tech': 4163, 'norm': 4164, 'clash': 4165, 'kumar': 4166, 'dee': 4167, 'jewel': 4168, 'sid': 4169, '1993': 4170, 'expedit': 4171, 'fart': 4172, 'enforc': 4173, '1995': 4174, 'wretch': 4175, 'murray': 4176, 'tax': 4177, 'conduct': 4178, 'trait': 4179, 'fought': 4180, 'seldom': 4181, '3000': 4182, 'patienc': 4183, '1971': 4184, 'malon': 4185, 'mode': 4186, 'crippl': 4187, 'fabric': 4188, 'pocket': 4189, 'nicola': 4190, 'temper': 4191, 'clerk': 4192, 'sheet': 4193, '2008': 4194, 'ritual': 4195, 'sustain': 4196, 'slam': 4197, 'roller': 4198, 'hallucin': 4199, 'shanghai': 4200, 'sunni': 4201, 'darn': 4202, 'behold': 4203, 'sand': 4204, 'debt': 4205, 'logan': 4206, 'dreck': 4207, 'unfair': 4208, 'vanc': 4209, 'joel': 4210, 'bake': 4211, 'wang': 4212, 'alec': 4213, 'preston': 4214, 'bridget': 4215, 'soup': 4216, 'shell': 4217, 'tactic': 4218, 'robber': 4219, 'critiqu': 4220, 'legaci': 4221, 'guitar': 4222, 'stuart': 4223, 'sweep': 4224, 'exhaust': 4225, 'technicolor': 4226, 'divid': 4227, 'grief': 4228, 'runner': 4229, 'fundament': 4230, 'scriptwrit': 4231, 'canyon': 4232, 'outlin': 4233, 'pete': 4234, 'conscious': 4235, 'penni': 4236, 'clau': 4237, 'isabel': 4238, 'schedul': 4239, 'phil': 4240, 'bias': 4241, 'stark': 4242, 'squad': 4243, 'rita': 4244, 'helpless': 4245, 'preposter': 4246, 'despis': 4247, 'unexpectedli': 4248, 'jacket': 4249, 'agenc': 4250, 'kansa': 4251, 'delv': 4252, 'sentinel': 4253, 'vomit': 4254, 'passag': 4255, 'drove': 4256, 'rehash': 4257, 'implic': 4258, 'gregori': 4259, 'palanc': 4260, 'cigarett': 4261, 'bloom': 4262, 'flair': 4263, 'downey': 4264, 'newman': 4265, 'liberti': 4266, 'connor': 4267, 'russia': 4268, 'rear': 4269, 'sugar': 4270, 'invad': 4271, 'boyl': 4272, 'jodi': 4273, 'restrict': 4274, 'consciou': 4275, 'inabl': 4276, 'marc': 4277, 'lacklust': 4278, 'culmin': 4279, 'alley': 4280, 'propos': 4281, 'alicia': 4282, 'sniper': 4283, '22': 4284, 'behaviour': 4285, 'bacon': 4286, 'awhil': 4287, 'tendenc': 4288, 'mccoy': 4289, 'delet': 4290, 'horn': 4291, 'rehears': 4292, 'rod': 4293, 'feat': 4294, 'wrench': 4295, 'aesthet': 4296, 'lush': 4297, 'pale': 4298, 'improb': 4299, 'tripe': 4300, 'sharon': 4301, 'vet': 4302, 'arrow': 4303, 'karl': 4304, 'kolchak': 4305, 'asylum': 4306, 'cap': 4307, '1936': 4308, 'rampag': 4309, 'chainsaw': 4310, 'foxx': 4311, 'yeti': 4312, 'ladder': 4313, 'rumor': 4314, 'visitor': 4315, '19th': 4316, 'tasteless': 4317, 'wildli': 4318, 'shortcom': 4319, 'rhythm': 4320, 'paradis': 4321, 'globe': 4322, '1978': 4323, '1988': 4324, 'prank': 4325, 'lurk': 4326, 'loneli': 4327, 'hackney': 4328, 'weav': 4329, 'filler': 4330, '1920': 4331, 'scoop': 4332, 'newcom': 4333, 'suspicion': 4334, 'hungri': 4335, 'aristocrat': 4336, 'elit': 4337, 'basing': 4338, 'fright': 4339, 'tomorrow': 4340, 'coaster': 4341, 'hulk': 4342, 'financ': 4343, 'stream': 4344, 'amazon': 4345, 'suffici': 4346, 'conscienc': 4347, 'paramount': 4348, 'sung': 4349, 'spice': 4350, 'thunderbird': 4351, 'el': 4352, 'wagner': 4353, 'minu': 4354, 'underneath': 4355, 'curli': 4356, 'quietli': 4357, 'leigh': 4358, 'grudg': 4359, 'choppi': 4360, 'cancer': 4361, 'naughti': 4362, 'impos': 4363, '75': 4364, 'ingeni': 4365, 'dirt': 4366, '1939': 4367, 'hopkin': 4368, 'recogniz': 4369, '1989': 4370, 'secondari': 4371, 'brit': 4372, 'teas': 4373, 'lectur': 4374, 'straightforward': 4375, 'heist': 4376, 'en': 4377, 'immers': 4378, 'worship': 4379, 'literari': 4380, 'springer': 4381, 'bread': 4382, 'iv': 4383, 'entranc': 4384, 'penn': 4385, 'chavez': 4386, 'rub': 4387, 'atroc': 4388, 'minist': 4389, 'posey': 4390, 'ram': 4391, 'abrupt': 4392, 'standout': 4393, 'wwe': 4394, 'couch': 4395, 'inmat': 4396, 'beverli': 4397, 'tierney': 4398, 'paxton': 4399, 'chamberlain': 4400, 'counterpart': 4401, 'smell': 4402, 'duel': 4403, 'heartfelt': 4404, 'transcend': 4405, 'entitl': 4406, 'yearn': 4407, 'injuri': 4408, 'geni': 4409, 'enthral': 4410, 'misguid': 4411, 'lindsay': 4412, 'bernard': 4413, 'watcher': 4414, 'ace': 4415, 'nemesi': 4416, 'convert': 4417, 'attenborough': 4418, 'variat': 4419, 'morbid': 4420, '1986': 4421, 'skeptic': 4422, 'laurenc': 4423, 'cattl': 4424, 'moreov': 4425, 'sublim': 4426, 'net': 4427, 'sassi': 4428, 'missil': 4429, 'nolan': 4430, 'policeman': 4431, 'esther': 4432, 'clan': 4433, 'ratso': 4434, 'quaid': 4435, 'obstacl': 4436, 'cruelti': 4437, 'dont': 4438, 'kitti': 4439, 'rosemari': 4440, 'brood': 4441, '1979': 4442, 'grin': 4443, 'steadi': 4444, 'diari': 4445, 'tyler': 4446, 'mytholog': 4447, 'setup': 4448, 'uncut': 4449, 'graini': 4450, 'youngest': 4451, 'characteris': 4452, 'egg': 4453, 'enabl': 4454, 'buzz': 4455, 'moder': 4456, 'unexplain': 4457, 'out': 4458, 'carlito': 4459, 'bean': 4460, 'spiral': 4461, 'vader': 4462, 'hopelessli': 4463, 'reliabl': 4464, 'bye': 4465, 'artsi': 4466, 'poe': 4467, 'facil': 4468, 'hk': 4469, 'puppi': 4470, 'kidman': 4471, 'niec': 4472, 'heap': 4473, 'gina': 4474, 'bewar': 4475, 'effici': 4476, '1969': 4477, 'acquaint': 4478, 'despic': 4479, 'martha': 4480, 'decept': 4481, 'hammi': 4482, 'oblig': 4483, 'spontan': 4484, 'disastr': 4485, 'patricia': 4486, 'underworld': 4487, 'hain': 4488, 'sweat': 4489, 'fuel': 4490, 'brendan': 4491, 'christin': 4492, 'athlet': 4493, 'weather': 4494, 'baffl': 4495, 'narrow': 4496, 'bronson': 4497, 'kline': 4498, 'preming': 4499, 'clueless': 4500, 'exterior': 4501, 'bounc': 4502, 'gillian': 4503, 'preachi': 4504, '19': 4505, 'trigger': 4506, 'astound': 4507, 'outlaw': 4508, 'rome': 4509, 'mermaid': 4510, 'scar': 4511, 'shatter': 4512, 'taboo': 4513, 'injur': 4514, 'virtu': 4515, 'dilemma': 4516, 'housewif': 4517, 'renaiss': 4518, 'loath': 4519, 'harmless': 4520, 'uh': 4521, 'tick': 4522, 'suprem': 4523, 'sleepwalk': 4524, 'analyz': 4525, 'loi': 4526, 'goof': 4527, 'viewpoint': 4528, 'candl': 4529, '73': 4530, 'sooner': 4531, 'circu': 4532, 'biker': 4533, 'insipid': 4534, 'angst': 4535, 'enlist': 4536, 'mayhem': 4537, 'lester': 4538, 'hepburn': 4539, 'headach': 4540, 'fontain': 4541, 'dandi': 4542, 'immatur': 4543, 'fluff': 4544, 'intric': 4545, 'ebert': 4546, 'slimi': 4547, 'amor': 4548, 'stair': 4549, 'contempt': 4550, 'boston': 4551, 'stimul': 4552, 'sox': 4553, 'macho': 4554, 'whore': 4555, 'idol': 4556, 'salt': 4557, 'bent': 4558, 'camcord': 4559, 'surgeri': 4560, 'oldest': 4561, 'steer': 4562, 'cassavet': 4563, 'foolish': 4564, 'dish': 4565, 'hooker': 4566, 'guin': 4567, 'glorifi': 4568, 'phenomenon': 4569, 'zoom': 4570, 'ariel': 4571, 'spade': 4572, 'claustrophob': 4573, 'overlong': 4574, 'hostag': 4575, 'hokey': 4576, 'gere': 4577, 'scorses': 4578, 'dismal': 4579, 'filth': 4580, 'redund': 4581, 'tripl': 4582, 'corbett': 4583, 'flirt': 4584, 'fascist': 4585, 'margin': 4586, 'perman': 4587, 'keen': 4588, 'down': 4589, 'preced': 4590, 'mutual': 4591, 'transplant': 4592, 'joker': 4593, 'harold': 4594, '1981': 4595, 'flashi': 4596, 'shield': 4597, 'obligatori': 4598, 'trivia': 4599, 'proport': 4600, 'corman': 4601, 'spinal': 4602, 'schlock': 4603, 'faint': 4604, 'shred': 4605, 'gabl': 4606, 'radiat': 4607, 'antagonist': 4608, 'flag': 4609, 'widescreen': 4610, 'naschi': 4611, 'remad': 4612, 'dwarf': 4613, 'zane': 4614, 'conquer': 4615, 'astronaut': 4616, '1976': 4617, 'assert': 4618, 'spree': 4619, 'cow': 4620, 'cohen': 4621, 'gasp': 4622, 'messi': 4623, 'muscl': 4624, 'frantic': 4625, 'nolt': 4626, 'strongest': 4627, 'beard': 4628, 'rhyme': 4629, 'mount': 4630, 'cush': 4631, 'alvin': 4632, 'vaniti': 4633, '1945': 4634, 'bachelor': 4635, 'persuad': 4636, 'inflict': 4637, 'boob': 4638, 'off': 4639, 'info': 4640, 'resum': 4641, 'discern': 4642, 'repris': 4643, 'sensual': 4644, 'bitten': 4645, 'barn': 4646, 'archiv': 4647, 'mobil': 4648, 'triangl': 4649, 'flock': 4650, 'divin': 4651, 'interestingli': 4652, '28': 4653, 'neurot': 4654, 'strive': 4655, 'claud': 4656, 'www': 4657, 'departur': 4658, 'danish': 4659, 'brush': 4660, 'mol': 4661, 'scandal': 4662, 'wield': 4663, 'fishburn': 4664, '95': 4665, 'carey': 4666, 'instruct': 4667, 'someday': 4668, 'ritchi': 4669, 'aborigin': 4670, 'hara': 4671, 'deer': 4672, 'raj': 4673, 'colin': 4674, 'luka': 4675, 'ish': 4676, 'carlo': 4677, 'vibrant': 4678, 'hilar': 4679, 'dim': 4680, 'helm': 4681, 'traffic': 4682, 'frontier': 4683, 'recit': 4684, 'dame': 4685, 'artwork': 4686, 'neill': 4687, 'kathryn': 4688, 'casino': 4689, 'pixar': 4690, 'europa': 4691, 'bate': 4692, 'biblic': 4693, 'hapless': 4694, 'cher': 4695, 'fragil': 4696, 'clad': 4697, 'axe': 4698, 'prophet': 4699, 'rot': 4700, 'banter': 4701, 'miracul': 4702, 'timberlak': 4703, 'cliffhang': 4704, 'undermin': 4705, 'hug': 4706, 'senior': 4707, 'dylan': 4708, 'melissa': 4709, 'cb': 4710, 'pickford': 4711, 'mobster': 4712, 'submit': 4713, 'proclaim': 4714, 'jade': 4715, 'anton': 4716, 'heartwarm': 4717, 'cycl': 4718, 'parson': 4719, 'pacif': 4720, 'earnest': 4721, 'harrison': 4722, 'wendigo': 4723, 'loretta': 4724, 'sicken': 4725, 'choke': 4726, 'static': 4727, 'lucil': 4728, 'pc': 4729, 'legitim': 4730, 'wardrob': 4731, 'cerebr': 4732, 'mason': 4733, 'seedi': 4734, 'akin': 4735, 'electron': 4736, 'breakfast': 4737, 'isra': 4738, 'uma': 4739, 'estrang': 4740, 'mathieu': 4741, 'redneck': 4742, 'razor': 4743, 'articl': 4744, 'token': 4745, 'trier': 4746, 'bikini': 4747, 'jo': 4748, 'lui': 4749, 'bondag': 4750, 'rooki': 4751, 'http': 4752, 'blatantli': 4753, 'orphan': 4754, 'foil': 4755, 'eli': 4756, 'winchest': 4757, 'toronto': 4758, 'northern': 4759, 'nope': 4760, 'vile': 4761, 'shepherd': 4762, 'aris': 4763, 'misfortun': 4764, 'vanessa': 4765, 'illus': 4766, 'venom': 4767, 'feast': 4768, 'flavor': 4769, 'antholog': 4770, 'milo': 4771, 'jordan': 4772, 'alexandr': 4773, 'holocaust': 4774, 'marlon': 4775, 'glare': 4776, 'linear': 4777, 'psych': 4778, 'magician': 4779, 'nightclub': 4780, 'comprehend': 4781, 'retriev': 4782, 'clinic': 4783, 'fifth': 4784, 'cartoonish': 4785, 'dudley': 4786, 'highway': 4787, 'boyer': 4788, 'knightley': 4789, 'ideolog': 4790, 'tack': 4791, 'feminin': 4792, 'huston': 4793, 'shorter': 4794, 'abund': 4795, 'swept': 4796, 'audrey': 4797, 'frog': 4798, 'turd': 4799, 'smack': 4800, 'howl': 4801, 'gunga': 4802, 'wrestler': 4803, 'disregard': 4804, 'outdat': 4805, 'peer': 4806, 'ceremoni': 4807, 'styliz': 4808, 'gilbert': 4809, 'affleck': 4810, 'deem': 4811, 'leather': 4812, 'oppon': 4813, 'charlton': 4814, 'moe': 4815, 'boo': 4816, 'monument': 4817, 'tara': 4818, 'spawn': 4819, 'senat': 4820, 'braveheart': 4821, 'evolut': 4822, 'cemeteri': 4823, 'newer': 4824, 'durat': 4825, 'mitch': 4826, 'client': 4827, 'chip': 4828, 'bastard': 4829, 'greet': 4830, 'sleaz': 4831, 'lifeless': 4832, 'conrad': 4833, '4th': 4834, 'toe': 4835, 'summar': 4836, 'potter': 4837, 'snatch': 4838, 'collector': 4839, 'uniformli': 4840, 'corn': 4841, 'spine': 4842, '1994': 4843, 'goldsworthi': 4844, 'phenomen': 4845, 'einstein': 4846, 'compris': 4847, 'energet': 4848, 'lighter': 4849, 'plate': 4850, 'whack': 4851, 'deliver': 4852, 'lavish': 4853, '1991': 4854, 'btw': 4855, 'cuban': 4856, 'breakdown': 4857, 'salman': 4858, 'bogu': 4859, 'creek': 4860, 'ie': 4861, 'embark': 4862, 'judd': 4863, 'pronounc': 4864, 'mcqueen': 4865, 'nina': 4866, 'cecil': 4867, 'spectacl': 4868, 'gilliam': 4869, 'occup': 4870, 'sorrow': 4871, 'luxuri': 4872, 'jare': 4873, '1974': 4874, 'neatli': 4875, 'bori': 4876, 'bulk': 4877, 'undead': 4878, 'undertak': 4879, 'trauma': 4880, 'belli': 4881, 'jam': 4882, 'ol': 4883, 'liu': 4884, 'firmli': 4885, 'capot': 4886, 'healthi': 4887, '1977': 4888, 'kent': 4889, 'constitut': 4890, 'inaccuraci': 4891, 'historian': 4892, 'signal': 4893, 'replay': 4894, 'jedi': 4895, 'kazan': 4896, 'fluid': 4897, 'evelyn': 4898, 'outright': 4899, 'lex': 4900, 'appl': 4901, 'randolph': 4902, 'eleven': 4903, 'wtf': 4904, 'alleg': 4905, 'clara': 4906, 'armstrong': 4907, 'jule': 4908, 'sacrif': 4909, 'vain': 4910, 'spray': 4911, 'galaxi': 4912, 'bait': 4913, 'porter': 4914, 'unsuspect': 4915, 'decapit': 4916, 'kiddi': 4917, 'palm': 4918, 'carmen': 4919, 'pepper': 4920, 'lauren': 4921, 'bsg': 4922, 'groan': 4923, 'ash': 4924, 'miniseri': 4925, 'subtli': 4926, 'comprehens': 4927, 'congratul': 4928, '1985': 4929, 'curtain': 4930, 'id': 4931, 'pioneer': 4932, 'conan': 4933, 'propheci': 4934, 'abound': 4935, 'genet': 4936, 'aussi': 4937, 'roar': 4938, 'meal': 4939, 'paula': 4940, 'miami': 4941, 'antonio': 4942, 'basket': 4943, 'tokyo': 4944, 'sidewalk': 4945, 'goldblum': 4946, 'cape': 4947, 'blur': 4948, 'relentless': 4949, 'lanc': 4950, 'inaccur': 4951, 'poker': 4952, 'inclus': 4953, 'fruit': 4954, 'vignett': 4955, 'unattract': 4956, 'forgiven': 4957, 'comb': 4958, 'mum': 4959, 'knee': 4960, 'truman': 4961, 'walt': 4962, 'rosario': 4963, 'scariest': 4964, 'growth': 4965, 'playboy': 4966, 'weari': 4967, 'evan': 4968, 'orchestr': 4969, 'spill': 4970, 'motorcycl': 4971, 'rapidli': 4972, 'mice': 4973, 'asset': 4974, 'hostil': 4975, 'bach': 4976, 'incorrect': 4977, 'monti': 4978, 'victorian': 4979, 'sparkl': 4980, 'modest': 4981, 'optimist': 4982, 'omin': 4983, 'ghetto': 4984, '21st': 4985, 'substanti': 4986, 'drone': 4987, 'cypher': 4988, 'sophi': 4989, 'weaker': 4990, 'assort': 4991, 'vastli': 4992, 'epitom': 4993, 'handicap': 4994, 'frontal': 4995, 'profil': 4996, 'bravo': 4997, 'hackman': 4998, 'detach': 4999}\n"
     ]
    },
    {
     "data": {
      "text/plain": [
       "[None]"
      ]
     },
     "execution_count": 14,
     "metadata": {},
     "output_type": "execute_result"
    }
   ],
   "source": [
    "[print(word_dict)]"
   ]
  },
  {
   "cell_type": "markdown",
   "metadata": {},
   "source": [
    "**Question:** What are the five most frequently appearing (tokenized) words in the training set? Does it makes sense that these words appear frequently in the training set?"
   ]
  },
  {
   "cell_type": "markdown",
   "metadata": {},
   "source": [
    "**Answer:**\n",
    "Yes. This makes sense, as we are talking about **film** and **movie** reviews."
   ]
  },
  {
   "cell_type": "code",
   "execution_count": 19,
   "metadata": {},
   "outputs": [
    {
     "name": "stdout",
     "output_type": "stream",
     "text": [
      "movi\n",
      "film\n",
      "one\n",
      "like\n",
      "time\n"
     ]
    }
   ],
   "source": [
    "# TODO: Use this space to determine the five most frequently appearing words in the training set.\n",
    "i=0\n",
    "for key in word_dict:\n",
    "    if i <5:\n",
    "        print(key)\n",
    "        i +=1"
   ]
  },
  {
   "cell_type": "markdown",
   "metadata": {},
   "source": [
    "### Save `word_dict`\n",
    "\n",
    "Later on when we construct an endpoint which processes a submitted review we will need to make use of the `word_dict` which we have created. As such, we will save it to a file now for future use."
   ]
  },
  {
   "cell_type": "code",
   "execution_count": 20,
   "metadata": {},
   "outputs": [],
   "source": [
    "data_dir = '../data/pytorch' # The folder we will use for storing data\n",
    "if not os.path.exists(data_dir): # Make sure that the folder exists\n",
    "    os.makedirs(data_dir)"
   ]
  },
  {
   "cell_type": "code",
   "execution_count": 21,
   "metadata": {},
   "outputs": [],
   "source": [
    "with open(os.path.join(data_dir, 'word_dict.pkl'), \"wb\") as f:\n",
    "    pickle.dump(word_dict, f)"
   ]
  },
  {
   "cell_type": "code",
   "execution_count": 22,
   "metadata": {},
   "outputs": [
    {
     "data": {
      "text/plain": [
       "['annoy',\n",
       " 'static',\n",
       " 'comedi',\n",
       " 'pain',\n",
       " 'miscast',\n",
       " 'peter',\n",
       " 'seller',\n",
       " 'smarmi',\n",
       " 'self',\n",
       " 'center',\n",
       " 'casanova',\n",
       " 'alway',\n",
       " 'way',\n",
       " 'ladi',\n",
       " 'major',\n",
       " 'blemish',\n",
       " 'seller',\n",
       " 'filmographi',\n",
       " 'even',\n",
       " 'wors',\n",
       " 'film',\n",
       " 'seem',\n",
       " 'made',\n",
       " 'sole',\n",
       " 'satisfi',\n",
       " 'ego',\n",
       " 'star']"
      ]
     },
     "execution_count": 22,
     "metadata": {},
     "output_type": "execute_result"
    }
   ],
   "source": [
    "#len(word_dict)\n",
    "train_X[4]"
   ]
  },
  {
   "cell_type": "markdown",
   "metadata": {},
   "source": [
    "### Transform the reviews\n",
    "\n",
    "Now that we have our word dictionary which allows us to transform the words appearing in the reviews into integers, it is time to make use of it and convert our reviews to their integer sequence representation, making sure to pad or truncate to a fixed length, which in our case is `500`."
   ]
  },
  {
   "cell_type": "code",
   "execution_count": 23,
   "metadata": {},
   "outputs": [],
   "source": [
    "def convert_and_pad(word_dict, sentence, pad=500):\n",
    "    NOWORD = 0 # We will use 0 to represent the 'no word' category\n",
    "    INFREQ = 1 # and we use 1 to represent the infrequent words, i.e., words not appearing in word_dict\n",
    "    \n",
    "    working_sentence = [NOWORD] * pad\n",
    "    \n",
    "    for word_index, word in enumerate(sentence[:pad]):\n",
    "        if word in word_dict:\n",
    "            working_sentence[word_index] = word_dict[word]\n",
    "        else:\n",
    "            working_sentence[word_index] = INFREQ\n",
    "            \n",
    "    return working_sentence, min(len(sentence), pad)\n",
    "\n",
    "def convert_and_pad_data(word_dict, data, pad=500):\n",
    "    result = []\n",
    "    lengths = []\n",
    "    \n",
    "    for sentence in data:\n",
    "        converted, leng = convert_and_pad(word_dict, sentence, pad)\n",
    "        result.append(converted)\n",
    "        lengths.append(leng)\n",
    "        \n",
    "    return np.array(result), np.array(lengths)"
   ]
  },
  {
   "cell_type": "code",
   "execution_count": 24,
   "metadata": {},
   "outputs": [
    {
     "data": {
      "text/plain": [
       "(array([[  42,  283,  389, ...,    0,    0,    0],\n",
       "        [ 391,  129, 2186, ...,    0,    0,    0],\n",
       "        [  16,    5,    2, ...,    0,    0,    0],\n",
       "        ...,\n",
       "        [  16,   10,    1, ...,    0,    0,    0],\n",
       "        [ 107,  325, 2434, ...,    0,    0,    0],\n",
       "        [   1,    2,  127, ...,    0,    0,    0]]),\n",
       " array([ 30,  86, 111, ...,  65,  76,  57]))"
      ]
     },
     "execution_count": 24,
     "metadata": {},
     "output_type": "execute_result"
    }
   ],
   "source": [
    "convert_and_pad_data(word_dict,train_X, pad=500)"
   ]
  },
  {
   "cell_type": "code",
   "execution_count": 25,
   "metadata": {},
   "outputs": [],
   "source": [
    "train_X, train_X_len = convert_and_pad_data(word_dict, train_X)\n",
    "test_X, test_X_len = convert_and_pad_data(word_dict, test_X)"
   ]
  },
  {
   "cell_type": "markdown",
   "metadata": {},
   "source": [
    "As a quick check to make sure that things are working as intended, check to see what one of the reviews in the training set looks like after having been processeed. Does this look reasonable? What is the length of a review in the training set?"
   ]
  },
  {
   "cell_type": "code",
   "execution_count": 26,
   "metadata": {},
   "outputs": [
    {
     "data": {
      "text/plain": [
       "array([  42,  283,  389, 3665,  537,  651,  295,    2, 1469, 1557,   46,\n",
       "        881,  300,    2,  881,  129,  431,  169, 1723,  267,   40,   47,\n",
       "       2793,  711, 1377,    1, 1327,   80,  690,  432,    0,    0,    0,\n",
       "          0,    0,    0,    0,    0,    0,    0,    0,    0,    0,    0,\n",
       "          0,    0,    0,    0,    0,    0,    0,    0,    0,    0,    0,\n",
       "          0,    0,    0,    0,    0,    0,    0,    0,    0,    0,    0,\n",
       "          0,    0,    0,    0,    0,    0,    0,    0,    0,    0,    0,\n",
       "          0,    0,    0,    0,    0,    0,    0,    0,    0,    0,    0,\n",
       "          0,    0,    0,    0,    0,    0,    0,    0,    0,    0,    0,\n",
       "          0,    0,    0,    0,    0,    0,    0,    0,    0,    0,    0,\n",
       "          0,    0,    0,    0,    0,    0,    0,    0,    0,    0,    0,\n",
       "          0,    0,    0,    0,    0,    0,    0,    0,    0,    0,    0,\n",
       "          0,    0,    0,    0,    0,    0,    0,    0,    0,    0,    0,\n",
       "          0,    0,    0,    0,    0,    0,    0,    0,    0,    0,    0,\n",
       "          0,    0,    0,    0,    0,    0,    0,    0,    0,    0,    0,\n",
       "          0,    0,    0,    0,    0,    0,    0,    0,    0,    0,    0,\n",
       "          0,    0,    0,    0,    0,    0,    0,    0,    0,    0,    0,\n",
       "          0,    0,    0,    0,    0,    0,    0,    0,    0,    0,    0,\n",
       "          0,    0,    0,    0,    0,    0,    0,    0,    0,    0,    0,\n",
       "          0,    0,    0,    0,    0,    0,    0,    0,    0,    0,    0,\n",
       "          0,    0,    0,    0,    0,    0,    0,    0,    0,    0,    0,\n",
       "          0,    0,    0,    0,    0,    0,    0,    0,    0,    0,    0,\n",
       "          0,    0,    0,    0,    0,    0,    0,    0,    0,    0,    0,\n",
       "          0,    0,    0,    0,    0,    0,    0,    0,    0,    0,    0,\n",
       "          0,    0,    0,    0,    0,    0,    0,    0,    0,    0,    0,\n",
       "          0,    0,    0,    0,    0,    0,    0,    0,    0,    0,    0,\n",
       "          0,    0,    0,    0,    0,    0,    0,    0,    0,    0,    0,\n",
       "          0,    0,    0,    0,    0,    0,    0,    0,    0,    0,    0,\n",
       "          0,    0,    0,    0,    0,    0,    0,    0,    0,    0,    0,\n",
       "          0,    0,    0,    0,    0,    0,    0,    0,    0,    0,    0,\n",
       "          0,    0,    0,    0,    0,    0,    0,    0,    0,    0,    0,\n",
       "          0,    0,    0,    0,    0,    0,    0,    0,    0,    0,    0,\n",
       "          0,    0,    0,    0,    0,    0,    0,    0,    0,    0,    0,\n",
       "          0,    0,    0,    0,    0,    0,    0,    0,    0,    0,    0,\n",
       "          0,    0,    0,    0,    0,    0,    0,    0,    0,    0,    0,\n",
       "          0,    0,    0,    0,    0,    0,    0,    0,    0,    0,    0,\n",
       "          0,    0,    0,    0,    0,    0,    0,    0,    0,    0,    0,\n",
       "          0,    0,    0,    0,    0,    0,    0,    0,    0,    0,    0,\n",
       "          0,    0,    0,    0,    0,    0,    0,    0,    0,    0,    0,\n",
       "          0,    0,    0,    0,    0,    0,    0,    0,    0,    0,    0,\n",
       "          0,    0,    0,    0,    0,    0,    0,    0,    0,    0,    0,\n",
       "          0,    0,    0,    0,    0,    0,    0,    0,    0,    0,    0,\n",
       "          0,    0,    0,    0,    0,    0,    0,    0,    0,    0,    0,\n",
       "          0,    0,    0,    0,    0,    0,    0,    0,    0,    0,    0,\n",
       "          0,    0,    0,    0,    0,    0,    0,    0,    0,    0,    0,\n",
       "          0,    0,    0,    0,    0])"
      ]
     },
     "execution_count": 26,
     "metadata": {},
     "output_type": "execute_result"
    }
   ],
   "source": [
    "# Use this cell to examine one of the processed reviews to make sure everything is working as intended.\n",
    "#print(\"Lenght of a review in the training set No.5: \",train_X_len[0])\n",
    "#print(\"Integer of Words of training review No.5: \", train_X[0])\n",
    "train_X[0]#[4]"
   ]
  },
  {
   "cell_type": "markdown",
   "metadata": {},
   "source": [
    "**Question:** In the cells above we use the `preprocess_data` and `convert_and_pad_data` methods to process both the training and testing set. Why or why not might this be a problem?"
   ]
  },
  {
   "cell_type": "markdown",
   "metadata": {},
   "source": [
    "**Answer:**\n",
    "In case of an error we would do the same error in the training set and in the testing set e.g. filtering out an important word or making a error while putting words to integers...."
   ]
  },
  {
   "cell_type": "markdown",
   "metadata": {},
   "source": [
    "## Step 3: Upload the data to S3\n",
    "\n",
    "As in the XGBoost notebook, we will need to upload the training dataset to S3 in order for our training code to access it. For now we will save it locally and we will upload to S3 later on.\n",
    "\n",
    "### Save the processed training dataset locally\n",
    "\n",
    "It is important to note the format of the data that we are saving as we will need to know it when we write the training code. In our case, each row of the dataset has the form `label`, `length`, `review[500]` where `review[500]` is a sequence of `500` integers representing the words in the review."
   ]
  },
  {
   "cell_type": "code",
   "execution_count": 27,
   "metadata": {},
   "outputs": [],
   "source": [
    "import pandas as pd\n",
    "    \n",
    "pd.concat([pd.DataFrame(train_y), pd.DataFrame(train_X_len), pd.DataFrame(train_X)], axis=1) \\\n",
    "        .to_csv(os.path.join(data_dir, 'train.csv'), header=False, index=False)"
   ]
  },
  {
   "cell_type": "markdown",
   "metadata": {},
   "source": [
    "### Uploading the training data\n",
    "\n",
    "\n",
    "Next, we need to upload the training data to the SageMaker default S3 bucket so that we can provide access to it while training our model."
   ]
  },
  {
   "cell_type": "code",
   "execution_count": 28,
   "metadata": {},
   "outputs": [],
   "source": [
    "import sagemaker\n",
    "\n",
    "sagemaker_session = sagemaker.Session()\n",
    "\n",
    "bucket = sagemaker_session.default_bucket()\n",
    "prefix = 'sagemaker/sentiment_rnn'\n",
    "\n",
    "role = sagemaker.get_execution_role()"
   ]
  },
  {
   "cell_type": "code",
   "execution_count": 29,
   "metadata": {},
   "outputs": [],
   "source": [
    "input_data = sagemaker_session.upload_data(path=data_dir, bucket=bucket, key_prefix=prefix)"
   ]
  },
  {
   "cell_type": "markdown",
   "metadata": {},
   "source": [
    "**NOTE:** The cell above uploads the entire contents of our data directory. This includes the `word_dict.pkl` file. This is fortunate as we will need this later on when we create an endpoint that accepts an arbitrary review. For now, we will just take note of the fact that it resides in the data directory (and so also in the S3 training bucket) and that we will need to make sure it gets saved in the model directory."
   ]
  },
  {
   "cell_type": "markdown",
   "metadata": {},
   "source": [
    "## Step 4: Build and Train the PyTorch Model\n",
    "\n",
    "In the XGBoost notebook we discussed what a model is in the SageMaker framework. In particular, a model comprises three objects\n",
    "\n",
    " - Model Artifacts,\n",
    " - Training Code, and\n",
    " - Inference Code,\n",
    " \n",
    "each of which interact with one another. In the XGBoost example we used training and inference code that was provided by Amazon. Here we will still be using containers provided by Amazon with the added benefit of being able to include our own custom code.\n",
    "\n",
    "We will start by implementing our own neural network in PyTorch along with a training script. For the purposes of this project we have provided the necessary model object in the `model.py` file, inside of the `train` folder. You can see the provided implementation by running the cell below."
   ]
  },
  {
   "cell_type": "code",
   "execution_count": 30,
   "metadata": {},
   "outputs": [
    {
     "name": "stdout",
     "output_type": "stream",
     "text": [
      "\u001b[34mimport\u001b[39;49;00m \u001b[04m\u001b[36mtorch.nn\u001b[39;49;00m \u001b[34mas\u001b[39;49;00m \u001b[04m\u001b[36mnn\u001b[39;49;00m\r\n",
      "\r\n",
      "\u001b[34mclass\u001b[39;49;00m \u001b[04m\u001b[32mLSTMClassifier\u001b[39;49;00m(nn.Module):\r\n",
      "    \u001b[33m\"\"\"\u001b[39;49;00m\r\n",
      "\u001b[33m    This is the simple RNN model we will be using to perform Sentiment Analysis.\u001b[39;49;00m\r\n",
      "\u001b[33m    \"\"\"\u001b[39;49;00m\r\n",
      "\r\n",
      "    \u001b[34mdef\u001b[39;49;00m \u001b[32m__init__\u001b[39;49;00m(\u001b[36mself\u001b[39;49;00m, embedding_dim, hidden_dim, vocab_size):\r\n",
      "        \u001b[33m\"\"\"\u001b[39;49;00m\r\n",
      "\u001b[33m        Initialize the model by settingg up the various layers.\u001b[39;49;00m\r\n",
      "\u001b[33m        \"\"\"\u001b[39;49;00m\r\n",
      "        \u001b[36msuper\u001b[39;49;00m(LSTMClassifier, \u001b[36mself\u001b[39;49;00m).\u001b[32m__init__\u001b[39;49;00m()\r\n",
      "\r\n",
      "        \u001b[36mself\u001b[39;49;00m.embedding = nn.Embedding(vocab_size, embedding_dim, padding_idx=\u001b[34m0\u001b[39;49;00m)\r\n",
      "        \u001b[36mself\u001b[39;49;00m.lstm = nn.LSTM(embedding_dim, hidden_dim)\r\n",
      "        \u001b[36mself\u001b[39;49;00m.dense = nn.Linear(in_features=hidden_dim, out_features=\u001b[34m1\u001b[39;49;00m)\r\n",
      "        \u001b[36mself\u001b[39;49;00m.sig = nn.Sigmoid()\r\n",
      "        \r\n",
      "        \u001b[36mself\u001b[39;49;00m.word_dict = \u001b[36mNone\u001b[39;49;00m\r\n",
      "\r\n",
      "    \u001b[34mdef\u001b[39;49;00m \u001b[32mforward\u001b[39;49;00m(\u001b[36mself\u001b[39;49;00m, x):\r\n",
      "        \u001b[33m\"\"\"\u001b[39;49;00m\r\n",
      "\u001b[33m        Perform a forward pass of our model on some input.\u001b[39;49;00m\r\n",
      "\u001b[33m        \"\"\"\u001b[39;49;00m\r\n",
      "        x = x.t()\r\n",
      "        lengths = x[\u001b[34m0\u001b[39;49;00m,:]\r\n",
      "        reviews = x[\u001b[34m1\u001b[39;49;00m:,:]\r\n",
      "        embeds = \u001b[36mself\u001b[39;49;00m.embedding(reviews)\r\n",
      "        lstm_out, _ = \u001b[36mself\u001b[39;49;00m.lstm(embeds)\r\n",
      "        out = \u001b[36mself\u001b[39;49;00m.dense(lstm_out)\r\n",
      "        out = out[lengths - \u001b[34m1\u001b[39;49;00m, \u001b[36mrange\u001b[39;49;00m(\u001b[36mlen\u001b[39;49;00m(lengths))]\r\n",
      "        \u001b[34mreturn\u001b[39;49;00m \u001b[36mself\u001b[39;49;00m.sig(out.squeeze())\r\n"
     ]
    }
   ],
   "source": [
    "!pygmentize train/model.py"
   ]
  },
  {
   "cell_type": "markdown",
   "metadata": {},
   "source": [
    "The important takeaway from the implementation provided is that there are three parameters that we may wish to tweak to improve the performance of our model. These are the embedding dimension, the hidden dimension and the size of the vocabulary. We will likely want to make these parameters configurable in the training script so that if we wish to modify them we do not need to modify the script itself. We will see how to do this later on. To start we will write some of the training code in the notebook so that we can more easily diagnose any issues that arise.\n",
    "\n",
    "First we will load a small portion of the training data set to use as a sample. It would be very time consuming to try and train the model completely in the notebook as we do not have access to a gpu and the compute instance that we are using is not particularly powerful. However, we can work on a small bit of the data to get a feel for how our training script is behaving."
   ]
  },
  {
   "cell_type": "code",
   "execution_count": 31,
   "metadata": {},
   "outputs": [],
   "source": [
    "import torch\n",
    "import torch.utils.data\n",
    "\n",
    "# Read in only the first 250 rows\n",
    "train_sample = pd.read_csv(os.path.join(data_dir, 'train.csv'), header=None, names=None, nrows=250)\n",
    "\n",
    "# Turn the input pandas dataframe into tensors\n",
    "train_sample_y = torch.from_numpy(train_sample[[0]].values).float().squeeze()\n",
    "train_sample_X = torch.from_numpy(train_sample.drop([0], axis=1).values).long()\n",
    "\n",
    "# Build the dataset\n",
    "train_sample_ds = torch.utils.data.TensorDataset(train_sample_X, train_sample_y)\n",
    "# Build the dataloader\n",
    "train_sample_dl = torch.utils.data.DataLoader(train_sample_ds, batch_size=50)"
   ]
  },
  {
   "cell_type": "markdown",
   "metadata": {},
   "source": [
    "### (TODO) Writing the training method\n",
    "\n",
    "Next we need to write the training code itself. This should be very similar to training methods that you have written before to train PyTorch models. We will leave any difficult aspects such as model saving / loading and parameter loading until a little later."
   ]
  },
  {
   "cell_type": "code",
   "execution_count": 32,
   "metadata": {},
   "outputs": [],
   "source": [
    "def train(model, train_loader, epochs, optimizer, loss_fn, device):\n",
    "    \n",
    "    for epoch in range(1, epochs + 1):\n",
    "        model.train()\n",
    "        total_loss = 0\n",
    "        for batch in train_loader:         \n",
    "            batch_X, batch_y = batch\n",
    "            \n",
    "            batch_X = batch_X.to(device)\n",
    "            batch_y = batch_y.to(device)\n",
    "            \n",
    "            # TODO: Complete this train method to train the model provided.\n",
    "            model.zero_grad()\n",
    "            #Forward pass\n",
    "            prediction=model.forward(batch_X)\n",
    "            #Compute loss, gradients and update parameters\n",
    "            loss= loss_fn(prediction.squeeze(),batch_y.float())\n",
    "            loss.backward()\n",
    "            optimizer.step()\n",
    "                 \n",
    "            \n",
    "            total_loss += loss.data.item()\n",
    "        print(\"Epoch: {}, BCELoss: {}\".format(epoch, total_loss / len(train_loader)))"
   ]
  },
  {
   "cell_type": "markdown",
   "metadata": {},
   "source": [
    "Supposing we have the training method above, we will test that it is working by writing a bit of code in the notebook that executes our training method on the small sample training set that we loaded earlier. The reason for doing this in the notebook is so that we have an opportunity to fix any errors that arise early when they are easier to diagnose."
   ]
  },
  {
   "cell_type": "code",
   "execution_count": 33,
   "metadata": {},
   "outputs": [
    {
     "name": "stdout",
     "output_type": "stream",
     "text": [
      "Epoch: 1, BCELoss: 0.6921188592910766\n",
      "Epoch: 2, BCELoss: 0.6829126477241516\n",
      "Epoch: 3, BCELoss: 0.6749129056930542\n",
      "Epoch: 4, BCELoss: 0.6660653591156006\n",
      "Epoch: 5, BCELoss: 0.6554699063301086\n"
     ]
    }
   ],
   "source": [
    "import torch.optim as optim\n",
    "from train.model import LSTMClassifier\n",
    "\n",
    "device = torch.device(\"cuda\" if torch.cuda.is_available() else \"cpu\")\n",
    "model = LSTMClassifier(32, 100, 5000).to(device)\n",
    "optimizer = optim.Adam(model.parameters())\n",
    "loss_fn = torch.nn.BCELoss()\n",
    "\n",
    "train(model, train_sample_dl, 5, optimizer, loss_fn, device)"
   ]
  },
  {
   "cell_type": "markdown",
   "metadata": {},
   "source": [
    "In order to construct a PyTorch model using SageMaker we must provide SageMaker with a training script. We may optionally include a directory which will be copied to the container and from which our training code will be run. When the training container is executed it will check the uploaded directory (if there is one) for a `requirements.txt` file and install any required Python libraries, after which the training script will be run."
   ]
  },
  {
   "cell_type": "markdown",
   "metadata": {},
   "source": [
    "### (TODO) Training the model\n",
    "\n",
    "When a PyTorch model is constructed in SageMaker, an entry point must be specified. This is the Python file which will be executed when the model is trained. Inside of the `train` directory is a file called `train.py` which has been provided and which contains most of the necessary code to train our model. The only thing that is missing is the implementation of the `train()` method which you wrote earlier in this notebook.\n",
    "\n",
    "**TODO**: Copy the `train()` method written above and paste it into the `train/train.py` file where required.\n",
    "\n",
    "The way that SageMaker passes hyperparameters to the training script is by way of arguments. These arguments can then be parsed and used in the training script. To see how this is done take a look at the provided `train/train.py` file."
   ]
  },
  {
   "cell_type": "code",
   "execution_count": 44,
   "metadata": {},
   "outputs": [],
   "source": [
    "from sagemaker.pytorch import PyTorch\n",
    "\n",
    "estimator = PyTorch(entry_point=\"train.py\",\n",
    "                    source_dir=\"train\",\n",
    "                    role=role,\n",
    "                    framework_version='0.4.0',\n",
    "                    train_instance_count=1,\n",
    "                    train_instance_type='ml.p2.xlarge',\n",
    "                    hyperparameters={\n",
    "                        'epochs': 10,\n",
    "                        'hidden_dim': 200,\n",
    "                    })"
   ]
  },
  {
   "cell_type": "code",
   "execution_count": 45,
   "metadata": {},
   "outputs": [
    {
     "name": "stdout",
     "output_type": "stream",
     "text": [
      "2019-05-16 18:05:09 Starting - Starting the training job...\n",
      "2019-05-16 18:05:10 Starting - Launching requested ML instances.........\n",
      "2019-05-16 18:06:46 Starting - Preparing the instances for training......\n",
      "2019-05-16 18:07:42 Downloading - Downloading input data...\n",
      "2019-05-16 18:08:17 Training - Downloading the training image...\n",
      "2019-05-16 18:09:02 Training - Training image download completed. Training in progress.\n",
      "\u001b[31mbash: cannot set terminal process group (-1): Inappropriate ioctl for device\u001b[0m\n",
      "\u001b[31mbash: no job control in this shell\u001b[0m\n",
      "\u001b[31m2019-05-16 18:09:02,945 sagemaker-containers INFO     Imported framework sagemaker_pytorch_container.training\u001b[0m\n",
      "\u001b[31m2019-05-16 18:09:02,970 sagemaker_pytorch_container.training INFO     Block until all host DNS lookups succeed.\u001b[0m\n",
      "\u001b[31m2019-05-16 18:09:05,977 sagemaker_pytorch_container.training INFO     Invoking user training script.\u001b[0m\n",
      "\u001b[31m2019-05-16 18:09:06,196 sagemaker-containers INFO     Module train does not provide a setup.py. \u001b[0m\n",
      "\u001b[31mGenerating setup.py\u001b[0m\n",
      "\u001b[31m2019-05-16 18:09:06,196 sagemaker-containers INFO     Generating setup.cfg\u001b[0m\n",
      "\u001b[31m2019-05-16 18:09:06,196 sagemaker-containers INFO     Generating MANIFEST.in\u001b[0m\n",
      "\u001b[31m2019-05-16 18:09:06,197 sagemaker-containers INFO     Installing module with the following command:\u001b[0m\n",
      "\u001b[31m/usr/bin/python -m pip install -U . -r requirements.txt\u001b[0m\n",
      "\u001b[31mProcessing /opt/ml/code\u001b[0m\n",
      "\u001b[31mCollecting pandas (from -r requirements.txt (line 1))\u001b[0m\n",
      "\u001b[31m  Downloading https://files.pythonhosted.org/packages/74/24/0cdbf8907e1e3bc5a8da03345c23cbed7044330bb8f73bb12e711a640a00/pandas-0.24.2-cp35-cp35m-manylinux1_x86_64.whl (10.0MB)\u001b[0m\n",
      "\u001b[31mCollecting numpy (from -r requirements.txt (line 2))\n",
      "  Downloading https://files.pythonhosted.org/packages/f6/f3/cc6c6745347c1e997cc3e58390584a250b8e22b6dfc45414a7d69a3df016/numpy-1.16.3-cp35-cp35m-manylinux1_x86_64.whl (17.2MB)\u001b[0m\n",
      "\u001b[31mCollecting nltk (from -r requirements.txt (line 3))\n",
      "  Downloading https://files.pythonhosted.org/packages/73/56/90178929712ce427ebad179f8dc46c8deef4e89d4c853092bee1efd57d05/nltk-3.4.1.zip (3.1MB)\u001b[0m\n",
      "\u001b[31mCollecting beautifulsoup4 (from -r requirements.txt (line 4))\n",
      "  Downloading https://files.pythonhosted.org/packages/1d/5d/3260694a59df0ec52f8b4883f5d23b130bc237602a1411fa670eae12351e/beautifulsoup4-4.7.1-py3-none-any.whl (94kB)\u001b[0m\n",
      "\u001b[31mCollecting html5lib (from -r requirements.txt (line 5))\n",
      "  Downloading https://files.pythonhosted.org/packages/a5/62/bbd2be0e7943ec8504b517e62bab011b4946e1258842bc159e5dfde15b96/html5lib-1.0.1-py2.py3-none-any.whl (117kB)\u001b[0m\n",
      "\u001b[31mCollecting pytz>=2011k (from pandas->-r requirements.txt (line 1))\u001b[0m\n",
      "\u001b[31m  Downloading https://files.pythonhosted.org/packages/3d/73/fe30c2daaaa0713420d0382b16fbb761409f532c56bdcc514bf7b6262bb6/pytz-2019.1-py2.py3-none-any.whl (510kB)\u001b[0m\n",
      "\u001b[31mRequirement already satisfied, skipping upgrade: python-dateutil>=2.5.0 in /usr/local/lib/python3.5/dist-packages (from pandas->-r requirements.txt (line 1)) (2.7.5)\u001b[0m\n",
      "\u001b[31mRequirement already satisfied, skipping upgrade: six in /usr/local/lib/python3.5/dist-packages (from nltk->-r requirements.txt (line 3)) (1.11.0)\u001b[0m\n",
      "\u001b[31mCollecting soupsieve>=1.2 (from beautifulsoup4->-r requirements.txt (line 4))\n",
      "  Downloading https://files.pythonhosted.org/packages/b9/a5/7ea40d0f8676bde6e464a6435a48bc5db09b1a8f4f06d41dd997b8f3c616/soupsieve-1.9.1-py2.py3-none-any.whl\u001b[0m\n",
      "\u001b[31mCollecting webencodings (from html5lib->-r requirements.txt (line 5))\n",
      "  Downloading https://files.pythonhosted.org/packages/f4/24/2a3e3df732393fed8b3ebf2ec078f05546de641fe1b667ee316ec1dcf3b7/webencodings-0.5.1-py2.py3-none-any.whl\u001b[0m\n",
      "\u001b[31mBuilding wheels for collected packages: nltk, train\n",
      "  Running setup.py bdist_wheel for nltk: started\u001b[0m\n",
      "\u001b[31m  Running setup.py bdist_wheel for nltk: finished with status 'done'\n",
      "  Stored in directory: /root/.cache/pip/wheels/97/8a/10/d646015f33c525688e91986c4544c68019b19a473cb33d3b55\n",
      "  Running setup.py bdist_wheel for train: started\n",
      "  Running setup.py bdist_wheel for train: finished with status 'done'\n",
      "  Stored in directory: /tmp/pip-ephem-wheel-cache-ootuncn1/wheels/35/24/16/37574d11bf9bde50616c67372a334f94fa8356bc7164af8ca3\u001b[0m\n",
      "\u001b[31mSuccessfully built nltk train\u001b[0m\n",
      "\u001b[31mInstalling collected packages: pytz, numpy, pandas, nltk, soupsieve, beautifulsoup4, webencodings, html5lib, train\n",
      "  Found existing installation: numpy 1.15.4\n",
      "    Uninstalling numpy-1.15.4:\u001b[0m\n",
      "\u001b[31m      Successfully uninstalled numpy-1.15.4\u001b[0m\n",
      "\u001b[31mSuccessfully installed beautifulsoup4-4.7.1 html5lib-1.0.1 nltk-3.4.1 numpy-1.16.3 pandas-0.24.2 pytz-2019.1 soupsieve-1.9.1 train-1.0.0 webencodings-0.5.1\u001b[0m\n",
      "\u001b[31mYou are using pip version 18.1, however version 19.1.1 is available.\u001b[0m\n",
      "\u001b[31mYou should consider upgrading via the 'pip install --upgrade pip' command.\u001b[0m\n",
      "\u001b[31m2019-05-16 18:09:17,717 sagemaker-containers INFO     Invoking user script\n",
      "\u001b[0m\n",
      "\u001b[31mTraining Env:\n",
      "\u001b[0m\n",
      "\u001b[31m{\n",
      "    \"resource_config\": {\n",
      "        \"current_host\": \"algo-1\",\n",
      "        \"hosts\": [\n",
      "            \"algo-1\"\n",
      "        ],\n",
      "        \"network_interface_name\": \"ethwe\"\n",
      "    },\n",
      "    \"output_dir\": \"/opt/ml/output\",\n",
      "    \"output_data_dir\": \"/opt/ml/output/data\",\n",
      "    \"channel_input_dirs\": {\n",
      "        \"training\": \"/opt/ml/input/data/training\"\n",
      "    },\n",
      "    \"num_gpus\": 1,\n",
      "    \"module_name\": \"train\",\n",
      "    \"network_interface_name\": \"ethwe\",\n",
      "    \"user_entry_point\": \"train.py\",\n",
      "    \"current_host\": \"algo-1\",\n",
      "    \"input_config_dir\": \"/opt/ml/input/config\",\n",
      "    \"output_intermediate_dir\": \"/opt/ml/output/intermediate\",\n",
      "    \"log_level\": 20,\n",
      "    \"input_data_config\": {\n",
      "        \"training\": {\n",
      "            \"RecordWrapperType\": \"None\",\n",
      "            \"TrainingInputMode\": \"File\",\n",
      "            \"S3DistributionType\": \"FullyReplicated\"\n",
      "        }\n",
      "    },\n",
      "    \"job_name\": \"sagemaker-pytorch-2019-05-16-18-05-08-443\",\n",
      "    \"input_dir\": \"/opt/ml/input\",\n",
      "    \"hosts\": [\n",
      "        \"algo-1\"\n",
      "    ],\n",
      "    \"framework_module\": \"sagemaker_pytorch_container.training:main\",\n",
      "    \"model_dir\": \"/opt/ml/model\",\n",
      "    \"module_dir\": \"s3://sagemaker-eu-west-1-575763869205/sagemaker-pytorch-2019-05-16-18-05-08-443/source/sourcedir.tar.gz\",\n",
      "    \"hyperparameters\": {\n",
      "        \"epochs\": 10,\n",
      "        \"hidden_dim\": 200\n",
      "    },\n",
      "    \"additional_framework_parameters\": {},\n",
      "    \"num_cpus\": 4\u001b[0m\n",
      "\u001b[31m}\n",
      "\u001b[0m\n",
      "\u001b[31mEnvironment variables:\n",
      "\u001b[0m\n",
      "\u001b[31mSM_MODEL_DIR=/opt/ml/model\u001b[0m\n",
      "\u001b[31mSM_NUM_GPUS=1\u001b[0m\n",
      "\u001b[31mSM_INPUT_DATA_CONFIG={\"training\":{\"RecordWrapperType\":\"None\",\"S3DistributionType\":\"FullyReplicated\",\"TrainingInputMode\":\"File\"}}\u001b[0m\n",
      "\u001b[31mSM_HP_HIDDEN_DIM=200\u001b[0m\n",
      "\u001b[31mSM_FRAMEWORK_MODULE=sagemaker_pytorch_container.training:main\u001b[0m\n",
      "\u001b[31mSM_MODULE_DIR=s3://sagemaker-eu-west-1-575763869205/sagemaker-pytorch-2019-05-16-18-05-08-443/source/sourcedir.tar.gz\u001b[0m\n",
      "\u001b[31mSM_OUTPUT_DIR=/opt/ml/output\u001b[0m\n",
      "\u001b[31mSM_INPUT_DIR=/opt/ml/input\u001b[0m\n",
      "\u001b[31mSM_RESOURCE_CONFIG={\"current_host\":\"algo-1\",\"hosts\":[\"algo-1\"],\"network_interface_name\":\"ethwe\"}\u001b[0m\n",
      "\u001b[31mSM_NUM_CPUS=4\u001b[0m\n",
      "\u001b[31mSM_LOG_LEVEL=20\u001b[0m\n",
      "\u001b[31mSM_USER_ARGS=[\"--epochs\",\"10\",\"--hidden_dim\",\"200\"]\u001b[0m\n",
      "\u001b[31mSM_TRAINING_ENV={\"additional_framework_parameters\":{},\"channel_input_dirs\":{\"training\":\"/opt/ml/input/data/training\"},\"current_host\":\"algo-1\",\"framework_module\":\"sagemaker_pytorch_container.training:main\",\"hosts\":[\"algo-1\"],\"hyperparameters\":{\"epochs\":10,\"hidden_dim\":200},\"input_config_dir\":\"/opt/ml/input/config\",\"input_data_config\":{\"training\":{\"RecordWrapperType\":\"None\",\"S3DistributionType\":\"FullyReplicated\",\"TrainingInputMode\":\"File\"}},\"input_dir\":\"/opt/ml/input\",\"job_name\":\"sagemaker-pytorch-2019-05-16-18-05-08-443\",\"log_level\":20,\"model_dir\":\"/opt/ml/model\",\"module_dir\":\"s3://sagemaker-eu-west-1-575763869205/sagemaker-pytorch-2019-05-16-18-05-08-443/source/sourcedir.tar.gz\",\"module_name\":\"train\",\"network_interface_name\":\"ethwe\",\"num_cpus\":4,\"num_gpus\":1,\"output_data_dir\":\"/opt/ml/output/data\",\"output_dir\":\"/opt/ml/output\",\"output_intermediate_dir\":\"/opt/ml/output/intermediate\",\"resource_config\":{\"current_host\":\"algo-1\",\"hosts\":[\"algo-1\"],\"network_interface_name\":\"ethwe\"},\"user_entry_point\":\"train.py\"}\u001b[0m\n",
      "\u001b[31mSM_USER_ENTRY_POINT=train.py\u001b[0m\n",
      "\u001b[31mSM_MODULE_NAME=train\u001b[0m\n",
      "\u001b[31mSM_CHANNEL_TRAINING=/opt/ml/input/data/training\u001b[0m\n",
      "\u001b[31mSM_INPUT_CONFIG_DIR=/opt/ml/input/config\u001b[0m\n",
      "\u001b[31mSM_HP_EPOCHS=10\u001b[0m\n",
      "\u001b[31mPYTHONPATH=/usr/local/bin:/usr/lib/python35.zip:/usr/lib/python3.5:/usr/lib/python3.5/plat-x86_64-linux-gnu:/usr/lib/python3.5/lib-dynload:/usr/local/lib/python3.5/dist-packages:/usr/lib/python3/dist-packages\u001b[0m\n",
      "\u001b[31mSM_FRAMEWORK_PARAMS={}\u001b[0m\n",
      "\u001b[31mSM_OUTPUT_INTERMEDIATE_DIR=/opt/ml/output/intermediate\u001b[0m\n",
      "\u001b[31mSM_HPS={\"epochs\":10,\"hidden_dim\":200}\u001b[0m\n",
      "\u001b[31mSM_CHANNELS=[\"training\"]\u001b[0m\n",
      "\u001b[31mSM_HOSTS=[\"algo-1\"]\u001b[0m\n",
      "\u001b[31mSM_OUTPUT_DATA_DIR=/opt/ml/output/data\u001b[0m\n",
      "\u001b[31mSM_NETWORK_INTERFACE_NAME=ethwe\u001b[0m\n",
      "\u001b[31mSM_CURRENT_HOST=algo-1\n",
      "\u001b[0m\n",
      "\u001b[31mInvoking script with the following command:\n",
      "\u001b[0m\n",
      "\u001b[31m/usr/bin/python -m train --epochs 10 --hidden_dim 200\n",
      "\n",
      "\u001b[0m\n",
      "\u001b[31mUsing device cuda.\u001b[0m\n",
      "\u001b[31mGet train data loader.\u001b[0m\n",
      "\u001b[31mModel loaded with embedding_dim 32, hidden_dim 200, vocab_size 5000.\u001b[0m\n",
      "\u001b[31mEpoch: 1, BCELoss: 0.6654554739290354\u001b[0m\n",
      "\u001b[31mEpoch: 2, BCELoss: 0.5901798995173707\u001b[0m\n",
      "\u001b[31mEpoch: 3, BCELoss: 0.5027244510699291\u001b[0m\n",
      "\u001b[31mEpoch: 4, BCELoss: 0.43404638098210707\u001b[0m\n",
      "\u001b[31mEpoch: 5, BCELoss: 0.3889513721271437\u001b[0m\n",
      "\u001b[31mEpoch: 6, BCELoss: 0.3511033690705591\u001b[0m\n",
      "\u001b[31mEpoch: 7, BCELoss: 0.3281901807201152\u001b[0m\n",
      "\u001b[31mEpoch: 8, BCELoss: 0.29925320221453294\u001b[0m\n",
      "\u001b[31mEpoch: 9, BCELoss: 0.28755668474703416\u001b[0m\n",
      "\u001b[31mEpoch: 10, BCELoss: 0.26713897044561347\u001b[0m\n",
      "\u001b[31m2019-05-16 18:12:15,072 sagemaker-containers INFO     Reporting training SUCCESS\u001b[0m\n",
      "\n",
      "2019-05-16 18:12:25 Uploading - Uploading generated training model\n",
      "2019-05-16 18:12:25 Completed - Training job completed\n",
      "Billable seconds: 283\n"
     ]
    }
   ],
   "source": [
    "estimator.fit({'training': input_data}) "
   ]
  },
  {
   "cell_type": "markdown",
   "metadata": {},
   "source": [
    "## Step 5: Testing the model\n",
    "\n",
    "As mentioned at the top of this notebook, we will be testing this model by first deploying it and then sending the testing data to the deployed endpoint. We will do this so that we can make sure that the deployed model is working correctly.\n",
    "\n",
    "## Step 6: Deploy the model for testing\n",
    "\n",
    "Now that we have trained our model, we would like to test it to see how it performs. Currently our model takes input of the form `review_length, review[500]` where `review[500]` is a sequence of `500` integers which describe the words present in the review, encoded using `word_dict`. Fortunately for us, SageMaker provides built-in inference code for models with simple inputs such as this.\n",
    "\n",
    "There is one thing that we need to provide, however, and that is a function which loads the saved model. This function must be called `model_fn()` and takes as its only parameter a path to the directory where the model artifacts are stored. This function must also be present in the python file which we specified as the entry point. In our case the model loading function has been provided and so no changes need to be made.\n",
    "\n",
    "**NOTE**: When the built-in inference code is run it must import the `model_fn()` method from the `train.py` file. This is why the training code is wrapped in a main guard ( ie, `if __name__ == '__main__':` )\n",
    "\n",
    "Since we don't need to change anything in the code that was uploaded during training, we can simply deploy the current model as-is.\n",
    "\n",
    "**NOTE:** When deploying a model you are asking SageMaker to launch an compute instance that will wait for data to be sent to it. As a result, this compute instance will continue to run until *you* shut it down. This is important to know since the cost of a deployed endpoint depends on how long it has been running for.\n",
    "\n",
    "In other words **If you are no longer using a deployed endpoint, shut it down!**\n",
    "\n",
    "**TODO:** Deploy the trained model."
   ]
  },
  {
   "cell_type": "code",
   "execution_count": 48,
   "metadata": {},
   "outputs": [
    {
     "name": "stdout",
     "output_type": "stream",
     "text": [
      "----------------------------------------------------------------------------------------!"
     ]
    }
   ],
   "source": [
    "# TODO: Deploy the trained model\n",
    "rnn_predictor = estimator.deploy(initial_instance_count=1, instance_type= 'ml.m4.xlarge')"
   ]
  },
  {
   "cell_type": "markdown",
   "metadata": {},
   "source": [
    "## Step 7 - Use the model for testing\n",
    "\n",
    "Once deployed, we can read in the test data and send it off to our deployed model to get some results. Once we collect all of the results we can determine how accurate our model is."
   ]
  },
  {
   "cell_type": "code",
   "execution_count": 49,
   "metadata": {},
   "outputs": [],
   "source": [
    "test_X = pd.concat([pd.DataFrame(test_X_len), pd.DataFrame(test_X)], axis=1)"
   ]
  },
  {
   "cell_type": "code",
   "execution_count": 52,
   "metadata": {},
   "outputs": [],
   "source": [
    "# We split the data into chunks and send each chunk seperately, accumulating the results.\n",
    "\n",
    "def predict(data, rows=512):\n",
    "    split_array = np.array_split(data, int(data.shape[0] / float(rows) + 1))\n",
    "    predictions = np.array([])\n",
    "    for array in split_array:\n",
    "        predictions = np.append(predictions, rnn_predictor.predict(array))\n",
    "    \n",
    "    return predictions"
   ]
  },
  {
   "cell_type": "code",
   "execution_count": 53,
   "metadata": {},
   "outputs": [],
   "source": [
    "predictions = predict(test_X.values)\n",
    "predictions = [round(num) for num in predictions]"
   ]
  },
  {
   "cell_type": "code",
   "execution_count": 54,
   "metadata": {},
   "outputs": [
    {
     "data": {
      "text/plain": [
       "0.85364"
      ]
     },
     "execution_count": 54,
     "metadata": {},
     "output_type": "execute_result"
    }
   ],
   "source": [
    "from sklearn.metrics import accuracy_score\n",
    "accuracy_score(test_y, predictions)"
   ]
  },
  {
   "cell_type": "markdown",
   "metadata": {},
   "source": [
    "**Question:** How does this model compare to the XGBoost model you created earlier? Why might these two models perform differently on this dataset? Which do *you* think is better for sentiment analysis?"
   ]
  },
  {
   "cell_type": "markdown",
   "metadata": {},
   "source": [
    "**Answer:**\n",
    "The RNN Model is probably more accurate for Natural Language Processing than the XGBoost, but also more complex and needs more resources..."
   ]
  },
  {
   "cell_type": "markdown",
   "metadata": {},
   "source": [
    "### (TODO) More testing\n",
    "\n",
    "We now have a trained model which has been deployed and which we can send processed reviews to and which returns the predicted sentiment. However, ultimately we would like to be able to send our model an unprocessed review. That is, we would like to send the review itself as a string. For example, suppose we wish to send the following review to our model."
   ]
  },
  {
   "cell_type": "code",
   "execution_count": 57,
   "metadata": {},
   "outputs": [],
   "source": [
    "test_review = 'The simplest pleasures in life are the best, and this film is one of them. Combining a rather basic storyline of love and adventure this movie transcends the usual weekend fair with wit and unmitigated charm.'"
   ]
  },
  {
   "cell_type": "markdown",
   "metadata": {},
   "source": [
    "The question we now need to answer is, how do we send this review to our model?\n",
    "\n",
    "Recall in the first section of this notebook we did a bunch of data processing to the IMDb dataset. In particular, we did two specific things to the provided reviews.\n",
    " - Removed any html tags and stemmed the input\n",
    " - Encoded the review as a sequence of integers using `word_dict`\n",
    " \n",
    "In order process the review we will need to repeat these two steps.\n",
    "\n",
    "**TODO**: Using the `review_to_words` and `convert_and_pad` methods from section one, convert `test_review` into a numpy array `test_data` suitable to send to our model. Remember that our model expects input of the form `review_length, review[500]`."
   ]
  },
  {
   "cell_type": "code",
   "execution_count": 62,
   "metadata": {},
   "outputs": [],
   "source": [
    "# TODO: Convert test_review into a form usable by the model and save the results in test_data\n",
    "more_testing = review_to_words(test_review)\n",
    "more_testing_converted_X, more_testing_converted_len = convert_and_pad(word_dict,more_testing)\n",
    "\n",
    "temp = pd.DataFrame(more_testing_converted_X).transpose()\n",
    "test_data = pd.concat([pd.DataFrame([more_testing_converted_len]), temp],axis=1)"
   ]
  },
  {
   "cell_type": "markdown",
   "metadata": {},
   "source": [
    "Now that we have processed the review, we can send the resulting array to our model to predict the sentiment of the review."
   ]
  },
  {
   "cell_type": "code",
   "execution_count": 64,
   "metadata": {},
   "outputs": [
    {
     "data": {
      "text/plain": [
       "array(0.8806502, dtype=float32)"
      ]
     },
     "execution_count": 64,
     "metadata": {},
     "output_type": "execute_result"
    }
   ],
   "source": [
    "rnn_predictor.predict(test_data)"
   ]
  },
  {
   "cell_type": "markdown",
   "metadata": {},
   "source": [
    "Since the return value of our model is close to `1`, we can be certain that the review we submitted is positive."
   ]
  },
  {
   "cell_type": "markdown",
   "metadata": {},
   "source": [
    "### Delete the endpoint\n",
    "\n",
    "Of course, just like in the XGBoost notebook, once we've deployed an endpoint it continues to run until we tell it to shut down. Since we are done using our endpoint for now, we can delete it."
   ]
  },
  {
   "cell_type": "code",
   "execution_count": 66,
   "metadata": {},
   "outputs": [],
   "source": [
    "estimator.delete_endpoint()"
   ]
  },
  {
   "cell_type": "markdown",
   "metadata": {},
   "source": [
    "## Step 6 (again) - Deploy the model for the web app\n",
    "\n",
    "Now that we know that our model is working, it's time to create some custom inference code so that we can send the model a review which has not been processed and have it determine the sentiment of the review.\n",
    "\n",
    "As we saw above, by default the estimator which we created, when deployed, will use the entry script and directory which we provided when creating the model. However, since we now wish to accept a string as input and our model expects a processed review, we need to write some custom inference code.\n",
    "\n",
    "We will store the code that we write in the `serve` directory. Provided in this directory is the `model.py` file that we used to construct our model, a `utils.py` file which contains the `review_to_words` and `convert_and_pad` pre-processing functions which we used during the initial data processing, and `predict.py`, the file which will contain our custom inference code. Note also that `requirements.txt` is present which will tell SageMaker what Python libraries are required by our custom inference code.\n",
    "\n",
    "When deploying a PyTorch model in SageMaker, you are expected to provide four functions which the SageMaker inference container will use.\n",
    " - `model_fn`: This function is the same function that we used in the training script and it tells SageMaker how to load our model.\n",
    " - `input_fn`: This function receives the raw serialized input that has been sent to the model's endpoint and its job is to de-serialize and make the input available for the inference code.\n",
    " - `output_fn`: This function takes the output of the inference code and its job is to serialize this output and return it to the caller of the model's endpoint.\n",
    " - `predict_fn`: The heart of the inference script, this is where the actual prediction is done and is the function which you will need to complete.\n",
    "\n",
    "For the simple website that we are constructing during this project, the `input_fn` and `output_fn` methods are relatively straightforward. We only require being able to accept a string as input and we expect to return a single value as output. You might imagine though that in a more complex application the input or output may be image data or some other binary data which would require some effort to serialize.\n",
    "\n",
    "### (TODO) Writing inference code\n",
    "\n",
    "Before writing our custom inference code, we will begin by taking a look at the code which has been provided."
   ]
  },
  {
   "cell_type": "code",
   "execution_count": 67,
   "metadata": {},
   "outputs": [
    {
     "name": "stdout",
     "output_type": "stream",
     "text": [
      "\u001b[34mimport\u001b[39;49;00m \u001b[04m\u001b[36margparse\u001b[39;49;00m\r\n",
      "\u001b[34mimport\u001b[39;49;00m \u001b[04m\u001b[36mjson\u001b[39;49;00m\r\n",
      "\u001b[34mimport\u001b[39;49;00m \u001b[04m\u001b[36mos\u001b[39;49;00m\r\n",
      "\u001b[34mimport\u001b[39;49;00m \u001b[04m\u001b[36mpickle\u001b[39;49;00m\r\n",
      "\u001b[34mimport\u001b[39;49;00m \u001b[04m\u001b[36msys\u001b[39;49;00m\r\n",
      "\u001b[34mimport\u001b[39;49;00m \u001b[04m\u001b[36msagemaker_containers\u001b[39;49;00m\r\n",
      "\u001b[34mimport\u001b[39;49;00m \u001b[04m\u001b[36mpandas\u001b[39;49;00m \u001b[34mas\u001b[39;49;00m \u001b[04m\u001b[36mpd\u001b[39;49;00m\r\n",
      "\u001b[34mimport\u001b[39;49;00m \u001b[04m\u001b[36mnumpy\u001b[39;49;00m \u001b[34mas\u001b[39;49;00m \u001b[04m\u001b[36mnp\u001b[39;49;00m\r\n",
      "\u001b[34mimport\u001b[39;49;00m \u001b[04m\u001b[36mtorch\u001b[39;49;00m\r\n",
      "\u001b[34mimport\u001b[39;49;00m \u001b[04m\u001b[36mtorch.nn\u001b[39;49;00m \u001b[34mas\u001b[39;49;00m \u001b[04m\u001b[36mnn\u001b[39;49;00m\r\n",
      "\u001b[34mimport\u001b[39;49;00m \u001b[04m\u001b[36mtorch.optim\u001b[39;49;00m \u001b[34mas\u001b[39;49;00m \u001b[04m\u001b[36moptim\u001b[39;49;00m\r\n",
      "\u001b[34mimport\u001b[39;49;00m \u001b[04m\u001b[36mtorch.utils.data\u001b[39;49;00m\r\n",
      "\r\n",
      "\u001b[34mfrom\u001b[39;49;00m \u001b[04m\u001b[36mmodel\u001b[39;49;00m \u001b[34mimport\u001b[39;49;00m LSTMClassifier\r\n",
      "\r\n",
      "\u001b[34mfrom\u001b[39;49;00m \u001b[04m\u001b[36mutils\u001b[39;49;00m \u001b[34mimport\u001b[39;49;00m review_to_words, convert_and_pad\r\n",
      "\r\n",
      "\u001b[34mdef\u001b[39;49;00m \u001b[32mmodel_fn\u001b[39;49;00m(model_dir):\r\n",
      "    \u001b[33m\"\"\"Load the PyTorch model from the `model_dir` directory.\"\"\"\u001b[39;49;00m\r\n",
      "    \u001b[34mprint\u001b[39;49;00m(\u001b[33m\"\u001b[39;49;00m\u001b[33mLoading model.\u001b[39;49;00m\u001b[33m\"\u001b[39;49;00m)\r\n",
      "\r\n",
      "    \u001b[37m# First, load the parameters used to create the model.\u001b[39;49;00m\r\n",
      "    model_info = {}\r\n",
      "    model_info_path = os.path.join(model_dir, \u001b[33m'\u001b[39;49;00m\u001b[33mmodel_info.pth\u001b[39;49;00m\u001b[33m'\u001b[39;49;00m)\r\n",
      "    \u001b[34mwith\u001b[39;49;00m \u001b[36mopen\u001b[39;49;00m(model_info_path, \u001b[33m'\u001b[39;49;00m\u001b[33mrb\u001b[39;49;00m\u001b[33m'\u001b[39;49;00m) \u001b[34mas\u001b[39;49;00m f:\r\n",
      "        model_info = torch.load(f)\r\n",
      "\r\n",
      "    \u001b[34mprint\u001b[39;49;00m(\u001b[33m\"\u001b[39;49;00m\u001b[33mmodel_info: {}\u001b[39;49;00m\u001b[33m\"\u001b[39;49;00m.format(model_info))\r\n",
      "\r\n",
      "    \u001b[37m# Determine the device and construct the model.\u001b[39;49;00m\r\n",
      "    device = torch.device(\u001b[33m\"\u001b[39;49;00m\u001b[33mcuda\u001b[39;49;00m\u001b[33m\"\u001b[39;49;00m \u001b[34mif\u001b[39;49;00m torch.cuda.is_available() \u001b[34melse\u001b[39;49;00m \u001b[33m\"\u001b[39;49;00m\u001b[33mcpu\u001b[39;49;00m\u001b[33m\"\u001b[39;49;00m)\r\n",
      "    model = LSTMClassifier(model_info[\u001b[33m'\u001b[39;49;00m\u001b[33membedding_dim\u001b[39;49;00m\u001b[33m'\u001b[39;49;00m], model_info[\u001b[33m'\u001b[39;49;00m\u001b[33mhidden_dim\u001b[39;49;00m\u001b[33m'\u001b[39;49;00m], model_info[\u001b[33m'\u001b[39;49;00m\u001b[33mvocab_size\u001b[39;49;00m\u001b[33m'\u001b[39;49;00m])\r\n",
      "\r\n",
      "    \u001b[37m# Load the store model parameters.\u001b[39;49;00m\r\n",
      "    model_path = os.path.join(model_dir, \u001b[33m'\u001b[39;49;00m\u001b[33mmodel.pth\u001b[39;49;00m\u001b[33m'\u001b[39;49;00m)\r\n",
      "    \u001b[34mwith\u001b[39;49;00m \u001b[36mopen\u001b[39;49;00m(model_path, \u001b[33m'\u001b[39;49;00m\u001b[33mrb\u001b[39;49;00m\u001b[33m'\u001b[39;49;00m) \u001b[34mas\u001b[39;49;00m f:\r\n",
      "        model.load_state_dict(torch.load(f))\r\n",
      "\r\n",
      "    \u001b[37m# Load the saved word_dict.\u001b[39;49;00m\r\n",
      "    word_dict_path = os.path.join(model_dir, \u001b[33m'\u001b[39;49;00m\u001b[33mword_dict.pkl\u001b[39;49;00m\u001b[33m'\u001b[39;49;00m)\r\n",
      "    \u001b[34mwith\u001b[39;49;00m \u001b[36mopen\u001b[39;49;00m(word_dict_path, \u001b[33m'\u001b[39;49;00m\u001b[33mrb\u001b[39;49;00m\u001b[33m'\u001b[39;49;00m) \u001b[34mas\u001b[39;49;00m f:\r\n",
      "        model.word_dict = pickle.load(f)\r\n",
      "\r\n",
      "    model.to(device).eval()\r\n",
      "\r\n",
      "    \u001b[34mprint\u001b[39;49;00m(\u001b[33m\"\u001b[39;49;00m\u001b[33mDone loading model.\u001b[39;49;00m\u001b[33m\"\u001b[39;49;00m)\r\n",
      "    \u001b[34mreturn\u001b[39;49;00m model\r\n",
      "\r\n",
      "\u001b[34mdef\u001b[39;49;00m \u001b[32minput_fn\u001b[39;49;00m(serialized_input_data, content_type):\r\n",
      "    \u001b[34mprint\u001b[39;49;00m(\u001b[33m'\u001b[39;49;00m\u001b[33mDeserializing the input data.\u001b[39;49;00m\u001b[33m'\u001b[39;49;00m)\r\n",
      "    \u001b[34mif\u001b[39;49;00m content_type == \u001b[33m'\u001b[39;49;00m\u001b[33mtext/plain\u001b[39;49;00m\u001b[33m'\u001b[39;49;00m:\r\n",
      "        data = serialized_input_data.decode(\u001b[33m'\u001b[39;49;00m\u001b[33mutf-8\u001b[39;49;00m\u001b[33m'\u001b[39;49;00m)\r\n",
      "        \u001b[34mreturn\u001b[39;49;00m data\r\n",
      "    \u001b[34mraise\u001b[39;49;00m \u001b[36mException\u001b[39;49;00m(\u001b[33m'\u001b[39;49;00m\u001b[33mRequested unsupported ContentType in content_type: \u001b[39;49;00m\u001b[33m'\u001b[39;49;00m + content_type)\r\n",
      "\r\n",
      "\u001b[34mdef\u001b[39;49;00m \u001b[32moutput_fn\u001b[39;49;00m(prediction_output, accept):\r\n",
      "    \u001b[34mprint\u001b[39;49;00m(\u001b[33m'\u001b[39;49;00m\u001b[33mSerializing the generated output.\u001b[39;49;00m\u001b[33m'\u001b[39;49;00m)\r\n",
      "    \u001b[34mreturn\u001b[39;49;00m \u001b[36mstr\u001b[39;49;00m(prediction_output)\r\n",
      "\r\n",
      "\u001b[34mdef\u001b[39;49;00m \u001b[32mpredict_fn\u001b[39;49;00m(input_data, model):\r\n",
      "    \u001b[34mprint\u001b[39;49;00m(\u001b[33m'\u001b[39;49;00m\u001b[33mInferring sentiment of input data.\u001b[39;49;00m\u001b[33m'\u001b[39;49;00m)\r\n",
      "\r\n",
      "    device = torch.device(\u001b[33m\"\u001b[39;49;00m\u001b[33mcuda\u001b[39;49;00m\u001b[33m\"\u001b[39;49;00m \u001b[34mif\u001b[39;49;00m torch.cuda.is_available() \u001b[34melse\u001b[39;49;00m \u001b[33m\"\u001b[39;49;00m\u001b[33mcpu\u001b[39;49;00m\u001b[33m\"\u001b[39;49;00m)\r\n",
      "    \r\n",
      "    \u001b[34mif\u001b[39;49;00m model.word_dict \u001b[35mis\u001b[39;49;00m \u001b[36mNone\u001b[39;49;00m:\r\n",
      "        \u001b[34mraise\u001b[39;49;00m \u001b[36mException\u001b[39;49;00m(\u001b[33m'\u001b[39;49;00m\u001b[33mModel has not been loaded properly, no word_dict.\u001b[39;49;00m\u001b[33m'\u001b[39;49;00m)\r\n",
      "    \r\n",
      "    \u001b[37m# TODO: Process input_data so that it is ready to be sent to our model.\u001b[39;49;00m\r\n",
      "    \u001b[37m#       You should produce two variables:\u001b[39;49;00m\r\n",
      "    \u001b[37m#         data_X   - A sequence of length 500 which represents the converted review\u001b[39;49;00m\r\n",
      "    \u001b[37m#         data_len - The length of the review\u001b[39;49;00m\r\n",
      "\r\n",
      "    data_X = \u001b[36mNone\u001b[39;49;00m\r\n",
      "    data_len = \u001b[36mNone\u001b[39;49;00m\r\n",
      "\r\n",
      "    \u001b[37m# Using data_X and data_len we construct an appropriate input tensor. Remember\u001b[39;49;00m\r\n",
      "    \u001b[37m# that our model expects input data of the form 'len, review[500]'.\u001b[39;49;00m\r\n",
      "    data_pack = np.hstack((data_len, data_X))\r\n",
      "    data_pack = data_pack.reshape(\u001b[34m1\u001b[39;49;00m, -\u001b[34m1\u001b[39;49;00m)\r\n",
      "    \r\n",
      "    data = torch.from_numpy(data_pack)\r\n",
      "    data = data.to(device)\r\n",
      "\r\n",
      "    \u001b[37m# Make sure to put the model into evaluation mode\u001b[39;49;00m\r\n",
      "    model.eval()\r\n",
      "\r\n",
      "    \u001b[37m# TODO: Compute the result of applying the model to the input data. The variable `result` should\u001b[39;49;00m\r\n",
      "    \u001b[37m#       be a numpy array which contains a single integer which is either 1 or 0\u001b[39;49;00m\r\n",
      "\r\n",
      "    result = \u001b[36mNone\u001b[39;49;00m\r\n",
      "\r\n",
      "    \u001b[34mreturn\u001b[39;49;00m result\r\n"
     ]
    }
   ],
   "source": [
    "!pygmentize serve/predict.py"
   ]
  },
  {
   "cell_type": "markdown",
   "metadata": {},
   "source": [
    "As mentioned earlier, the `model_fn` method is the same as the one provided in the training code and the `input_fn` and `output_fn` methods are very simple and your task will be to complete the `predict_fn` method. Make sure that you save the completed file as `predict.py` in the `serve` directory.\n",
    "\n",
    "**TODO**: Complete the `predict_fn()` method in the `serve/predict.py` file."
   ]
  },
  {
   "cell_type": "markdown",
   "metadata": {},
   "source": [
    "### Deploying the model\n",
    "\n",
    "Now that the custom inference code has been written, we will create and deploy our model. To begin with, we need to construct a new PyTorchModel object which points to the model artifacts created during training and also points to the inference code that we wish to use. Then we can call the deploy method to launch the deployment container.\n",
    "\n",
    "**NOTE**: The default behaviour for a deployed PyTorch model is to assume that any input passed to the predictor is a `numpy` array. In our case we want to send a string so we need to construct a simple wrapper around the `RealTimePredictor` class to accomodate simple strings. In a more complicated situation you may want to provide a serialization object, for example if you wanted to sent image data."
   ]
  },
  {
   "cell_type": "code",
   "execution_count": 100,
   "metadata": {},
   "outputs": [
    {
     "name": "stdout",
     "output_type": "stream",
     "text": [
      "---------------------------------------------------------------------------------------!"
     ]
    }
   ],
   "source": [
    "from sagemaker.predictor import RealTimePredictor\n",
    "from sagemaker.pytorch import PyTorchModel\n",
    "\n",
    "class StringPredictor(RealTimePredictor):\n",
    "    def __init__(self, endpoint_name, sagemaker_session):\n",
    "        super(StringPredictor, self).__init__(endpoint_name, sagemaker_session, content_type='text/plain')\n",
    "\n",
    "model = PyTorchModel(model_data=estimator.model_data,\n",
    "                     role = role,\n",
    "                     framework_version='0.4.0',\n",
    "                     entry_point='predict.py',\n",
    "                     source_dir='serve',\n",
    "                     predictor_cls=StringPredictor)\n",
    "predictor = model.deploy(initial_instance_count=1, instance_type='ml.m4.xlarge')"
   ]
  },
  {
   "cell_type": "markdown",
   "metadata": {},
   "source": [
    "### Testing the model\n",
    "\n",
    "Now that we have deployed our model with the custom inference code, we should test to see if everything is working. Here we test our model by loading the first `250` positive and negative reviews and send them to the endpoint, then collect the results. The reason for only sending some of the data is that the amount of time it takes for our model to process the input and then perform inference is quite long and so testing the entire data set would be prohibitive."
   ]
  },
  {
   "cell_type": "code",
   "execution_count": 95,
   "metadata": {},
   "outputs": [],
   "source": [
    "import glob\n",
    "\n",
    "def test_reviews(data_dir='../data/aclImdb', stop=250):\n",
    "    \n",
    "    results = []\n",
    "    ground = []\n",
    "    \n",
    "    # We make sure to test both positive and negative reviews    \n",
    "    for sentiment in ['pos', 'neg']:\n",
    "        \n",
    "        path = os.path.join(data_dir, 'test', sentiment, '*.txt')\n",
    "        files = glob.glob(path)\n",
    "        \n",
    "        files_read = 0\n",
    "        \n",
    "        print('Starting ', sentiment, ' files')\n",
    "        \n",
    "        # Iterate through the files and send them to the predictor\n",
    "        for f in files:\n",
    "            with open(f) as review:\n",
    "                # First, we store the ground truth (was the review positive or negative)\n",
    "                if sentiment == 'pos':\n",
    "                    ground.append(1)\n",
    "                else:\n",
    "                    ground.append(0)\n",
    "                # Read in the review and convert to 'utf-8' for transmission via HTTP\n",
    "                review_input = review.read().encode('utf-8')\n",
    "                # Send the review to the predictor and store the results\n",
    "                results.append(int(float(predictor.predict(review_input))))\n",
    "                \n",
    "            # Sending reviews to our endpoint one at a time takes a while so we\n",
    "            # only send a small number of reviews\n",
    "            files_read += 1\n",
    "            if files_read == stop:\n",
    "                break\n",
    "            \n",
    "    return ground, results"
   ]
  },
  {
   "cell_type": "code",
   "execution_count": 96,
   "metadata": {},
   "outputs": [
    {
     "name": "stdout",
     "output_type": "stream",
     "text": [
      "Starting  pos  files\n",
      "Starting  neg  files\n"
     ]
    }
   ],
   "source": [
    "ground, results = test_reviews()"
   ]
  },
  {
   "cell_type": "code",
   "execution_count": 97,
   "metadata": {},
   "outputs": [
    {
     "data": {
      "text/plain": [
       "0.858"
      ]
     },
     "execution_count": 97,
     "metadata": {},
     "output_type": "execute_result"
    }
   ],
   "source": [
    "from sklearn.metrics import accuracy_score\n",
    "accuracy_score(ground, results)"
   ]
  },
  {
   "cell_type": "markdown",
   "metadata": {},
   "source": [
    "As an additional test, we can try sending the `test_review` that we looked at earlier."
   ]
  },
  {
   "cell_type": "code",
   "execution_count": 98,
   "metadata": {},
   "outputs": [
    {
     "data": {
      "text/plain": [
       "b'1.0'"
      ]
     },
     "execution_count": 98,
     "metadata": {},
     "output_type": "execute_result"
    }
   ],
   "source": [
    "predictor.predict(test_review)"
   ]
  },
  {
   "cell_type": "markdown",
   "metadata": {},
   "source": [
    "Now that we know our endpoint is working as expected, we can set up the web page that will interact with it. If you don't have time to finish the project now, make sure to skip down to the end of this notebook and shut down your endpoint. You can deploy it again when you come back."
   ]
  },
  {
   "cell_type": "markdown",
   "metadata": {},
   "source": [
    "## Step 7 (again): Use the model for the web app\n",
    "\n",
    "> **TODO:** This entire section and the next contain tasks for you to complete, mostly using the AWS console.\n",
    "\n",
    "So far we have been accessing our model endpoint by constructing a predictor object which uses the endpoint and then just using the predictor object to perform inference. What if we wanted to create a web app which accessed our model? The way things are set up currently makes that not possible since in order to access a SageMaker endpoint the app would first have to authenticate with AWS using an IAM role which included access to SageMaker endpoints. However, there is an easier way! We just need to use some additional AWS services.\n",
    "\n",
    "<img src=\"Web App Diagram.svg\">\n",
    "\n",
    "The diagram above gives an overview of how the various services will work together. On the far right is the model which we trained above and which is deployed using SageMaker. On the far left is our web app that collects a user's movie review, sends it off and expects a positive or negative sentiment in return.\n",
    "\n",
    "In the middle is where some of the magic happens. We will construct a Lambda function, which you can think of as a straightforward Python function that can be executed whenever a specified event occurs. We will give this function permission to send and recieve data from a SageMaker endpoint.\n",
    "\n",
    "Lastly, the method we will use to execute the Lambda function is a new endpoint that we will create using API Gateway. This endpoint will be a url that listens for data to be sent to it. Once it gets some data it will pass that data on to the Lambda function and then return whatever the Lambda function returns. Essentially it will act as an interface that lets our web app communicate with the Lambda function.\n",
    "\n",
    "### Setting up a Lambda function\n",
    "\n",
    "The first thing we are going to do is set up a Lambda function. This Lambda function will be executed whenever our public API has data sent to it. When it is executed it will receive the data, perform any sort of processing that is required, send the data (the review) to the SageMaker endpoint we've created and then return the result.\n",
    "\n",
    "#### Part A: Create an IAM Role for the Lambda function\n",
    "\n",
    "Since we want the Lambda function to call a SageMaker endpoint, we need to make sure that it has permission to do so. To do this, we will construct a role that we can later give the Lambda function.\n",
    "\n",
    "Using the AWS Console, navigate to the **IAM** page and click on **Roles**. Then, click on **Create role**. Make sure that the **AWS service** is the type of trusted entity selected and choose **Lambda** as the service that will use this role, then click **Next: Permissions**.\n",
    "\n",
    "In the search box type `sagemaker` and select the check box next to the **AmazonSageMakerFullAccess** policy. Then, click on **Next: Review**.\n",
    "\n",
    "Lastly, give this role a name. Make sure you use a name that you will remember later on, for example `LambdaSageMakerRole`. Then, click on **Create role**.\n",
    "\n",
    "#### Part B: Create a Lambda function\n",
    "\n",
    "Now it is time to actually create the Lambda function.\n",
    "\n",
    "Using the AWS Console, navigate to the AWS Lambda page and click on **Create a function**. When you get to the next page, make sure that **Author from scratch** is selected. Now, name your Lambda function, using a name that you will remember later on, for example `sentiment_analysis_func`. Make sure that the **Python 3.6** runtime is selected and then choose the role that you created in the previous part. Then, click on **Create Function**.\n",
    "\n",
    "On the next page you will see some information about the Lambda function you've just created. If you scroll down you should see an editor in which you can write the code that will be executed when your Lambda function is triggered. In our example, we will use the code below. \n",
    "\n",
    "```python\n",
    "# We need to use the low-level library to interact with SageMaker since the SageMaker API\n",
    "# is not available natively through Lambda.\n",
    "import boto3\n",
    "\n",
    "def lambda_handler(event, context):\n",
    "\n",
    "    # The SageMaker runtime is what allows us to invoke the endpoint that we've created.\n",
    "    runtime = boto3.Session().client('sagemaker-runtime')\n",
    "\n",
    "    # Now we use the SageMaker runtime to invoke our endpoint, sending the review we were given\n",
    "    response = runtime.invoke_endpoint(EndpointName = '**ENDPOINT NAME HERE**',    # The name of the endpoint we created\n",
    "                                       ContentType = 'text/plain',                 # The data format that is expected\n",
    "                                       Body = event['body'])                       # The actual review\n",
    "\n",
    "    # The response is an HTTP response whose body contains the result of our inference\n",
    "    result = response['Body'].read().decode('utf-8')\n",
    "\n",
    "    return {\n",
    "        'statusCode' : 200,\n",
    "        'headers' : { 'Content-Type' : 'text/plain', 'Access-Control-Allow-Origin' : '*' },\n",
    "        'body' : result\n",
    "    }\n",
    "```\n",
    "\n",
    "Once you have copy and pasted the code above into the Lambda code editor, replace the `**ENDPOINT NAME HERE**` portion with the name of the endpoint that we deployed earlier. You can determine the name of the endpoint using the code cell below."
   ]
  },
  {
   "cell_type": "code",
   "execution_count": 101,
   "metadata": {},
   "outputs": [
    {
     "data": {
      "text/plain": [
       "'sagemaker-pytorch-2019-05-16-21-01-49-682'"
      ]
     },
     "execution_count": 101,
     "metadata": {},
     "output_type": "execute_result"
    }
   ],
   "source": [
    "predictor.endpoint"
   ]
  },
  {
   "cell_type": "markdown",
   "metadata": {},
   "source": [
    "Once you have added the endpoint name to the Lambda function, click on **Save**. Your Lambda function is now up and running. Next we need to create a way for our web app to execute the Lambda function.\n",
    "\n",
    "### Setting up API Gateway\n",
    "\n",
    "Now that our Lambda function is set up, it is time to create a new API using API Gateway that will trigger the Lambda function we have just created.\n",
    "\n",
    "Using AWS Console, navigate to **Amazon API Gateway** and then click on **Get started**.\n",
    "\n",
    "On the next page, make sure that **New API** is selected and give the new api a name, for example, `sentiment_analysis_api`. Then, click on **Create API**.\n",
    "\n",
    "Now we have created an API, however it doesn't currently do anything. What we want it to do is to trigger the Lambda function that we created earlier.\n",
    "\n",
    "Select the **Actions** dropdown menu and click **Create Method**. A new blank method will be created, select its dropdown menu and select **POST**, then click on the check mark beside it.\n",
    "\n",
    "For the integration point, make sure that **Lambda Function** is selected and click on the **Use Lambda Proxy integration**. This option makes sure that the data that is sent to the API is then sent directly to the Lambda function with no processing. It also means that the return value must be a proper response object as it will also not be processed by API Gateway.\n",
    "\n",
    "Type the name of the Lambda function you created earlier into the **Lambda Function** text entry box and then click on **Save**. Click on **OK** in the pop-up box that then appears, giving permission to API Gateway to invoke the Lambda function you created.\n",
    "\n",
    "The last step in creating the API Gateway is to select the **Actions** dropdown and click on **Deploy API**. You will need to create a new Deployment stage and name it anything you like, for example `prod`.\n",
    "\n",
    "You have now successfully set up a public API to access your SageMaker model. Make sure to copy or write down the URL provided to invoke your newly created public API as this will be needed in the next step. This URL can be found at the top of the page, highlighted in blue next to the text **Invoke URL**."
   ]
  },
  {
   "cell_type": "markdown",
   "metadata": {},
   "source": [
    "## Step 4: Deploying our web app\n",
    "\n",
    "Now that we have a publicly available API, we can start using it in a web app. For our purposes, we have provided a simple static html file which can make use of the public api you created earlier.\n",
    "\n",
    "In the `website` folder there should be a file called `index.html`. Download the file to your computer and open that file up in a text editor of your choice. There should be a line which contains **\\*\\*REPLACE WITH PUBLIC API URL\\*\\***. Replace this string with the url that you wrote down in the last step and then save the file.\n",
    "\n",
    "Now, if you open `index.html` on your local computer, your browser will behave as a local web server and you can use the provided site to interact with your SageMaker model.\n",
    "\n",
    "If you'd like to go further, you can host this html file anywhere you'd like, for example using github or hosting a static site on Amazon's S3. Once you have done this you can share the link with anyone you'd like and have them play with it too!\n",
    "\n",
    "> **Important Note** In order for the web app to communicate with the SageMaker endpoint, the endpoint has to actually be deployed and running. This means that you are paying for it. Make sure that the endpoint is running when you want to use the web app but that you shut it down when you don't need it, otherwise you will end up with a surprisingly large AWS bill.\n",
    "\n",
    "**TODO:** Make sure that you include the edited `index.html` file in your project submission."
   ]
  },
  {
   "cell_type": "markdown",
   "metadata": {},
   "source": [
    "Now that your web app is working, trying playing around with it and see how well it works.\n",
    "\n",
    "**Question**: Give an example of a review that you entered into your web app. What was the predicted sentiment of your example review?"
   ]
  },
  {
   "cell_type": "markdown",
   "metadata": {},
   "source": [
    "**Answer:**\n",
    "\n",
    "- Example 1: Harrison Ford is brilliant -> Positive\n",
    "- Example 2: This movie is horrible. Just so boring. -> Negative\n",
    "- Example 3: Awesome -> Positive\n",
    "- Example 4: just boring and annoying -> Negative\n",
    "\n",
    "Difficult:\n",
    "- Example 5: Awesome horrible -> negative\n",
    "- Example 6: Didn't like it -> positive"
   ]
  },
  {
   "cell_type": "markdown",
   "metadata": {},
   "source": [
    "### Delete the endpoint\n",
    "\n",
    "Remember to always shut down your endpoint if you are no longer using it. You are charged for the length of time that the endpoint is running so if you forget and leave it on you could end up with an unexpectedly large bill."
   ]
  },
  {
   "cell_type": "code",
   "execution_count": 102,
   "metadata": {},
   "outputs": [],
   "source": [
    "predictor.delete_endpoint()"
   ]
  }
 ],
 "metadata": {
  "kernelspec": {
   "display_name": "conda_pytorch_p36",
   "language": "python",
   "name": "conda_pytorch_p36"
  },
  "language_info": {
   "codemirror_mode": {
    "name": "ipython",
    "version": 3
   },
   "file_extension": ".py",
   "mimetype": "text/x-python",
   "name": "python",
   "nbconvert_exporter": "python",
   "pygments_lexer": "ipython3",
   "version": "3.6.5"
  }
 },
 "nbformat": 4,
 "nbformat_minor": 2
}
